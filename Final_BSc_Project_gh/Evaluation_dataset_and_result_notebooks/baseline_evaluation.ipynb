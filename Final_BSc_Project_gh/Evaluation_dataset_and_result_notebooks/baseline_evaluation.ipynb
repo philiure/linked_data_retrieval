{
  "cells": [
    {
      "cell_type": "markdown",
      "metadata": {
        "id": "tJOD-q5xFYDu"
      },
      "source": [
        "# Evaluation Notebook Baseline"
      ]
    },
    {
      "cell_type": "code",
      "execution_count": null,
      "metadata": {
        "id": "Xo6VQdRwFYDv",
        "outputId": "75e63dc9-dc9e-4230-df5d-4ecae54eb139"
      },
      "outputs": [
        {
          "name": "stdout",
          "output_type": "stream",
          "text": [
            "10\n"
          ]
        }
      ],
      "source": [
        "import multiprocessing\n",
        "print(multiprocessing.cpu_count())"
      ]
    },
    {
      "cell_type": "code",
      "execution_count": null,
      "metadata": {
        "id": "GgZSAAIeFYDw"
      },
      "outputs": [],
      "source": [
        "# Loading the pickled queries and index\n",
        "import _pickle as pickle\n",
        "import bz2\n",
        "import pandas as pd\n",
        "\n",
        "eval_queries = pickle.load(bz2.BZ2File('eval_queries.pkl.bz2', 'rb'))"
      ]
    },
    {
      "cell_type": "code",
      "execution_count": null,
      "metadata": {
        "id": "TIgHKxAiFYDx",
        "outputId": "5254380a-10d9-40c1-fe9a-2ffd8810be22"
      },
      "outputs": [
        {
          "data": {
            "text/plain": [
              "1398"
            ]
          },
          "execution_count": 120,
          "metadata": {},
          "output_type": "execute_result"
        }
      ],
      "source": [
        "lengths = [len(i)+len(j) for i, j in zip(eval_queries['very_relevant_entities'], eval_queries['relevant_entities'])]\n",
        "max(lengths)"
      ]
    },
    {
      "cell_type": "code",
      "execution_count": null,
      "metadata": {
        "id": "1whSTSoEFYDx"
      },
      "outputs": [],
      "source": [
        "# Loading the pickled queries and index\n",
        "import pickle\n",
        "import bz2\n",
        "import pandas as pd\n",
        "\n",
        "eval_queries = pickle.load(bz2.BZ2File('eval_queries.pkl.bz2', 'rb'))\n",
        "dbpedia_dict = pickle.load(bz2.BZ2File('10-2015_DBpedia.pkl.bz2', 'rb'))"
      ]
    },
    {
      "cell_type": "code",
      "execution_count": null,
      "metadata": {
        "id": "u-U-OzgsFYDx",
        "outputId": "9124466d-36fb-4a9f-c84a-6929ca07eb37"
      },
      "outputs": [
        {
          "data": {
            "text/html": [
              "<div>\n",
              "<style scoped>\n",
              "    .dataframe tbody tr th:only-of-type {\n",
              "        vertical-align: middle;\n",
              "    }\n",
              "\n",
              "    .dataframe tbody tr th {\n",
              "        vertical-align: top;\n",
              "    }\n",
              "\n",
              "    .dataframe thead th {\n",
              "        text-align: right;\n",
              "    }\n",
              "</style>\n",
              "<table border=\"1\" class=\"dataframe\">\n",
              "  <thead>\n",
              "    <tr style=\"text-align: right;\">\n",
              "      <th></th>\n",
              "      <th>queryID</th>\n",
              "      <th>query</th>\n",
              "      <th>relevant_entities</th>\n",
              "      <th>very_relevant_entities</th>\n",
              "    </tr>\n",
              "  </thead>\n",
              "  <tbody>\n",
              "    <tr>\n",
              "      <th>0</th>\n",
              "      <td>INEX_LD-2009022</td>\n",
              "      <td>Szechwan dish food cuisine</td>\n",
              "      <td>[&lt;dbpedia:Pao_cai&gt;, &lt;dbpedia:List_of_Chinese_d...</td>\n",
              "      <td>[&lt;dbpedia:Mapo_doufu&gt;, &lt;dbpedia:Mala_sauce&gt;, &lt;...</td>\n",
              "    </tr>\n",
              "    <tr>\n",
              "      <th>1</th>\n",
              "      <td>INEX_LD-2009039</td>\n",
              "      <td>roman architecture</td>\n",
              "      <td>[&lt;dbpedia:Pteron&gt;, &lt;dbpedia:Pula_Arena&gt;, &lt;dbpe...</td>\n",
              "      <td>[&lt;dbpedia:Roman_Architectural_Revolution&gt;, &lt;db...</td>\n",
              "    </tr>\n",
              "    <tr>\n",
              "      <th>2</th>\n",
              "      <td>INEX_LD-2009053</td>\n",
              "      <td>finland car industry manufacturer saab sisu</td>\n",
              "      <td>[&lt;dbpedia:Sisu_E13TP&gt;, &lt;dbpedia:Sisu_A-45&gt;, &lt;d...</td>\n",
              "      <td>[&lt;dbpedia:Sisu_Auto&gt;, &lt;dbpedia:Sisu_SA-150&gt;]</td>\n",
              "    </tr>\n",
              "    <tr>\n",
              "      <th>3</th>\n",
              "      <td>INEX_LD-2009061</td>\n",
              "      <td>france second world war normandy</td>\n",
              "      <td>[&lt;dbpedia:Operation_Cobra&gt;, &lt;dbpedia:Operation...</td>\n",
              "      <td>[&lt;dbpedia:Operation_Martlet&gt;, &lt;dbpedia:Operati...</td>\n",
              "    </tr>\n",
              "    <tr>\n",
              "      <th>4</th>\n",
              "      <td>INEX_LD-2009062</td>\n",
              "      <td>social network group selection</td>\n",
              "      <td>[&lt;dbpedia:Social_media&gt;, &lt;dbpedia:Social_Netwo...</td>\n",
              "      <td>[]</td>\n",
              "    </tr>\n",
              "  </tbody>\n",
              "</table>\n",
              "</div>"
            ],
            "text/plain": [
              "           queryID                                        query  \\\n",
              "0  INEX_LD-2009022                   Szechwan dish food cuisine   \n",
              "1  INEX_LD-2009039                           roman architecture   \n",
              "2  INEX_LD-2009053  finland car industry manufacturer saab sisu   \n",
              "3  INEX_LD-2009061             france second world war normandy   \n",
              "4  INEX_LD-2009062               social network group selection   \n",
              "\n",
              "                                   relevant_entities  \\\n",
              "0  [<dbpedia:Pao_cai>, <dbpedia:List_of_Chinese_d...   \n",
              "1  [<dbpedia:Pteron>, <dbpedia:Pula_Arena>, <dbpe...   \n",
              "2  [<dbpedia:Sisu_E13TP>, <dbpedia:Sisu_A-45>, <d...   \n",
              "3  [<dbpedia:Operation_Cobra>, <dbpedia:Operation...   \n",
              "4  [<dbpedia:Social_media>, <dbpedia:Social_Netwo...   \n",
              "\n",
              "                              very_relevant_entities  \n",
              "0  [<dbpedia:Mapo_doufu>, <dbpedia:Mala_sauce>, <...  \n",
              "1  [<dbpedia:Roman_Architectural_Revolution>, <db...  \n",
              "2       [<dbpedia:Sisu_Auto>, <dbpedia:Sisu_SA-150>]  \n",
              "3  [<dbpedia:Operation_Martlet>, <dbpedia:Operati...  \n",
              "4                                                 []  "
            ]
          },
          "execution_count": 16,
          "metadata": {},
          "output_type": "execute_result"
        }
      ],
      "source": [
        "eval_queries.head(5)"
      ]
    },
    {
      "cell_type": "code",
      "execution_count": null,
      "metadata": {
        "id": "c_dozkDTFYDx",
        "outputId": "c4397918-23ef-4a65-b32b-3cb88367d967"
      },
      "outputs": [
        {
          "data": {
            "text/plain": [
              "{'subject': 'http://dbpedia.org/resource/AfghanistanHistory',\n",
              " 'predicate': 'http://www.w3.org/2000/01/rdf-schema#label',\n",
              " 'object': 'AfghanistanHistory'}"
            ]
          },
          "execution_count": 45,
          "metadata": {},
          "output_type": "execute_result"
        }
      ],
      "source": [
        "dbpedia_dict[0]"
      ]
    },
    {
      "cell_type": "markdown",
      "metadata": {
        "id": "EYZuLlbAFYDx"
      },
      "source": [
        "# Evaluating the IRS"
      ]
    },
    {
      "cell_type": "code",
      "execution_count": null,
      "metadata": {
        "id": "6kpLXnkiFYDy"
      },
      "outputs": [],
      "source": [
        "import re\n",
        "\n",
        "def clean_subject(subj):\n",
        "    resource = re.split('#|/',subj)[-1]\n",
        "    return f'<dbpedia:{resource}>'\n"
      ]
    },
    {
      "cell_type": "code",
      "execution_count": null,
      "metadata": {
        "id": "PK6MRzbWFYDy",
        "outputId": "f6856a6d-84aa-4891-f0ec-a490d9c6b407"
      },
      "outputs": [
        {
          "data": {
            "text/plain": [
              "'<dbpedia:AnarchoCapitalists>'"
            ]
          },
          "execution_count": 50,
          "metadata": {},
          "output_type": "execute_result"
        }
      ],
      "source": [
        "s = dbpedia_dict[56]['subject']\n",
        "clean_subject(s)"
      ]
    },
    {
      "cell_type": "code",
      "execution_count": null,
      "metadata": {
        "id": "yjq9KkzEFYDy"
      },
      "outputs": [],
      "source": [
        "import bz2\n",
        "import _pickle as pickle\n",
        "import gc\n",
        "\n",
        "def save_file_pklbz2(filename:str, data):\n",
        "    gc.disable()\n",
        "    with bz2.BZ2File(f'{filename}.pkl.bz2', 'wb') as bzf:\n",
        "        pickle.dump(data, bzf, protocol=-1)\n",
        "    gc.enable()\n"
      ]
    },
    {
      "cell_type": "markdown",
      "metadata": {
        "id": "AWTozbtfFYDy"
      },
      "source": [
        "-------------------------------"
      ]
    },
    {
      "cell_type": "markdown",
      "metadata": {
        "id": "qYPv-woOFYDy"
      },
      "source": [
        "## Making the virtual documents for Inverted Index\n",
        "\n",
        "maybe seperate the vdocs from the index?"
      ]
    },
    {
      "cell_type": "code",
      "execution_count": null,
      "metadata": {
        "id": "XE7zayDmFYDy"
      },
      "outputs": [],
      "source": [
        "index = dbpedia_dict.copy()"
      ]
    },
    {
      "cell_type": "code",
      "execution_count": null,
      "metadata": {
        "id": "sWqjrzmBFYDz",
        "outputId": "9cc7e27b-7690-407a-e9fc-c056cb0de300"
      },
      "outputs": [
        {
          "name": "stderr",
          "output_type": "stream",
          "text": [
            "[nltk_data] Downloading package stopwords to\n",
            "[nltk_data]     /Users/philippe/nltk_data...\n",
            "[nltk_data]   Package stopwords is already up-to-date!\n",
            "[nltk_data] Downloading package wordnet to\n",
            "[nltk_data]     /Users/philippe/nltk_data...\n",
            "[nltk_data]   Package wordnet is already up-to-date!\n"
          ]
        }
      ],
      "source": [
        "from urllib.parse import urlparse\n",
        "import nltk\n",
        "import re\n",
        "nltk.download('stopwords')\n",
        "nltk.download('wordnet')\n",
        "from nltk.corpus import stopwords\n",
        "from nltk.stem import WordNetLemmatizer\n",
        "\n",
        "stop_words = set(stopwords.words(\"english\"))\n",
        "lemmatizer = WordNetLemmatizer()\n",
        "\n",
        "# text preprocessing function for the uri | returns virtual document\n",
        "def URI_processing(URI):\n",
        "  final = ''\n",
        "  # getting resource name from IRI\n",
        "  resource = re.split('/',URI)[-1]\n",
        "  # getting domain name from IRI\n",
        "  domain = urlparse(URI).netloc\n",
        "  # remove camelcase from IRI     \n",
        "  un_camel_list = re.split('(?=[A-Z])', resource) \n",
        "  un_camel = ' '.join(un_camel_list).lower() \n",
        "  # remove underscores from IRI\n",
        "  cleaned_resource = un_camel.replace('_',' ').replace('-', ' ').replace('#', ' ')\n",
        "\n",
        "  final +=  f'{URI}  {domain} {resource} {cleaned_resource.lower()}' # data from URI\n",
        "\n",
        "  return final\n",
        "\n",
        "\n",
        "def litteral_processing(litteral):\n",
        "  #removes special chars\n",
        "  litteral = re.sub('[^A-Za-z0-9]+', ' ', litteral)\n",
        "  #removes non ASCII\n",
        "  litteral = re.sub('[^\\x00-\\x7F]+', ' ', litteral)\n",
        "  #lowering litteral\n",
        "  litteral = litteral.lower()\n",
        "  #removes numbers\n",
        "  litteral = re.sub('\\d+', ' ', litteral)\n",
        "  #removes stopwords\n",
        "  litteral = ' '.join([word for word in litteral.split() if word not in stop_words])\n",
        "  #lemmaziter\n",
        "  litteral = ' '.join([lemmatizer.lemmatize(word) for word in litteral.split()])\n",
        "  #removes double spaces\n",
        "  litteral = re.sub(' +', ' ', litteral)\n",
        "\n",
        "  return litteral"
      ]
    },
    {
      "cell_type": "markdown",
      "metadata": {
        "id": "spgIoIAPFYDz"
      },
      "source": [
        "### Making Virtual Documents Inverted Index"
      ]
    },
    {
      "cell_type": "code",
      "execution_count": null,
      "metadata": {
        "id": "wBS9Xci1FYDz"
      },
      "outputs": [],
      "source": [
        "lib = dict() # virtual document library"
      ]
    },
    {
      "cell_type": "code",
      "execution_count": null,
      "metadata": {
        "id": "8f5tQ13yFYDz"
      },
      "outputs": [],
      "source": [
        "# Creating vdocs\n",
        "for id in index.keys():\n",
        "  sub = index[id]['subject']\n",
        "  pred =index[id]['predicate']\n",
        "  obj = index[id]['object']\n",
        "  description = \"\"\n",
        "\n",
        "  description += f'{URI_processing(sub)} {URI_processing(pred)} '\n",
        "  \n",
        "  # OBJECT CAN BE URI OR LITTERAL\n",
        "  if obj[:5] == 'http':\n",
        "    description += URI_processing(obj) # treat the object as an IRI\n",
        "\n",
        "  # in case the object is a litteral:\n",
        "  else:\n",
        "    description += litteral_processing(obj) # processing litteral\n",
        "\n",
        "  # index[id]['virtual_doc'] = description\n",
        "  lib[id]=description"
      ]
    },
    {
      "cell_type": "code",
      "execution_count": null,
      "metadata": {
        "id": "sCIiZipfFYD0",
        "outputId": "1bb22d5f-701a-47dd-8416-f8f1be79c150"
      },
      "outputs": [
        {
          "data": {
            "text/plain": [
              "('http://dbpedia.org/resource/AfghanistanHistory  dbpedia.org AfghanistanHistory  afghanistan history http://www.w3.org/2000/01/rdf-schema#label  www.w3.org rdf-schema#label rdf schema label afghanistanhistory',\n",
              " {'subject': 'http://dbpedia.org/resource/AfghanistanHistory',\n",
              "  'predicate': 'http://www.w3.org/2000/01/rdf-schema#label',\n",
              "  'object': 'AfghanistanHistory'})"
            ]
          },
          "execution_count": 39,
          "metadata": {},
          "output_type": "execute_result"
        }
      ],
      "source": [
        "lib[1], index[1]"
      ]
    },
    {
      "cell_type": "markdown",
      "metadata": {
        "id": "GmJPRD8VFYD0"
      },
      "source": [
        "### Saving Library Virtual Documents & Size analysis"
      ]
    },
    {
      "cell_type": "code",
      "execution_count": null,
      "metadata": {
        "id": "N9QvoIiSFYD0"
      },
      "outputs": [],
      "source": [
        "# saving dictionairy of virtual docs\n",
        "save_file_pklbz2('library_vdocs', lib)"
      ]
    },
    {
      "cell_type": "code",
      "execution_count": null,
      "metadata": {
        "id": "FShZImobFYD0"
      },
      "outputs": [],
      "source": [
        "import bz2\n",
        "import _pickle as pickle\n",
        "# loading dictionairy of virtual docs\n",
        "\n",
        "lib = pickle.load(bz2.BZ2File('library_vdocs.pkl.bz2', 'rb'))"
      ]
    },
    {
      "cell_type": "code",
      "execution_count": null,
      "metadata": {
        "id": "ZdPxFlMhFYD0"
      },
      "outputs": [],
      "source": [
        "# Let's check the size differences in the compression\n",
        "import sys\n",
        "import os\n",
        "\n",
        "def print_sizes_objects(objects):\n",
        "    for o in objects:\n",
        "        size = sys.getsizeof(o)\n",
        "        print(f'Object: {type(o)}\\n{size} Bytes\\n{size*(10**-9)} GB')\n",
        "        print('---------------------------')\n",
        "\n",
        "def print_sizes_files(files):\n",
        "    for f in files:\n",
        "        size = os.path.getsize(f)\n",
        "        print(f'Filename: {f}\\n{size} Bytes\\n{size*(10**-9)} GB')\n",
        "        print('---------------------------')"
      ]
    },
    {
      "cell_type": "markdown",
      "metadata": {
        "id": "nENSuviiFYD1"
      },
      "source": []
    },
    {
      "cell_type": "code",
      "execution_count": null,
      "metadata": {
        "id": "bKkWhmNeFYD1",
        "outputId": "7dfdc4c7-88ae-4662-ebe7-415a4b5e3e5b"
      },
      "outputs": [
        {
          "name": "stdout",
          "output_type": "stream",
          "text": [
            "Filename: library_vdocs.pkl.bz2\n",
            "734876008 Bytes\n",
            "0.7348760080000001 GB\n",
            "---------------------------\n",
            "Object: <class 'dict'>\n",
            "671088736 Bytes\n",
            "0.6710887360000001 GB\n",
            "---------------------------\n"
          ]
        }
      ],
      "source": [
        "files = [\"library_vdocs.pkl.bz2\"]\n",
        "objects = [lib]\n",
        "\n",
        "print_sizes_files(files)\n",
        "print_sizes_objects(objects)"
      ]
    },
    {
      "cell_type": "code",
      "execution_count": null,
      "metadata": {
        "id": "Ab7BXa0TFYD1",
        "outputId": "485b31f1-0953-4efd-8154-d02c8ca634ab"
      },
      "outputs": [
        {
          "data": {
            "text/plain": [
              "{'subject': 'http://dbpedia.org/resource/AfghanistanHistory',\n",
              " 'predicate': 'http://www.w3.org/2000/01/rdf-schema#label',\n",
              " 'object': 'AfghanistanHistory'}"
            ]
          },
          "execution_count": 42,
          "metadata": {},
          "output_type": "execute_result"
        }
      ],
      "source": [
        "dbpedia_dict[1]"
      ]
    },
    {
      "cell_type": "code",
      "execution_count": null,
      "metadata": {
        "id": "qumk-1CvFYD1",
        "outputId": "865b7474-e35d-4fe7-f1be-eaec1a668bf4"
      },
      "outputs": [
        {
          "data": {
            "text/plain": [
              "{'subject': 'http://dbpedia.org/resource/AfghanistanHistory',\n",
              " 'predicate': 'http://www.w3.org/2000/01/rdf-schema#label',\n",
              " 'object': 'AfghanistanHistory'}"
            ]
          },
          "execution_count": 43,
          "metadata": {},
          "output_type": "execute_result"
        }
      ],
      "source": [
        "index[1]"
      ]
    },
    {
      "cell_type": "code",
      "execution_count": null,
      "metadata": {
        "id": "AClLd7fAFYD1",
        "outputId": "aac3f00c-af99-4c80-e0fb-93d81de90e8a"
      },
      "outputs": [
        {
          "data": {
            "text/plain": [
              "'http://dbpedia.org/resource/AfghanistanHistory  dbpedia.org AfghanistanHistory  afghanistan history http://www.w3.org/2000/01/rdf-schema#label  www.w3.org rdf-schema#label rdf schema label afghanistanhistory'"
            ]
          },
          "execution_count": 44,
          "metadata": {},
          "output_type": "execute_result"
        }
      ],
      "source": [
        "lib[1]"
      ]
    },
    {
      "cell_type": "markdown",
      "metadata": {
        "id": "hmi9548xFYD1"
      },
      "source": [
        "---------"
      ]
    },
    {
      "cell_type": "markdown",
      "metadata": {
        "id": "Wj7NLiy9FYD1"
      },
      "source": [
        "## Inverted Index & Term Frequency Matrix"
      ]
    },
    {
      "cell_type": "code",
      "execution_count": null,
      "metadata": {
        "id": "1W1B7DEeFYD1"
      },
      "outputs": [],
      "source": [
        "# making the inverted index & term frequency matrix\n",
        "from collections import defaultdict, Counter\n",
        "\n",
        "inverted_index = defaultdict(list)\n",
        "tf_matrix = defaultdict(Counter)\n",
        "\n",
        "\n",
        "for id in lib.keys():\n",
        "    tokens = litteral_processing(lib[id]).split()\n",
        "    tf_matrix[id] = dict(Counter(tokens))\n",
        "\n",
        "    term_set = set(tokens)\n",
        "    for term in term_set:\n",
        "        inverted_index[term].append(id)\n"
      ]
    },
    {
      "cell_type": "code",
      "execution_count": null,
      "metadata": {
        "id": "i6ab4E7KFYD1",
        "outputId": "eb7216a8-9b78-4e59-89b4-46ea520264bf"
      },
      "outputs": [
        {
          "name": "stdout",
          "output_type": "stream",
          "text": [
            "Filename: term_freq_matrix.pkl.bz2\n",
            "409860650 Bytes\n",
            "0.40986065000000005 GB\n",
            "---------------------------\n",
            "Filename: inverted_index.pkl.bz2\n",
            "556018003 Bytes\n",
            "0.556018003 GB\n",
            "---------------------------\n",
            "Object: <class 'collections.defaultdict'>\n",
            "671088744 Bytes\n",
            "0.6710887440000001 GB\n",
            "---------------------------\n",
            "Object: <class 'collections.defaultdict'>\n",
            "83886176 Bytes\n",
            "0.083886176 GB\n",
            "---------------------------\n"
          ]
        }
      ],
      "source": [
        "print_sizes_files(['term_freq_matrix.pkl.bz2', 'inverted_index.pkl.bz2'])\n",
        "print_sizes_objects([tf_matrix, inverted_index])"
      ]
    },
    {
      "cell_type": "code",
      "execution_count": null,
      "metadata": {
        "id": "9Py-0J3lFYD2",
        "outputId": "bc6cc56a-c439-40c5-a24d-4e8e8ea06d16"
      },
      "outputs": [
        {
          "name": "stdout",
          "output_type": "stream",
          "text": [
            "Number of virtual documents: 16640043.0\n"
          ]
        }
      ],
      "source": [
        "print(f'Number of virtual documents: {num_documents}')"
      ]
    },
    {
      "cell_type": "markdown",
      "metadata": {
        "id": "F0wHylY9FYD2"
      },
      "source": [
        "Number of virtual documents: 16640043."
      ]
    },
    {
      "cell_type": "markdown",
      "metadata": {
        "id": "zh-Uu7buFYD2"
      },
      "source": [
        "### Save/Load Inverted Index - Term Frequency Matrix"
      ]
    },
    {
      "cell_type": "code",
      "execution_count": null,
      "metadata": {
        "id": "IigdkaOTFYD2"
      },
      "outputs": [],
      "source": [
        "#Saving the inverted index \n",
        "\n",
        "save_file_pklbz2('inverted_index', inverted_index)"
      ]
    },
    {
      "cell_type": "code",
      "execution_count": null,
      "metadata": {
        "id": "4ejP0sX5FYD2"
      },
      "outputs": [],
      "source": [
        "#Saving the term frequency martix\n",
        "\n",
        "save_file_pklbz2('term_freq_matrix.pkl.bz2', tf_matrix)"
      ]
    },
    {
      "cell_type": "code",
      "execution_count": null,
      "metadata": {
        "id": "Sy2dgKlqFYD2"
      },
      "outputs": [],
      "source": [
        "# Loading the inverted index and term frequency matrix\n",
        "import _pickle as pickle\n",
        "import bz2\n",
        "\n",
        "inverted_index = pickle.load(bz2.BZ2File('inverted_index.pkl.bz2', 'rb'))\n",
        "tf_matrix = pickle.load(bz2.BZ2File('term_freq_matrix.pkl.bz2', 'rb'))"
      ]
    },
    {
      "cell_type": "code",
      "execution_count": null,
      "metadata": {
        "id": "NqrX9-wAFYD2",
        "outputId": "886b96a6-df51-4355-987c-f58d78bf81a1"
      },
      "outputs": [
        {
          "data": {
            "text/plain": [
              "[1]"
            ]
          },
          "execution_count": 7,
          "metadata": {},
          "output_type": "execute_result"
        }
      ],
      "source": [
        "inverted_index['afghanistanhistory']"
      ]
    },
    {
      "cell_type": "code",
      "execution_count": null,
      "metadata": {
        "id": "PChXa97fFYD2",
        "outputId": "b45de117-b2ea-41da-d03f-60877e1c30dd"
      },
      "outputs": [
        {
          "data": {
            "text/plain": [
              "{'http': 2,\n",
              " 'dbpedia': 2,\n",
              " 'org': 4,\n",
              " 'resource': 1,\n",
              " 'afghanistanhistory': 3,\n",
              " 'afghanistan': 1,\n",
              " 'history': 1,\n",
              " 'www': 2,\n",
              " 'w': 2,\n",
              " 'rdf': 3,\n",
              " 'schema': 3,\n",
              " 'label': 3}"
            ]
          },
          "execution_count": 7,
          "metadata": {},
          "output_type": "execute_result"
        }
      ],
      "source": [
        "tf_matrix[1]"
      ]
    },
    {
      "cell_type": "code",
      "execution_count": null,
      "metadata": {
        "id": "om5XJN_mFYD2",
        "outputId": "8aa55641-7da6-4787-e50e-dfbccfe9660b"
      },
      "outputs": [
        {
          "data": {
            "text/plain": [
              "'http://dbpedia.org/resource/AfghanistanHistory  dbpedia.org AfghanistanHistory  afghanistan history http://www.w3.org/2000/01/rdf-schema#label  www.w3.org rdf-schema#label rdf schema label afghanistanhistory'"
            ]
          },
          "execution_count": 11,
          "metadata": {},
          "output_type": "execute_result"
        }
      ],
      "source": [
        "lib[1]"
      ]
    },
    {
      "cell_type": "code",
      "execution_count": null,
      "metadata": {
        "id": "m2_crjrSFYD2"
      },
      "outputs": [],
      "source": [
        "import bz2\n",
        "import _pickle as pickle\n",
        "# loading dictionairy of virtual docs\n",
        "\n",
        "lib = pickle.load(bz2.BZ2File('library_vdocs.pkl.bz2', 'rb'))\n",
        "eval_queries = pickle.load(bz2.BZ2File('eval_queries.pkl.bz2', 'rb'))\n",
        "dbpedia_dict = pickle.load(bz2.BZ2File('10-2015_DBpedia.pkl.bz2', 'rb'))\n",
        "inverted_index = pickle.load(bz2.BZ2File('inverted_index.pkl.bz2', 'rb'))\n",
        "tf_matrix = pickle.load(bz2.BZ2File('term_freq_matrix.pkl.bz2', 'rb'))"
      ]
    },
    {
      "cell_type": "code",
      "execution_count": null,
      "metadata": {
        "id": "RzvsOmwtFYD2"
      },
      "outputs": [],
      "source": [
        "index = dbpedia_dict"
      ]
    },
    {
      "cell_type": "code",
      "execution_count": null,
      "metadata": {
        "id": "ZMqxv38uFYD3"
      },
      "outputs": [],
      "source": [
        "from collections import defaultdict, Counter\n",
        "from math import log10\n",
        "\n",
        "# Boolean retrieval TODO add to demo\n",
        "def or_merge(sorted_list1, sorted_list2):  \n",
        "    merged_list = []  \n",
        "    list1 = list(sorted_list1)  \n",
        "    list2 = list(sorted_list2)  \n",
        "    while (True):  \n",
        "        if (not list1):  \n",
        "            merged_list.extend(list2)  \n",
        "            break  \n",
        "        if (not list2):  \n",
        "            merged_list.extend(list1)  \n",
        "            break  \n",
        "        if (list1[0] < list2[0]):  \n",
        "            merged_list.append(list1[0])  \n",
        "            list1.pop(0)  \n",
        "        elif (list1[0] > list2[0]):  \n",
        "            merged_list.append(list2[0])  \n",
        "            list2.pop(0)  \n",
        "        else:  \n",
        "            merged_list.append(list1[0])  \n",
        "            list1.pop(0)  \n",
        "            list2.pop(0)  \n",
        "    return merged_list  \n",
        "\n",
        "def or_query(query_string, n):  \n",
        "    query_words = litteral_processing(query_string).split()\n",
        "    first_word = query_words[0]  \n",
        "    remaining_words = query_words[1:]\n",
        "    or_list = inverted_index[first_word]  \n",
        "    for t in remaining_words:  \n",
        "        or_list = or_merge(or_list, inverted_index[t]) \n",
        "    \n",
        "    for doc_id in or_list[:n]:\n",
        "        s = index[doc_id]['subject'] \n",
        "        print(f'[{doc_id}] {clean_subject(s)} {s}')\n"
      ]
    },
    {
      "cell_type": "code",
      "execution_count": null,
      "metadata": {
        "id": "PuKAUgIkFYD3"
      },
      "outputs": [],
      "source": [
        "from math import log10\n",
        "\n",
        "num_documents = float(len(lib))\n",
        "\n",
        "def tf(t,d):\n",
        "    try:\n",
        "        x = float(tf_matrix[d][t])\n",
        "        return x\n",
        "    except:\n",
        "        return float(0)\n",
        "\n",
        "def df(t):\n",
        "    return float(len(inverted_index[t]))\n",
        "\n",
        "def idf(t):\n",
        "    return log10((num_documents + 1)/(df(t) + 1))\n",
        "\n",
        "def tfidf(t,d):\n",
        "    return tf(t,d) * idf(t)"
      ]
    },
    {
      "cell_type": "code",
      "execution_count": null,
      "metadata": {
        "id": "jDa1GxXPFYD3"
      },
      "outputs": [],
      "source": [
        "def score_ntn_nnn(query_words, doc_id):  \n",
        "    score = 0  \n",
        "    for t in query_words:  \n",
        "        score += tfidf(t,doc_id)\n",
        "    return score  \n"
      ]
    },
    {
      "cell_type": "code",
      "execution_count": null,
      "metadata": {
        "id": "Ij63XbqiFYD3"
      },
      "outputs": [],
      "source": [
        "# with time implemented\n",
        "\n",
        "import time\n",
        "def query_ntn_nnn(query_string, n):\n",
        "    time_start = time.time()\n",
        "\n",
        "    query_words = litteral_processing(query_string).split() \n",
        "    first_word = query_words[0]  \n",
        "    remaining_words = query_words[1:]\n",
        "    or_list = inverted_index[first_word]  \n",
        "    for t in remaining_words:  \n",
        "        or_list = or_merge(or_list, inverted_index[t])\n",
        "    \n",
        "    for doc_id in sorted(or_list, key=lambda i: score_ntn_nnn(query_words,i), reverse=True)[:n]:\n",
        "        s = index[doc_id]['subject']\n",
        "        print(f'[{doc_id}] {clean_subject(s)} | score: {str(score_ntn_nnn(query_words,doc_id))}')\n",
        "    print(f'Query time: {time.time()-time_start}')\n"
      ]
    },
    {
      "cell_type": "code",
      "execution_count": null,
      "metadata": {
        "id": "bWcYz42QFYD3",
        "outputId": "2e6c8acc-fb90-4bf0-ee20-455e55d8536f"
      },
      "outputs": [
        {
          "data": {
            "text/plain": [
              "'Szechwan dish food cuisine'"
            ]
          },
          "execution_count": 11,
          "metadata": {},
          "output_type": "execute_result"
        }
      ],
      "source": [
        "eval_queries['query'][2]\n",
        "eval_queries['query'][0]"
      ]
    },
    {
      "cell_type": "code",
      "execution_count": null,
      "metadata": {
        "id": "gXBWxtG4FYD3",
        "outputId": "3468d5b2-b8bd-48db-9498-9da666c56fe3"
      },
      "outputs": [
        {
          "name": "stdout",
          "output_type": "stream",
          "text": [
            "[12857191] <dbpedia:Balkan_cuisine> | score: 60.471907267235785\n",
            "[12355334] <dbpedia:North_American_cuisine> | score: 56.91473625151603\n",
            "[12472131] <dbpedia:Peruvian_cuisine> | score: 39.128881172917275\n",
            "[12681736] <dbpedia:Valencian_cuisine> | score: 39.128881172917275\n",
            "[16526326] <dbpedia:Chinese_regional_cuisine> | score: 39.128881172917275\n",
            "Query time: 0.026678800582885742\n"
          ]
        }
      ],
      "source": [
        "query_ntn_nnn('cuisine', 5)"
      ]
    },
    {
      "cell_type": "code",
      "execution_count": null,
      "metadata": {
        "id": "wBefPHvFFYD4",
        "outputId": "81863b3b-6eb5-4316-a76b-3a4c1bf4ff9b"
      },
      "outputs": [
        {
          "name": "stdout",
          "output_type": "stream",
          "text": [
            "[706] <dbpedia:American_Chinese_cuisine> http://dbpedia.org/resource/American_Chinese_cuisine\n",
            "[1149] <dbpedia:Argentine_cuisine> http://dbpedia.org/resource/Argentine_cuisine\n",
            "[1167] <dbpedia:Cuisine_of_the_United_States> http://dbpedia.org/resource/Cuisine_of_the_United_States\n",
            "[3741] <dbpedia:Chinese_buddhist_cuisine> http://dbpedia.org/resource/Chinese_buddhist_cuisine\n",
            "[3744] <dbpedia:Chinese_Islamic_cuisine> http://dbpedia.org/resource/Chinese_Islamic_cuisine\n"
          ]
        }
      ],
      "source": [
        "or_query('cuisine', 5)"
      ]
    },
    {
      "cell_type": "code",
      "execution_count": null,
      "metadata": {
        "id": "kz22MI1DFYD4",
        "outputId": "fd7fb0d3-7ea4-4302-9fdb-f97aebfcaff3"
      },
      "outputs": [
        {
          "name": "stdout",
          "output_type": "stream",
          "text": [
            "[12857191] <dbpedia:Balkan_cuisine> | score: 60.471907267235785\n",
            "[12355334] <dbpedia:North_American_cuisine> | score: 59.78735222058606\n",
            "[14267502] <dbpedia:Fake_food> | score: 45.961855505120404\n",
            "[15808703] <dbpedia:ATN_Food_Food> | score: 43.773794582700106\n",
            "[11998560] <dbpedia:American_Chinese_cuisine> | score: 41.34695239415616\n",
            "Query time: 12.609225988388062\n"
          ]
        }
      ],
      "source": [
        "query_ntn_nnn(eval_queries['query'][0], 5)"
      ]
    },
    {
      "cell_type": "code",
      "execution_count": null,
      "metadata": {
        "id": "ESaGDra7FYD4",
        "outputId": "ca64b932-da10-4250-d866-d85a6755fd01"
      },
      "outputs": [
        {
          "data": {
            "text/plain": [
              "['<dbpedia:Pao_cai>',\n",
              " '<dbpedia:List_of_Chinese_dishes>',\n",
              " '<dbpedia:Kung_Pao_chicken>',\n",
              " '<dbpedia:Zhangcha_duck>',\n",
              " '<dbpedia:Zha_cai>',\n",
              " '<dbpedia:Wonton>',\n",
              " '<dbpedia:Vicia_faba>',\n",
              " '<dbpedia:Sinki_(food)>',\n",
              " '<dbpedia:Sichuan_pepper>',\n",
              " '<dbpedia:Sichuan_cuisine>',\n",
              " '<dbpedia:Sichuan>',\n",
              " '<dbpedia:Indian_Chinese_cuisine>',\n",
              " '<dbpedia:Chinatown>',\n",
              " '<dbpedia:Chen_Kenmin>',\n",
              " '<dbpedia:Chen_Kenichi>',\n",
              " '<dbpedia:Cellophane_noodles>',\n",
              " '<dbpedia:Baingan_bharta>',\n",
              " '<dbpedia:American_Chinese_cuisine>',\n",
              " '<dbpedia:Hot_sauce>',\n",
              " '<dbpedia:Hot_and_sour_soup>',\n",
              " '<dbpedia:History_of_Chinese_cuisine>',\n",
              " '<dbpedia:Guizhou_cuisine>',\n",
              " '<dbpedia:Doubanjiang>',\n",
              " '<dbpedia:Fuchsia_Dunlop>']"
            ]
          },
          "metadata": {},
          "output_type": "display_data"
        },
        {
          "data": {
            "text/plain": [
              "['<dbpedia:Roman_Architectural_Revolution>',\n",
              " '<dbpedia:Roman_bridge>',\n",
              " '<dbpedia:Porta_Nigra>',\n",
              " '<dbpedia:Roman_temple>',\n",
              " '<dbpedia:Opus_latericium>',\n",
              " '<dbpedia:Opus_mixtum>',\n",
              " '<dbpedia:Opus_reticulatum>',\n",
              " '<dbpedia:Peribolos>',\n",
              " '<dbpedia:Peristyle>',\n",
              " '<dbpedia:Temple_of_Venus_Genetrix>',\n",
              " '<dbpedia:Temple_of_Venus_and_Roma>',\n",
              " '<dbpedia:Temple_of_Vesta>',\n",
              " '<dbpedia:Tower_of_Hercules>',\n",
              " '<dbpedia:Triumphal_arch>',\n",
              " '<dbpedia:Villa_Jovis>',\n",
              " '<dbpedia:Villa_of_the_Mysteries>',\n",
              " '<dbpedia:Villa_rustica>',\n",
              " '<dbpedia:Temple_of_Antoninus_and_Faustina>',\n",
              " '<dbpedia:Romanesque_architecture>',\n",
              " '<dbpedia:Colossus_of_Nero>',\n",
              " '<dbpedia:Basilica>',\n",
              " '<dbpedia:Coffer>',\n",
              " '<dbpedia:Column_of_Marcus_Aurelius>',\n",
              " '<dbpedia:Aedicula>',\n",
              " '<dbpedia:Ancient_Roman_architecture>',\n",
              " '<dbpedia:Architecture_of_Provence>',\n",
              " '<dbpedia:Architecture_of_Rome>',\n",
              " '<dbpedia:Aqueduct_of_Segovia>',\n",
              " '<dbpedia:Column_of_Phocas>',\n",
              " '<dbpedia:Cryptoporticus>',\n",
              " '<dbpedia:Insula_(building)>',\n",
              " '<dbpedia:List_of_Roman_bridges>',\n",
              " '<dbpedia:List_of_Roman_domes>',\n",
              " \"<dbpedia:Hadrian's_Villa>\",\n",
              " '<dbpedia:De_architectura>',\n",
              " '<dbpedia:Eifel_Aqueduct>',\n",
              " '<dbpedia:Flavian_Palace>']"
            ]
          },
          "metadata": {},
          "output_type": "display_data"
        }
      ],
      "source": [
        "display(eval_queries['relevant_entities'][0], eval_queries['very_relevant_entities'][1])"
      ]
    },
    {
      "cell_type": "markdown",
      "metadata": {
        "id": "jvxiaOI9FYD4"
      },
      "source": [
        "As expected the results of the tf-idf ranking favors the lexical properties of the query tokens, since the tf-idf approach is a bag of words model, the token occurence greatly influences the ranking of the entities. The performance of the queries seems quite slow."
      ]
    },
    {
      "cell_type": "code",
      "execution_count": null,
      "metadata": {
        "id": "M5yizE-kFYD4"
      },
      "outputs": [],
      "source": [
        "def query_ntn_nnn(query_string, n):\n",
        "    results = []\n",
        "    query_words = litteral_processing(query_string).split() \n",
        "    first_word = query_words[0]  \n",
        "    remaining_words = query_words[1:]\n",
        "    or_list = inverted_index[first_word]  \n",
        "    for t in remaining_words:  \n",
        "        or_list = or_merge(or_list, inverted_index[t])\n",
        "    \n",
        "    for doc_id in sorted(or_list, key=lambda i: score_ntn_nnn(query_words,i), reverse=True)[:n]:  \n",
        "        s = index[doc_id]['subject']\n",
        "        s_clean = clean_subject(s)\n",
        "        results.append(s_clean)\n",
        "        # print(f'[{doc_id}] {s_clean} | score: {str(score_ntn_nnn(query_words,doc_id))}')\n",
        "    \n",
        "    return results\n",
        "\n"
      ]
    },
    {
      "cell_type": "code",
      "execution_count": null,
      "metadata": {
        "id": "yjo7lU9pFYD4"
      },
      "outputs": [],
      "source": [
        "import sys\n",
        "\n",
        "\n",
        "def progress(count, total, status=''):\n",
        "    bar_len = 60\n",
        "    filled_len = int(round(bar_len * count / float(total)))\n",
        "\n",
        "    percents = round(100.0 * count / float(total), 1)\n",
        "    bar = '#' * filled_len + ' ' * (bar_len - filled_len)\n",
        "\n",
        "    sys.stdout.write('[%s] %s%s %s\\r' % (bar, percents, '%', status))\n",
        "    sys.stdout.flush()\n"
      ]
    },
    {
      "cell_type": "code",
      "execution_count": null,
      "metadata": {
        "id": "bV6CdCYPFYD4",
        "outputId": "8e93e9dd-7c17-4c6b-fb0f-5e2deefa0f1c"
      },
      "outputs": [
        {
          "data": {
            "text/plain": [
              "['<dbpedia:Balkan_cuisine>',\n",
              " '<dbpedia:North_American_cuisine>',\n",
              " '<dbpedia:Fake_food>',\n",
              " '<dbpedia:ATN_Food_Food>',\n",
              " '<dbpedia:American_Chinese_cuisine>']"
            ]
          },
          "execution_count": 13,
          "metadata": {},
          "output_type": "execute_result"
        }
      ],
      "source": [
        "query_ntn_nnn('Szechwan dish food cuisine', 5)"
      ]
    },
    {
      "cell_type": "code",
      "execution_count": null,
      "metadata": {
        "id": "9TrLZ-YKFYD4"
      },
      "outputs": [],
      "source": [
        "import time\n",
        "\n",
        "retrieved_results = []\n",
        "query_times = []\n",
        "\n",
        "# run query test and append to retrieved results\n",
        "total_num_queries = len(eval_queries)\n",
        "\n",
        "progress(0, total_num_queries, '')\n",
        "for idx, row in eval_queries.iterrows():\n",
        "    query_num = idx\n",
        "    query = row['query']\n",
        "    relevant_entities = row['relevant_entities']\n",
        "    very_relevant_entities = row['very_relevant_entities']\n",
        "    len_relevant = len(relevant_entities)\n",
        "    len_very_relevant = len(very_relevant_entities)\n",
        "    n = len_relevant+len_very_relevant\n",
        "\n",
        "    time_start = time.time()\n",
        "    # retrieved results\n",
        "    retrieved = query_ntn_nnn(query, n)\n",
        "    time_done = time.time() - time_start\n",
        "    retrieved_results.append(retrieved)\n",
        "    query_times.append(time_done)\n",
        "    progress(query_num, total_num_queries, f'Query No. {query_num}/{total_num_queries}')\n",
        "\n",
        "\n",
        "progress(total_num_queries, total_num_queries, 'Complete')\n"
      ]
    },
    {
      "cell_type": "code",
      "execution_count": null,
      "metadata": {
        "id": "GtmmYBapFYD4",
        "outputId": "286a3854-9efd-4b6b-ba69-2fca243ead7f"
      },
      "outputs": [
        {
          "data": {
            "text/plain": [
              "195.09795118172963"
            ]
          },
          "execution_count": 24,
          "metadata": {},
          "output_type": "execute_result"
        }
      ],
      "source": [
        "sum([i*-1 for i in query_times]) / 60 # -1 because the initial time function was wrong"
      ]
    },
    {
      "cell_type": "markdown",
      "metadata": {
        "id": "qXX1Ku2PFYD5"
      },
      "source": [
        "There seems to be a strange error with jupyter notebook, the query times combined are half the total runtime, therefore we decide to run the python script."
      ]
    },
    {
      "cell_type": "markdown",
      "metadata": {
        "id": "CINowD1AFYD5"
      },
      "source": [
        "This process took too long to run in the notebook (7.5 hours for 47%), therefore the script baseline_script.py was run instead."
      ]
    },
    {
      "cell_type": "code",
      "execution_count": null,
      "metadata": {
        "id": "dE_udjdRFYD5"
      },
      "outputs": [],
      "source": [
        "# Make data frame from results\n",
        "\n",
        "import pandas as pd\n",
        "\n",
        "dic = {'retrieved':retrieved_results, 'query_time':query_times}\n",
        "\n",
        "baseline_results = pd.DataFrame(dic)"
      ]
    },
    {
      "cell_type": "code",
      "execution_count": null,
      "metadata": {
        "id": "hIAjRNqbFYD5"
      },
      "outputs": [],
      "source": [
        "#  save results dataframe\n",
        "save_file_pklbz2('baseline_results', baseline_results)"
      ]
    },
    {
      "cell_type": "markdown",
      "metadata": {
        "id": "ktLCVaqVFYD5"
      },
      "source": [
        "------------------------\n",
        "----------------\n",
        "---------------"
      ]
    },
    {
      "cell_type": "markdown",
      "metadata": {
        "id": "UTpuPHIaFYD5"
      },
      "source": [
        "## Baseline Result Evaluation"
      ]
    },
    {
      "cell_type": "markdown",
      "metadata": {
        "id": "wT61dVYRFYD5"
      },
      "source": [
        "## Failed run:"
      ]
    },
    {
      "cell_type": "code",
      "execution_count": null,
      "metadata": {
        "id": "_M7Ydet5FYD5"
      },
      "outputs": [],
      "source": [
        "# Load the results for the evaluation\n",
        "import bz2\n",
        "import _pickle as pickle\n",
        "# These are the intial results, I had forgotten to save the relevant query number, but analyzing these results we can improve the timeout\n",
        "baseline_results_v1 = pickle.load(bz2.BZ2File('baseline_results_script_1.pkl.bz2', 'rb'))"
      ]
    },
    {
      "cell_type": "code",
      "execution_count": null,
      "metadata": {
        "id": "K2g3oNZmFYD5",
        "outputId": "31ccc09d-d9ae-4f91-986e-f816c9a94c3b"
      },
      "outputs": [
        {
          "data": {
            "text/plain": [
              "<PandasArray>\n",
              "[ 363.7742130756378,  291.6148929595947,   281.141813993454,\n",
              " 272.10498690605164,  270.1439461708069, 254.03415393829346,\n",
              " 248.46835708618164, 240.88548374176025, 238.94654488563538,\n",
              " 235.36567282676697, 231.51784205436707, 219.46794271469116,\n",
              "   218.599524974823, 211.92099380493164, 201.89055180549622,\n",
              "  197.6160020828247, 194.89223194122314, 169.23194003105164,\n",
              "  166.6778576374054, 165.57918691635132, 164.33562684059143,\n",
              " 159.44380903244019, 153.68555212020874, 153.02912378311157,\n",
              " 147.26271319389343]\n",
              "Length: 25, dtype: float64"
            ]
          },
          "execution_count": 52,
          "metadata": {},
          "output_type": "execute_result"
        }
      ],
      "source": [
        "baseline_results['query_time'].nlargest(25).array"
      ]
    },
    {
      "cell_type": "code",
      "execution_count": null,
      "metadata": {
        "id": "4ol_mOeBFYD5",
        "outputId": "bfde3d5a-6c9a-43d3-ec39-93e829784ef4"
      },
      "outputs": [
        {
          "data": {
            "text/plain": [
              "<AxesSubplot:ylabel='Frequency'>"
            ]
          },
          "execution_count": 59,
          "metadata": {},
          "output_type": "execute_result"
        },
        {
          "data": {
            "image/png": "[encoded data removed]",
            "text/plain": [
              "<Figure size 432x288 with 1 Axes>"
            ]
          },
          "metadata": {
            "needs_background": "light"
          },
          "output_type": "display_data"
        }
      ],
      "source": [
        "baseline_results['query_time'].plot.hist()"
      ]
    },
    {
      "cell_type": "code",
      "execution_count": null,
      "metadata": {
        "id": "WHXhNu91FYD5",
        "outputId": "984a05b2-a360-4e9b-bc57-f9524b2f7874"
      },
      "outputs": [
        {
          "data": {
            "text/plain": [
              "218.06523858070375"
            ]
          },
          "execution_count": 57,
          "metadata": {},
          "output_type": "execute_result"
        }
      ],
      "source": [
        "import numpy as np\n",
        "# runtimes of the (failed) baseline for the 25 longest times\n",
        "np.mean([ 363.7742130756378,  291.6148929595947,   281.141813993454,\n",
        " 272.10498690605164,  270.1439461708069, 254.03415393829346,\n",
        " 248.46835708618164, 240.88548374176025, 238.94654488563538,\n",
        " 235.36567282676697, 231.51784205436707, 219.46794271469116,\n",
        "   218.599524974823, 211.92099380493164, 201.89055180549622,\n",
        "  197.6160020828247, 194.89223194122314, 169.23194003105164,\n",
        "  166.6778576374054, 165.57918691635132, 164.33562684059143,\n",
        " 159.44380903244019, 153.68555212020874, 153.02912378311157,\n",
        " 147.26271319389343])"
      ]
    },
    {
      "cell_type": "markdown",
      "metadata": {
        "id": "jyh2hu1gFYD5"
      },
      "source": [
        "For runs it is thus recommended to set the timeout to 200"
      ]
    },
    {
      "cell_type": "code",
      "execution_count": null,
      "metadata": {
        "id": "XQ_kzhH0FYD5",
        "outputId": "f8f3187f-fd0b-46da-9f62-011898e5b083"
      },
      "outputs": [
        {
          "name": "stdout",
          "output_type": "stream",
          "text": [
            "There were 467 total queries, and 462 were evaluated\n",
            "Missing: 5 queries\n"
          ]
        }
      ],
      "source": [
        "# The reason it failed was because I forgot to append the relevant doc id for the retrieved query\n",
        "# Not all queries were evaluated due to time out:\n",
        "print(f'There were 467 total queries, and {len(baseline_results)} were evaluated\\nMissing: {467-len(baseline_results)} queries')"
      ]
    },
    {
      "cell_type": "markdown",
      "metadata": {
        "id": "XxmfFczWFYD6"
      },
      "source": [
        "There were 5 out of 467 queries that took longer than the original 300 second timeout"
      ]
    },
    {
      "cell_type": "markdown",
      "metadata": {
        "id": "y6gkUwtaFYD6"
      },
      "source": [
        "------------\n"
      ]
    },
    {
      "cell_type": "markdown",
      "metadata": {
        "id": "4h78AGn8FYD6"
      },
      "source": [
        "## Results:"
      ]
    },
    {
      "cell_type": "markdown",
      "metadata": {
        "id": "lVto-AgSFYD6"
      },
      "source": [
        "Failed queries taking longer than 200 seconds: [54, 61, 101, 113, 162, 200, 221, 261, 282, 291]"
      ]
    },
    {
      "cell_type": "code",
      "execution_count": null,
      "metadata": {
        "id": "Zpw7Q9wQFYD6"
      },
      "outputs": [],
      "source": [
        "failed_query_ids= [54, 61, 101, 113, 162, 200, 221, 261, 282, 291]"
      ]
    },
    {
      "cell_type": "code",
      "execution_count": null,
      "metadata": {
        "id": "ZrvKBitEFYD6"
      },
      "outputs": [],
      "source": [
        "# Load the results for the evaluation\n",
        "import bz2\n",
        "import _pickle as pickle\n",
        "# results with timout 200\n",
        "baseline_results = pickle.load(bz2.BZ2File('baseline_results_script.pkl.bz2', 'rb'))\n",
        "eval_queries = pickle.load(bz2.BZ2File('eval_queries.pkl.bz2', 'rb'))"
      ]
    },
    {
      "cell_type": "code",
      "execution_count": null,
      "metadata": {
        "id": "xGpOaW1jFYD6",
        "outputId": "796be880-9db0-470b-b7df-be0102c489bf"
      },
      "outputs": [
        {
          "data": {
            "text/html": [
              "<div>\n",
              "<style scoped>\n",
              "    .dataframe tbody tr th:only-of-type {\n",
              "        vertical-align: middle;\n",
              "    }\n",
              "\n",
              "    .dataframe tbody tr th {\n",
              "        vertical-align: top;\n",
              "    }\n",
              "\n",
              "    .dataframe thead th {\n",
              "        text-align: right;\n",
              "    }\n",
              "</style>\n",
              "<table border=\"1\" class=\"dataframe\">\n",
              "  <thead>\n",
              "    <tr style=\"text-align: right;\">\n",
              "      <th></th>\n",
              "      <th>id</th>\n",
              "      <th>retrieved</th>\n",
              "      <th>query_time</th>\n",
              "    </tr>\n",
              "  </thead>\n",
              "  <tbody>\n",
              "    <tr>\n",
              "      <th>0</th>\n",
              "      <td>0</td>\n",
              "      <td>[&lt;dbpedia:Balkan_cuisine&gt;, &lt;dbpedia:North_Amer...</td>\n",
              "      <td>6.901839</td>\n",
              "    </tr>\n",
              "    <tr>\n",
              "      <th>1</th>\n",
              "      <td>1</td>\n",
              "      <td>[&lt;dbpedia:Edinburgh_School_of_Architecture_and...</td>\n",
              "      <td>7.984369</td>\n",
              "    </tr>\n",
              "    <tr>\n",
              "      <th>2</th>\n",
              "      <td>2</td>\n",
              "      <td>[&lt;dbpedia:Saab_90&gt;, &lt;dbpedia:List_of_Pennsylva...</td>\n",
              "      <td>15.805974</td>\n",
              "    </tr>\n",
              "    <tr>\n",
              "      <th>3</th>\n",
              "      <td>3</td>\n",
              "      <td>[&lt;dbpedia:Index_of_World_War_II_articles_(A)&gt;,...</td>\n",
              "      <td>92.484720</td>\n",
              "    </tr>\n",
              "    <tr>\n",
              "      <th>4</th>\n",
              "      <td>4</td>\n",
              "      <td>[&lt;dbpedia:List_of_German_Army_Groups_in_WWII&gt;,...</td>\n",
              "      <td>25.081839</td>\n",
              "    </tr>\n",
              "    <tr>\n",
              "      <th>...</th>\n",
              "      <td>...</td>\n",
              "      <td>...</td>\n",
              "      <td>...</td>\n",
              "    </tr>\n",
              "    <tr>\n",
              "      <th>452</th>\n",
              "      <td>462</td>\n",
              "      <td>[&lt;dbpedia:Football_on_British_TV&gt;, &lt;dbpedia:Au...</td>\n",
              "      <td>55.743917</td>\n",
              "    </tr>\n",
              "    <tr>\n",
              "      <th>453</th>\n",
              "      <td>463</td>\n",
              "      <td>[&lt;dbpedia:Medimmune,_Inc._v._Genentech,_Inc.&gt;,...</td>\n",
              "      <td>13.400180</td>\n",
              "    </tr>\n",
              "    <tr>\n",
              "      <th>454</th>\n",
              "      <td>464</td>\n",
              "      <td>[&lt;dbpedia:List_of_Mexican_writers&gt;, &lt;dbpedia:M...</td>\n",
              "      <td>20.569162</td>\n",
              "    </tr>\n",
              "    <tr>\n",
              "      <th>455</th>\n",
              "      <td>465</td>\n",
              "      <td>[&lt;dbpedia:Ze_plane!_Ze_plane!&gt;, &lt;dbpedia:Bend_...</td>\n",
              "      <td>27.519474</td>\n",
              "    </tr>\n",
              "    <tr>\n",
              "      <th>456</th>\n",
              "      <td>466</td>\n",
              "      <td>[&lt;dbpedia:Members_of_the_Victorian_Legislative...</td>\n",
              "      <td>44.939108</td>\n",
              "    </tr>\n",
              "  </tbody>\n",
              "</table>\n",
              "<p>457 rows × 3 columns</p>\n",
              "</div>"
            ],
            "text/plain": [
              "      id                                          retrieved  query_time\n",
              "0      0  [<dbpedia:Balkan_cuisine>, <dbpedia:North_Amer...    6.901839\n",
              "1      1  [<dbpedia:Edinburgh_School_of_Architecture_and...    7.984369\n",
              "2      2  [<dbpedia:Saab_90>, <dbpedia:List_of_Pennsylva...   15.805974\n",
              "3      3  [<dbpedia:Index_of_World_War_II_articles_(A)>,...   92.484720\n",
              "4      4  [<dbpedia:List_of_German_Army_Groups_in_WWII>,...   25.081839\n",
              "..   ...                                                ...         ...\n",
              "452  462  [<dbpedia:Football_on_British_TV>, <dbpedia:Au...   55.743917\n",
              "453  463  [<dbpedia:Medimmune,_Inc._v._Genentech,_Inc.>,...   13.400180\n",
              "454  464  [<dbpedia:List_of_Mexican_writers>, <dbpedia:M...   20.569162\n",
              "455  465  [<dbpedia:Ze_plane!_Ze_plane!>, <dbpedia:Bend_...   27.519474\n",
              "456  466  [<dbpedia:Members_of_the_Victorian_Legislative...   44.939108\n",
              "\n",
              "[457 rows x 3 columns]"
            ]
          },
          "execution_count": 16,
          "metadata": {},
          "output_type": "execute_result"
        }
      ],
      "source": [
        "baseline_results"
      ]
    },
    {
      "cell_type": "code",
      "execution_count": null,
      "metadata": {
        "id": "NkdUrulPFYD6",
        "outputId": "93c3d72e-8d39-4f46-d55a-c2b3ca597b86"
      },
      "outputs": [
        {
          "name": "stdout",
          "output_type": "stream",
          "text": [
            "Mean query times: 36.97 seconds\n",
            "Median query times: 22.33 seconds\n",
            "Mode query times when query times rounded to 1 decimal: [19.5] appeared [6] times\n"
          ]
        }
      ],
      "source": [
        "#  average query time\n",
        "from scipy import stats\n",
        "import numpy as np\n",
        "querytimes = baseline_results['query_time']\n",
        "mean_query_time = np.mean(querytimes)\n",
        "median_query_time = np.median(baseline_results['query_time'])\n",
        "mode_query_time = stats.mode(round(baseline_results['query_time'], 1))\n",
        "print(f'Mean query times: {round(mean_query_time, 2)} seconds\\nMedian query times: {round(median_query_time, 2)} seconds\\nMode query times when query times rounded to 1 decimal: {str(mode_query_time.mode)} appeared {str(mode_query_time.count)} times')\n"
      ]
    },
    {
      "cell_type": "code",
      "execution_count": null,
      "metadata": {
        "id": "5yFi_x_3FYD6",
        "outputId": "4f95ce14-849b-49cc-9ba2-2c432bf641cd"
      },
      "outputs": [
        {
          "data": {
            "text/plain": [
              "209    230.856972\n",
              "82     229.630715\n",
              "162    227.823075\n",
              "187    227.225079\n",
              "269    226.967174\n",
              "273    226.838892\n",
              "232    199.886051\n",
              "122    198.782909\n",
              "140    186.365246\n",
              "379    173.299585\n",
              "Name: query_time, dtype: float64"
            ]
          },
          "metadata": {},
          "output_type": "display_data"
        },
        {
          "data": {
            "text/plain": [
              "333    0.003071\n",
              "377    0.088790\n",
              "7      0.096607\n",
              "367    0.125969\n",
              "341    0.265658\n",
              "335    0.326665\n",
              "364    0.456489\n",
              "267    0.504743\n",
              "218    0.614511\n",
              "378    0.937094\n",
              "Name: query_time, dtype: float64"
            ]
          },
          "metadata": {},
          "output_type": "display_data"
        }
      ],
      "source": [
        "display(querytimes.nlargest(10), querytimes.nsmallest(10))"
      ]
    },
    {
      "cell_type": "markdown",
      "metadata": {
        "id": "kjxmTHKZFYD6"
      },
      "source": [
        "The longest query times seem to exceed the 200 second time out. It could be that the count function does not reset the time measurement and instead adds the time to the next query's time, or the timeout is not triggered in time. Since there's less query times that exceed the 200 second timeout (6) than failed queries (10), we can assume the timeout function misfired a few times during the evaluation."
      ]
    },
    {
      "cell_type": "code",
      "execution_count": null,
      "metadata": {
        "id": "rH3yKewPFYD6",
        "outputId": "fbb7dcd0-3f47-4d99-8abb-3916219d3fec"
      },
      "outputs": [
        {
          "data": {
            "text/plain": [
              "Text(0.5, 0, 'Query Time')"
            ]
          },
          "execution_count": 19,
          "metadata": {},
          "output_type": "execute_result"
        },
        {
          "data": {
            "image/png": "[encoded data removed]",
            "text/plain": [
              "<Figure size 432x288 with 1 Axes>"
            ]
          },
          "metadata": {
            "needs_background": "light"
          },
          "output_type": "display_data"
        }
      ],
      "source": [
        "# frequency of query times\n",
        "baseline_results['query_time'].plot.hist();\n",
        "plt.xlabel('Query Time')\n"
      ]
    },
    {
      "cell_type": "code",
      "execution_count": null,
      "metadata": {
        "id": "Nu-aBCYIFYD8"
      },
      "outputs": [],
      "source": [
        "# all needed data for evaluation\n",
        "ids = baseline_results['id']\n",
        "evaluated_queries = [eval_queries['query'][id] for id in ids]\n",
        "relevant_entities = [eval_queries['relevant_entities'][id] for id in ids]\n",
        "very_relevant_entities = [eval_queries['very_relevant_entities'][id] for id in ids]\n",
        "retrieved_entities = baseline_results['retrieved']"
      ]
    },
    {
      "cell_type": "code",
      "execution_count": null,
      "metadata": {
        "id": "aiHp13ycFYD8"
      },
      "outputs": [],
      "source": [
        "len_eval_queries = [len(query.split()) for query in evaluated_queries]"
      ]
    },
    {
      "cell_type": "code",
      "execution_count": null,
      "metadata": {
        "id": "qM1d4Td8FYD8",
        "outputId": "dd693729-fc43-4208-8ec0-b9c0304a6204"
      },
      "outputs": [
        {
          "data": {
            "image/png": "[encoded data removed]",
            "text/plain": [
              "<Figure size 432x288 with 1 Axes>"
            ]
          },
          "metadata": {
            "needs_background": "light"
          },
          "output_type": "display_data"
        }
      ],
      "source": [
        "import seaborn as sns\n",
        "from matplotlib import pyplot as plt\n",
        "\n",
        "# plot query time with query lenghts\n",
        "sns.scatterplot(y =querytimes, x = len_eval_queries);\n",
        "plt.xlabel('Lenght of query');\n",
        "plt.ylabel('Time of query');"
      ]
    },
    {
      "cell_type": "markdown",
      "metadata": {
        "id": "7hSIx3wkFYD8"
      },
      "source": [
        "### Precision Recall @n"
      ]
    },
    {
      "cell_type": "code",
      "execution_count": null,
      "metadata": {
        "id": "X9LiBLBZFYD8"
      },
      "outputs": [],
      "source": [
        "assesed_retrieved_precision_recall = []\n",
        "len_relevants = []\n",
        "assesed_retrieved_nDCG = []\n",
        "\n",
        "for retrievedentities, relevantentities, veryrelevantentities in zip(retrieved_entities, relevant_entities, very_relevant_entities):\n",
        "    assesed_precision_recall = []\n",
        "    assesed_nDCG = []\n",
        "\n",
        "    for entity in retrievedentities:\n",
        "        if entity in relevantentities:\n",
        "            assesed_precision_recall.append(1)\n",
        "            assesed_nDCG.append(1)\n",
        "\n",
        "        if entity in veryrelevantentities:\n",
        "            assesed_precision_recall.append(1)\n",
        "            assesed_nDCG.append(2)\n",
        "\n",
        "        else:\n",
        "            assesed_precision_recall.append(0)\n",
        "            assesed_nDCG.append(0)\n",
        "    \n",
        "    len_relevants.append(len(relevantentities) + len(veryrelevantentities))\n",
        "\n",
        "    assesed_retrieved_precision_recall.append(assesed_precision_recall)\n",
        "    assesed_retrieved_nDCG.append(assesed_nDCG)"
      ]
    },
    {
      "cell_type": "code",
      "execution_count": null,
      "metadata": {
        "id": "-OAPETnoFYD8"
      },
      "outputs": [],
      "source": [
        "# precision at n micro macro average\n",
        "import numpy as np\n",
        "\n",
        "def micro_macro_precision_recall_at_n(binary_assement_list:list, number_of_relevant_entities:list, n):\n",
        "    total_relevant = 0\n",
        "    total_number_retrieved = 0\n",
        "    precision_scores = []\n",
        "    recall_scores = []\n",
        "\n",
        "    for scores, number_relevant in zip(binary_assement_list, number_of_relevant_entities):\n",
        "        if len(scores) < n :\n",
        "            continue\n",
        "        scores = scores[:n]\n",
        "        relevant = sum(scores)\n",
        "        number_retrieved = len(scores)\n",
        "        precision = relevant/number_retrieved\n",
        "        recall = relevant/number_relevant\n",
        "\n",
        "\n",
        "        precision_scores.append(precision)\n",
        "        recall_scores.append(recall)\n",
        "        total_relevant += relevant\n",
        "        total_number_retrieved += number_retrieved\n",
        "\n",
        "    micro_average_precision = total_relevant/total_number_retrieved\n",
        "    macro_average_precision = np.mean(precision_scores)\n",
        "\n",
        "    micro_average_recall = total_relevant/sum(number_of_relevant_entities)\n",
        "    macro_average_recall = np.mean(recall_scores)\n",
        "\n",
        "    return micro_average_precision, macro_average_precision, micro_average_recall, macro_average_recall\n",
        "\n",
        "# PLOT PRECISION AT N RECALL AT N Take the scores over the length of the scores"
      ]
    },
    {
      "cell_type": "code",
      "execution_count": null,
      "metadata": {
        "id": "v1faZESPFYD8",
        "outputId": "66a44e85-9cf5-4098-87c7-65d23812edc5"
      },
      "outputs": [
        {
          "data": {
            "image/png": "[encoded data removed]",
            "text/plain": [
              "<Figure size 432x288 with 1 Axes>"
            ]
          },
          "metadata": {
            "needs_background": "light"
          },
          "output_type": "display_data"
        },
        {
          "data": {
            "text/plain": [
              "<matplotlib.legend.Legend at 0x17a41c0a0>"
            ]
          },
          "execution_count": 41,
          "metadata": {},
          "output_type": "execute_result"
        },
        {
          "data": {
            "image/png": "[encoded data removed]",
            "text/plain": [
              "<Figure size 432x288 with 1 Axes>"
            ]
          },
          "metadata": {
            "needs_background": "light"
          },
          "output_type": "display_data"
        }
      ],
      "source": [
        "import matplotlib.pyplot as plt\n",
        "micro_p = []\n",
        "macro_p = []\n",
        "micro_r = []\n",
        "macro_r = []\n",
        "\n",
        "for n in range(1, 100):\n",
        "    micro_average_precision, macro_average_precision, micro_average_recall, macro_average_recall = micro_macro_precision_recall_at_n(assesed_retrieved_precision_recall, len_relevants, n)\n",
        "    micro_p.append(micro_average_precision)\n",
        "    macro_p.append(macro_average_precision)\n",
        "    micro_r.append(micro_average_recall)\n",
        "    macro_r.append(macro_average_recall)\n",
        "\n",
        "plt.plot(micro_p, alpha=0.7, label='Micro Precision');\n",
        "plt.title('Mirco-Macro Precision at n')\n",
        "plt.ylabel('Precision')\n",
        "plt.plot(macro_p, alpha=0.4, label='Macro Precision');\n",
        "plt.legend()\n",
        "# plt.title('Marco Precision at n')\n",
        "# plt.ylabel('Precision')\n",
        "plt.show();\n",
        "plt.plot(micro_r, alpha=0.7, label='Micro Recall');\n",
        "plt.title('Mirco-Macro Recall at n')\n",
        "plt.ylabel('Recall')\n",
        "plt.plot(macro_r, alpha=0.4, label='Macro Recall');\n",
        "plt.legend()\n"
      ]
    },
    {
      "cell_type": "code",
      "execution_count": null,
      "metadata": {
        "id": "3nGuvBMFFYD9",
        "outputId": "28c87979-5d22-44d0-c2fd-8221b8f6700a"
      },
      "outputs": [
        {
          "name": "stdout",
          "output_type": "stream",
          "text": [
            "The Global Precision:\n",
            "Micro Average: 0.08975160575228784\n",
            "Macro Average: 0.09253184067314195\n",
            "\n",
            "The Global Recall:\n",
            "Micro Average: 0.09541938602852308\n",
            "Macro Average: 0.11006010585736328\n"
          ]
        }
      ],
      "source": [
        "total_relevant = 0\n",
        "total_number_retrieved = 0\n",
        "precision_scores = []\n",
        "recall_scores = []\n",
        "\n",
        "for id, (scores, number_relevant) in enumerate(zip(assesed_retrieved_precision_recall, len_relevants)):\n",
        "    relevant = sum(scores)\n",
        "    number_retrieved = len(scores)\n",
        "    precision = relevant/number_retrieved\n",
        "    recall = relevant/number_relevant\n",
        "\n",
        "\n",
        "    precision_scores.append(precision)\n",
        "    recall_scores.append(recall)\n",
        "    total_relevant += relevant\n",
        "    total_number_retrieved += number_retrieved\n",
        "\n",
        "micro_average_precision = total_relevant/total_number_retrieved\n",
        "macro_average_precision = np.mean(precision_scores)\n",
        "\n",
        "micro_average_recall = total_relevant/sum(len_relevants)\n",
        "macro_average_recall = np.mean(recall_scores)\n",
        "\n",
        "print(f'The Global Precision:\\nMicro Average: {micro_average_precision}\\nMacro Average: {macro_average_precision}\\n')\n",
        "print(f'The Global Recall:\\nMicro Average: {micro_average_recall}\\nMacro Average: {macro_average_recall}')"
      ]
    },
    {
      "cell_type": "markdown",
      "metadata": {
        "id": "cuJ2zyUKFYD9"
      },
      "source": [
        "### DCG, iDCG, nDCG @n"
      ]
    },
    {
      "cell_type": "code",
      "execution_count": null,
      "metadata": {
        "id": "atmZ6vtGFYD9"
      },
      "outputs": [],
      "source": [
        "import numpy as np\n",
        "\n",
        "def dcg_idcg_ndcg(retrieved_relevance_DCG_scores:list, n:int):\n",
        "    # Relevance scores in Ideal order\n",
        "    sorted_relevace = sorted(retrieved_relevance_DCG_scores[:n], reverse=True)\n",
        "    # Relevance scores in output order\n",
        "    relevance_score = retrieved_relevance_DCG_scores[:n]\n",
        "\n",
        "    def discountedCumulativeGain(result):\n",
        "        dcg = []\n",
        "        for idx, val in enumerate(result): \n",
        "            numerator = 2**val - 1\n",
        "            # add 2 because python 0-index\n",
        "            denominator =  np.log2(idx + 2) \n",
        "            score = numerator/denominator\n",
        "            dcg.append(score)\n",
        "        return sum(dcg)\n",
        "\n",
        "    def normalizedDiscountedCumulativeGain(result, sorted_result): \n",
        "        dcg = discountedCumulativeGain(result)\n",
        "        idcg = discountedCumulativeGain(sorted_result)\n",
        "        ndcg = dcg / idcg\n",
        "        return ndcg\n",
        "\n",
        "    \n",
        "    return discountedCumulativeGain(relevance_score), discountedCumulativeGain(sorted_relevace), normalizedDiscountedCumulativeGain(relevance_score, sorted_relevace)"
      ]
    },
    {
      "cell_type": "code",
      "execution_count": null,
      "metadata": {
        "id": "yn9mWExxFYD9",
        "outputId": "57092777-004d-470c-87b7-e0232e8fb391"
      },
      "outputs": [
        {
          "name": "stderr",
          "output_type": "stream",
          "text": [
            "/var/folders/wt/zc3p8xys6pzdscmtyvwvlrkc0000gn/T/ipykernel_22157/473647459.py:22: RuntimeWarning: invalid value encountered in double_scalars\n",
            "  ndcg = dcg / idcg\n"
          ]
        }
      ],
      "source": [
        "import numpy as np\n",
        "\n",
        "mean_dcg_at_n, mean_idcg_at_n, mean_ndcg_at_n, mean_skipped_at_n = [], [], [], []\n",
        "\n",
        "for n in range(1, 100):\n",
        "    dcg_at_n, idcg_at_n, ndcg_at_n, skipped = [], [], [], 0\n",
        "    \n",
        "    for scores in assesed_retrieved_nDCG:\n",
        "        if len(scores)< n:\n",
        "            skipped += 1\n",
        "            continue\n",
        "        dcg, ideal_dcg, ndcg  = dcg_idcg_ndcg(scores, n)[0], dcg_idcg_ndcg(scores, n)[1], dcg_idcg_ndcg(scores, n)[2]\n",
        "        dcg_at_n.append(dcg)\n",
        "        idcg_at_n.append(ideal_dcg)\n",
        "        ndcg_at_n.append(ndcg)\n",
        "\n",
        "\n",
        "    mean_dcg_at_n.append(np.mean(dcg_at_n))\n",
        "    mean_idcg_at_n.append(np.mean(dcg_at_n))\n",
        "    mean_ndcg_at_n.append(np.mean(dcg_at_n))\n",
        "    mean_skipped_at_n.append(skipped/len(assesed_retrieved_nDCG)*100)\n",
        "\n",
        "    "
      ]
    },
    {
      "cell_type": "code",
      "execution_count": null,
      "metadata": {
        "id": "2nYdtyUBFYD9",
        "outputId": "ad37a75c-5196-4d3f-e2f9-c100122e1913"
      },
      "outputs": [
        {
          "data": {
            "image/png": "[encoded data removed]",
            "text/plain": [
              "<Figure size 432x288 with 1 Axes>"
            ]
          },
          "metadata": {
            "needs_background": "light"
          },
          "output_type": "display_data"
        },
        {
          "data": {
            "image/png": "[encoded data removed]",
            "text/plain": [
              "<Figure size 432x288 with 1 Axes>"
            ]
          },
          "metadata": {
            "needs_background": "light"
          },
          "output_type": "display_data"
        },
        {
          "data": {
            "image/png": "[encoded data removed]",
            "text/plain": [
              "<Figure size 432x288 with 1 Axes>"
            ]
          },
          "metadata": {
            "needs_background": "light"
          },
          "output_type": "display_data"
        },
        {
          "data": {
            "image/png": "[encoded data removed]",
            "text/plain": [
              "<Figure size 432x288 with 1 Axes>"
            ]
          },
          "metadata": {
            "needs_background": "light"
          },
          "output_type": "display_data"
        }
      ],
      "source": [
        "import matplotlib.pyplot as plt\n",
        "\n",
        "plt.plot(mean_dcg_at_n)\n",
        "plt.ylabel('Score Mean DCG')\n",
        "plt.xlabel('n')\n",
        "plt.show()\n",
        "plt.plot(mean_idcg_at_n)\n",
        "plt.ylabel('Score Mean iDCG')\n",
        "plt.xlabel('n')\n",
        "plt.show()\n",
        "plt.plot(mean_ndcg_at_n)\n",
        "plt.ylabel('Score Mean nDCG')\n",
        "plt.xlabel('n')\n",
        "plt.show()\n",
        "plt.plot(mean_skipped_at_n)\n",
        "plt.ylabel('Percentage Skipped')\n",
        "plt.xlabel('n')\n",
        "plt.show()\n"
      ]
    },
    {
      "cell_type": "code",
      "execution_count": null,
      "metadata": {
        "id": "mAXejq9PFYD9",
        "outputId": "24afb6bc-bfe5-48d5-d329-e224e311e18b"
      },
      "outputs": [
        {
          "name": "stderr",
          "output_type": "stream",
          "text": [
            "/var/folders/wt/zc3p8xys6pzdscmtyvwvlrkc0000gn/T/ipykernel_22157/473647459.py:22: RuntimeWarning: invalid value encountered in double_scalars\n",
            "  ndcg = dcg / idcg\n"
          ]
        },
        {
          "data": {
            "image/png": "[encoded data removed]",
            "text/plain": [
              "<Figure size 432x288 with 1 Axes>"
            ]
          },
          "metadata": {
            "needs_background": "light"
          },
          "output_type": "display_data"
        }
      ],
      "source": [
        "n = 40\n",
        "dcg_at_n, idcg_at_n, ndcg_at_n = [], [], []\n",
        "show_dense = False\n",
        "\n",
        "for i in assesed_retrieved_nDCG:\n",
        "    scores = i[:n]\n",
        "    if (len(scores)< n) and show_dense: continue\n",
        "    if len(scores)< n:\n",
        "        dcg_at_n.append(0)\n",
        "        idcg_at_n.append(0)\n",
        "        ndcg_at_n.append(0)\n",
        "        continue\n",
        "    dcg, ideal_dcg, ndcg  = dcg_idcg_ndcg(scores, n)[0], dcg_idcg_ndcg(scores, n)[1], dcg_idcg_ndcg(scores, n)[2]\n",
        "    dcg_at_n.append(dcg)\n",
        "    idcg_at_n.append(ideal_dcg)\n",
        "    ndcg_at_n.append(ndcg)\n",
        "\n",
        "plt.bar(range(len(dcg_at_n)), dcg_at_n, label='DCG', alpha=0.7)\n",
        "plt.bar(range(len(idcg_at_n)),idcg_at_n, label=\"iDCG\", alpha=0.5)\n",
        "plt.bar(range(len(ndcg_at_n)),ndcg_at_n, label='nDCG', alpha=0.7)\n",
        "plt.ylabel('Score')\n",
        "plt.xlabel('Query Number')\n",
        "plt.legend()\n",
        "plt.show()"
      ]
    }
  ],
  "metadata": {
    "colab": {
      "name": "Evaluation.ipynb",
      "provenance": []
    },
    "interpreter": {
      "hash": "67f497da5d237a751f4c7c2f78442b34810fde0434166ff8c5c7514d8d3f9cab"
    },
    "kernelspec": {
      "display_name": "Python 3.9.10 ('text_mining')",
      "language": "python",
      "name": "python3"
    },
    "language_info": {
      "codemirror_mode": {
        "name": "ipython",
        "version": 3
      },
      "file_extension": ".py",
      "mimetype": "text/x-python",
      "name": "python",
      "nbconvert_exporter": "python",
      "pygments_lexer": "ipython3",
      "version": "3.9.10"
    },
    "orig_nbformat": 4
  },
  "nbformat": 4,
  "nbformat_minor": 0
}
