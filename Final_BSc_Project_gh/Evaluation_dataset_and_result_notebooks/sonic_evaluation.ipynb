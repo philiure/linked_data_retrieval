{
 "cells": [
  {
   "cell_type": "code",
   "execution_count": null,
   "metadata": {},
   "outputs": [],
   "source": [
    "# START SONIC FROM FOLDER\n",
    "# $cd /Users/NAME/.cargo/registry/src/github.com-1ecc6299db9ec823/sonic-server-1.3.2\n",
    "# $sonic"
   ]
  },
  {
   "cell_type": "markdown",
   "metadata": {
    "id": "BKPS_7QaFYD9"
   },
   "source": [
    "## Virtual Documents for Sonic and Vector Search"
   ]
  },
  {
   "cell_type": "code",
   "execution_count": null,
   "metadata": {
    "id": "40n8djnvFYD9"
   },
   "outputs": [],
   "source": [
    "import _pickle as pickle\n",
    "import bz2\n",
    "\n",
    "dbpedia_dict = pickle.load(bz2.BZ2File('10-2015_DBpedia_12M.pkl.bz2', 'rb'))\n"
   ]
  },
  {
   "cell_type": "code",
   "execution_count": null,
   "metadata": {
    "id": "wfRzIo9kFYD-",
    "outputId": "fd447b15-2903-427d-d9ea-07596b08e2e5"
   },
   "outputs": [
    {
     "name": "stderr",
     "output_type": "stream",
     "text": [
      "[nltk_data] Downloading package stopwords to\n",
      "[nltk_data]     /Users/philippe/nltk_data...\n",
      "[nltk_data]   Package stopwords is already up-to-date!\n",
      "[nltk_data] Downloading package wordnet to\n",
      "[nltk_data]     /Users/philippe/nltk_data...\n",
      "[nltk_data]   Package wordnet is already up-to-date!\n"
     ]
    }
   ],
   "source": [
    "from urllib.parse import urlparse\n",
    "import nltk\n",
    "import re\n",
    "nltk.download('stopwords')\n",
    "nltk.download('wordnet')\n",
    "from nltk.corpus import stopwords\n",
    "from nltk.stem import WordNetLemmatizer\n",
    "\n",
    "stop_words = set(stopwords.words(\"english\"))\n",
    "lemmatizer = WordNetLemmatizer()\n",
    "\n",
    "# text preprocessing function for the uri | returns virtual document\n",
    "def URI_processing(URI):\n",
    "  final = ''\n",
    "  # getting resource name from IRI\n",
    "  resource = re.split('#|/',URI)[-1]\n",
    "  # getting domain name from IRI\n",
    "  domain = urlparse(URI).netloc\n",
    "  # remove camelcase from IRI     \n",
    "  un_camel_list = re.split('(?=[A-Z])', resource) \n",
    "  un_camel = ' '.join(un_camel_list).lower() \n",
    "  # remove underscores from IRI\n",
    "  cleaned_resource = un_camel.replace('_',' ').replace('-', ' ')\n",
    "\n",
    "# TODO document changes : only URI and cleaned resource\n",
    "\n",
    "  final +=  URI + ' ' + cleaned_resource # data from URI\n",
    "\n",
    "  return final\n",
    "\n",
    "def litteral_processing(litteral:str, max_size:int):\n",
    "  tokens = litteral.split()\n",
    "  size = len(tokens)\n",
    "  if size > max_size: litteral = ' '.join(tokens[:max_size])\n",
    "\n",
    "  #removes special chars\n",
    "  litteral = re.sub('[^A-Za-z0-9]+', ' ', litteral)\n",
    "  #removes non ASCII\n",
    "  litteral = re.sub('[^\\x00-\\x7F]+', ' ', litteral)\n",
    "  #removes double spaces\n",
    "  litteral = re.sub(' +', ' ', litteral)\n",
    "\n",
    "  return litteral"
   ]
  },
  {
   "cell_type": "code",
   "execution_count": null,
   "metadata": {
    "id": "hFYfgsGzFYD-"
   },
   "outputs": [],
   "source": [
    "lib = dict()\n",
    "index = dbpedia_dict\n",
    "max_object_size = 100\n",
    "\n",
    "for id in index.keys():\n",
    "  sub = index[id]['subject']\n",
    "  pred =index[id]['predicate']\n",
    "  obj = index[id]['object']\n",
    "  description = \"\"\n",
    "\n",
    "  description += URI_processing(sub) + ' ' + URI_processing(pred) + ' ' + litteral_processing(obj, max_object_size )\n",
    "\n",
    "  lib[id]=description"
   ]
  },
  {
   "cell_type": "code",
   "execution_count": null,
   "metadata": {
    "id": "SnMytrA2FYD-",
    "outputId": "07590a01-cbbd-4092-be31-1b29d18a7c4c"
   },
   "outputs": [
    {
     "data": {
      "text/plain": [
       "'http://dbpedia.org/resource/AccessibleComputing  accessible computing http://www.w3.org/2000/01/rdf-schema#label label AccessibleComputing'"
      ]
     },
     "metadata": {},
     "output_type": "display_data"
    }
   ],
   "source": [
    "lib[0]"
   ]
  },
  {
   "cell_type": "code",
   "execution_count": null,
   "metadata": {
    "id": "EIun4Fz7FYD-"
   },
   "outputs": [],
   "source": [
    "save_file_pklbz2('library_vdocs_sonic_vec_12M', lib)"
   ]
  },
  {
   "cell_type": "code",
   "execution_count": null,
   "metadata": {
    "id": "9e7DwE5kFYD-"
   },
   "outputs": [],
   "source": [
    "import pickle\n",
    "import bz2\n",
    "data = pickle.load(bz2.BZ2File('10-2015_DBpedia_12M.pkl.bz2','rb'))"
   ]
  },
  {
   "cell_type": "code",
   "execution_count": null,
   "metadata": {
    "id": "AhJCtNBFFYD-"
   },
   "outputs": [],
   "source": [
    "# example of turning it into a dataframe from dictionairy\n",
    "import pandas as pd\n",
    "df = pd.DataFrame.from_dict(data, orient='index')"
   ]
  },
  {
   "cell_type": "code",
   "execution_count": null,
   "metadata": {
    "id": "gvkmftKYFYD-",
    "outputId": "7d95ac4f-5c0a-4ca6-d30d-9309c66f7d9e"
   },
   "outputs": [
    {
     "name": "stdout",
     "output_type": "stream",
     "text": [
      "subject\n",
      "predicate\n",
      "object\n"
     ]
    }
   ],
   "source": [
    "for i in df.keys()[:3]:\n",
    "    print(i)"
   ]
  },
  {
   "cell_type": "code",
   "execution_count": null,
   "metadata": {
    "id": "GZYVPPfIFYD-",
    "outputId": "10c2b654-412a-42ac-f416-00de1684be15"
   },
   "outputs": [
    {
     "data": {
      "text/html": [
       "<div>\n",
       "<style scoped>\n",
       "    .dataframe tbody tr th:only-of-type {\n",
       "        vertical-align: middle;\n",
       "    }\n",
       "\n",
       "    .dataframe tbody tr th {\n",
       "        vertical-align: top;\n",
       "    }\n",
       "\n",
       "    .dataframe thead th {\n",
       "        text-align: right;\n",
       "    }\n",
       "</style>\n",
       "<table border=\"1\" class=\"dataframe\">\n",
       "  <thead>\n",
       "    <tr style=\"text-align: right;\">\n",
       "      <th></th>\n",
       "      <th>subject</th>\n",
       "      <th>predicate</th>\n",
       "      <th>object</th>\n",
       "    </tr>\n",
       "  </thead>\n",
       "  <tbody>\n",
       "    <tr>\n",
       "      <th>0</th>\n",
       "      <td>http://dbpedia.org/resource/AccessibleComputing</td>\n",
       "      <td>http://www.w3.org/2000/01/rdf-schema#label</td>\n",
       "      <td>AccessibleComputing</td>\n",
       "    </tr>\n",
       "    <tr>\n",
       "      <th>1</th>\n",
       "      <td>http://dbpedia.org/resource/AfghanistanHistory</td>\n",
       "      <td>http://www.w3.org/2000/01/rdf-schema#label</td>\n",
       "      <td>AfghanistanHistory</td>\n",
       "    </tr>\n",
       "    <tr>\n",
       "      <th>2</th>\n",
       "      <td>http://dbpedia.org/resource/AfghanistanCommuni...</td>\n",
       "      <td>http://www.w3.org/2000/01/rdf-schema#label</td>\n",
       "      <td>AfghanistanCommunications</td>\n",
       "    </tr>\n",
       "    <tr>\n",
       "      <th>3</th>\n",
       "      <td>http://dbpedia.org/resource/AfghanistanPeople</td>\n",
       "      <td>http://www.w3.org/2000/01/rdf-schema#label</td>\n",
       "      <td>AfghanistanPeople</td>\n",
       "    </tr>\n",
       "    <tr>\n",
       "      <th>4</th>\n",
       "      <td>http://dbpedia.org/resource/AfghanistanTranspo...</td>\n",
       "      <td>http://www.w3.org/2000/01/rdf-schema#label</td>\n",
       "      <td>AfghanistanTransportations</td>\n",
       "    </tr>\n",
       "    <tr>\n",
       "      <th>...</th>\n",
       "      <td>...</td>\n",
       "      <td>...</td>\n",
       "      <td>...</td>\n",
       "    </tr>\n",
       "    <tr>\n",
       "      <th>11998272</th>\n",
       "      <td>http://dbpedia.org/resource/Star-Mu</td>\n",
       "      <td>http://www.w3.org/2000/01/rdf-schema#comment</td>\n",
       "      <td>Star-Mu (スタミュ, Sutamyu, or STARMYU), with subt...</td>\n",
       "    </tr>\n",
       "    <tr>\n",
       "      <th>11998273</th>\n",
       "      <td>http://dbpedia.org/resource/Miguel_Lemus</td>\n",
       "      <td>http://www.w3.org/2000/01/rdf-schema#comment</td>\n",
       "      <td>Miguel Lemus (born 26 October 1993) is an Salv...</td>\n",
       "    </tr>\n",
       "    <tr>\n",
       "      <th>11998274</th>\n",
       "      <td>http://dbpedia.org/resource/Rommel_Mejía</td>\n",
       "      <td>http://www.w3.org/2000/01/rdf-schema#comment</td>\n",
       "      <td>Rommel Mejía (born 4 February 1994) is an Salv...</td>\n",
       "    </tr>\n",
       "    <tr>\n",
       "      <th>11998275</th>\n",
       "      <td>http://dbpedia.org/resource/José_Ángel_Peña</td>\n",
       "      <td>http://www.w3.org/2000/01/rdf-schema#comment</td>\n",
       "      <td>José Peña (born 10 December 1994) is an Salvad...</td>\n",
       "    </tr>\n",
       "    <tr>\n",
       "      <th>11998276</th>\n",
       "      <td>http://dbpedia.org/resource/Sathasi_Raj</td>\n",
       "      <td>http://www.w3.org/2000/01/rdf-schema#comment</td>\n",
       "      <td>Sathasi Raj was the Kingdom of Raja of Rudhrap...</td>\n",
       "    </tr>\n",
       "  </tbody>\n",
       "</table>\n",
       "<p>11998277 rows × 3 columns</p>\n",
       "</div>"
      ],
      "text/plain": [
       "                                                    subject  \\\n",
       "0           http://dbpedia.org/resource/AccessibleComputing   \n",
       "1            http://dbpedia.org/resource/AfghanistanHistory   \n",
       "2         http://dbpedia.org/resource/AfghanistanCommuni...   \n",
       "3             http://dbpedia.org/resource/AfghanistanPeople   \n",
       "4         http://dbpedia.org/resource/AfghanistanTranspo...   \n",
       "...                                                     ...   \n",
       "11998272                http://dbpedia.org/resource/Star-Mu   \n",
       "11998273           http://dbpedia.org/resource/Miguel_Lemus   \n",
       "11998274           http://dbpedia.org/resource/Rommel_Mejía   \n",
       "11998275        http://dbpedia.org/resource/José_Ángel_Peña   \n",
       "11998276            http://dbpedia.org/resource/Sathasi_Raj   \n",
       "\n",
       "                                             predicate  \\\n",
       "0           http://www.w3.org/2000/01/rdf-schema#label   \n",
       "1           http://www.w3.org/2000/01/rdf-schema#label   \n",
       "2           http://www.w3.org/2000/01/rdf-schema#label   \n",
       "3           http://www.w3.org/2000/01/rdf-schema#label   \n",
       "4           http://www.w3.org/2000/01/rdf-schema#label   \n",
       "...                                                ...   \n",
       "11998272  http://www.w3.org/2000/01/rdf-schema#comment   \n",
       "11998273  http://www.w3.org/2000/01/rdf-schema#comment   \n",
       "11998274  http://www.w3.org/2000/01/rdf-schema#comment   \n",
       "11998275  http://www.w3.org/2000/01/rdf-schema#comment   \n",
       "11998276  http://www.w3.org/2000/01/rdf-schema#comment   \n",
       "\n",
       "                                                     object  \n",
       "0                                       AccessibleComputing  \n",
       "1                                        AfghanistanHistory  \n",
       "2                                 AfghanistanCommunications  \n",
       "3                                         AfghanistanPeople  \n",
       "4                                AfghanistanTransportations  \n",
       "...                                                     ...  \n",
       "11998272  Star-Mu (スタミュ, Sutamyu, or STARMYU), with subt...  \n",
       "11998273  Miguel Lemus (born 26 October 1993) is an Salv...  \n",
       "11998274  Rommel Mejía (born 4 February 1994) is an Salv...  \n",
       "11998275  José Peña (born 10 December 1994) is an Salvad...  \n",
       "11998276  Sathasi Raj was the Kingdom of Raja of Rudhrap...  \n",
       "\n",
       "[11998277 rows x 3 columns]"
      ]
     },
     "metadata": {},
     "output_type": "display_data"
    }
   ],
   "source": [
    "df"
   ]
  },
  {
   "cell_type": "code",
   "execution_count": null,
   "metadata": {
    "id": "3KneM3IjFYD-"
   },
   "outputs": [],
   "source": [
    "queriestest = pickle.load(bz2.BZ2File('eval_queries.pkl.bz2', 'rb'))"
   ]
  },
  {
   "cell_type": "markdown",
   "metadata": {
    "id": "Vo6DDpvDFYD-"
   },
   "source": [
    "-----------------\n",
    "------------------"
   ]
  },
  {
   "cell_type": "markdown",
   "metadata": {
    "id": "-wahDG1iFYD-"
   },
   "source": [
    "## Sonic Search\n",
    "\n",
    "See Sonic Evaluation Folder"
   ]
  },
  {
   "cell_type": "code",
   "execution_count": 1,
   "metadata": {
    "id": "2373rDA7FYD-"
   },
   "outputs": [],
   "source": [
    "# Load the results for the evaluation\n",
    "import bz2\n",
    "import _pickle as pickle\n",
    "# results with timout 200\n",
    "sonic_results = pickle.load(bz2.BZ2File('sonic_results_script.pkl.bz2', 'rb'))\n",
    "eval_queries = pickle.load(bz2.BZ2File('eval_queries.pkl.bz2', 'rb'))"
   ]
  },
  {
   "cell_type": "code",
   "execution_count": 2,
   "metadata": {
    "id": "RwGImwROFYD_",
    "outputId": "0d13138d-a54f-4420-934c-d1e3c0e1852e"
   },
   "outputs": [
    {
     "data": {
      "text/html": [
       "<div>\n",
       "<style scoped>\n",
       "    .dataframe tbody tr th:only-of-type {\n",
       "        vertical-align: middle;\n",
       "    }\n",
       "\n",
       "    .dataframe tbody tr th {\n",
       "        vertical-align: top;\n",
       "    }\n",
       "\n",
       "    .dataframe thead th {\n",
       "        text-align: right;\n",
       "    }\n",
       "</style>\n",
       "<table border=\"1\" class=\"dataframe\">\n",
       "  <thead>\n",
       "    <tr style=\"text-align: right;\">\n",
       "      <th></th>\n",
       "      <th>id</th>\n",
       "      <th>retrieved</th>\n",
       "      <th>query_time</th>\n",
       "      <th>query_time_with_rank_time</th>\n",
       "    </tr>\n",
       "  </thead>\n",
       "  <tbody>\n",
       "    <tr>\n",
       "      <th>0</th>\n",
       "      <td>0</td>\n",
       "      <td>[&lt;dbpedia:Pastillas&gt;, &lt;dbpedia:Summit_Nutritio...</td>\n",
       "      <td>0.106015</td>\n",
       "      <td>0.214833</td>\n",
       "    </tr>\n",
       "    <tr>\n",
       "      <th>1</th>\n",
       "      <td>1</td>\n",
       "      <td>[&lt;dbpedia:Diet_of_Frankfurt&gt;, &lt;dbpedia:Belle_S...</td>\n",
       "      <td>0.005042</td>\n",
       "      <td>0.033365</td>\n",
       "    </tr>\n",
       "    <tr>\n",
       "      <th>2</th>\n",
       "      <td>2</td>\n",
       "      <td>[&lt;dbpedia:Khalid_bin_Hamad_Al_Thani&gt;, &lt;dbpedia...</td>\n",
       "      <td>0.016784</td>\n",
       "      <td>0.104100</td>\n",
       "    </tr>\n",
       "    <tr>\n",
       "      <th>3</th>\n",
       "      <td>3</td>\n",
       "      <td>[&lt;dbpedia:Second_&amp;_Pike_Tower&gt;, &lt;dbpedia:Captu...</td>\n",
       "      <td>0.011264</td>\n",
       "      <td>0.094794</td>\n",
       "    </tr>\n",
       "    <tr>\n",
       "      <th>4</th>\n",
       "      <td>4</td>\n",
       "      <td>[&lt;dbpedia:Fresh_Patch&gt;, &lt;dbpedia:Anupam_Singh&gt;...</td>\n",
       "      <td>0.033885</td>\n",
       "      <td>0.094318</td>\n",
       "    </tr>\n",
       "    <tr>\n",
       "      <th>...</th>\n",
       "      <td>...</td>\n",
       "      <td>...</td>\n",
       "      <td>...</td>\n",
       "      <td>...</td>\n",
       "    </tr>\n",
       "    <tr>\n",
       "      <th>462</th>\n",
       "      <td>462</td>\n",
       "      <td>[&lt;dbpedia:The_Stand-In_(1999_film)&gt;, &lt;dbpedia:...</td>\n",
       "      <td>0.015965</td>\n",
       "      <td>0.077080</td>\n",
       "    </tr>\n",
       "    <tr>\n",
       "      <th>463</th>\n",
       "      <td>463</td>\n",
       "      <td>[&lt;dbpedia:Tovetumab&gt;, &lt;dbpedia:Großadmiral&gt;, &lt;...</td>\n",
       "      <td>0.017270</td>\n",
       "      <td>0.072060</td>\n",
       "    </tr>\n",
       "    <tr>\n",
       "      <th>464</th>\n",
       "      <td>464</td>\n",
       "      <td>[&lt;dbpedia:List_of_Hindu_Nobel_laureates&gt;, &lt;dbp...</td>\n",
       "      <td>0.016120</td>\n",
       "      <td>0.074787</td>\n",
       "    </tr>\n",
       "    <tr>\n",
       "      <th>465</th>\n",
       "      <td>465</td>\n",
       "      <td>[&lt;dbpedia:Noel_Murphy_(comedian)&gt;, &lt;dbpedia:Th...</td>\n",
       "      <td>0.026594</td>\n",
       "      <td>0.125830</td>\n",
       "    </tr>\n",
       "    <tr>\n",
       "      <th>466</th>\n",
       "      <td>466</td>\n",
       "      <td>[&lt;dbpedia:Shanghai_Pudong_Zobon_F.C.&gt;, &lt;dbpedi...</td>\n",
       "      <td>0.019244</td>\n",
       "      <td>0.093015</td>\n",
       "    </tr>\n",
       "  </tbody>\n",
       "</table>\n",
       "<p>467 rows × 4 columns</p>\n",
       "</div>"
      ],
      "text/plain": [
       "      id                                          retrieved  query_time  \\\n",
       "0      0  [<dbpedia:Pastillas>, <dbpedia:Summit_Nutritio...    0.106015   \n",
       "1      1  [<dbpedia:Diet_of_Frankfurt>, <dbpedia:Belle_S...    0.005042   \n",
       "2      2  [<dbpedia:Khalid_bin_Hamad_Al_Thani>, <dbpedia...    0.016784   \n",
       "3      3  [<dbpedia:Second_&_Pike_Tower>, <dbpedia:Captu...    0.011264   \n",
       "4      4  [<dbpedia:Fresh_Patch>, <dbpedia:Anupam_Singh>...    0.033885   \n",
       "..   ...                                                ...         ...   \n",
       "462  462  [<dbpedia:The_Stand-In_(1999_film)>, <dbpedia:...    0.015965   \n",
       "463  463  [<dbpedia:Tovetumab>, <dbpedia:Großadmiral>, <...    0.017270   \n",
       "464  464  [<dbpedia:List_of_Hindu_Nobel_laureates>, <dbp...    0.016120   \n",
       "465  465  [<dbpedia:Noel_Murphy_(comedian)>, <dbpedia:Th...    0.026594   \n",
       "466  466  [<dbpedia:Shanghai_Pudong_Zobon_F.C.>, <dbpedi...    0.019244   \n",
       "\n",
       "     query_time_with_rank_time  \n",
       "0                     0.214833  \n",
       "1                     0.033365  \n",
       "2                     0.104100  \n",
       "3                     0.094794  \n",
       "4                     0.094318  \n",
       "..                         ...  \n",
       "462                   0.077080  \n",
       "463                   0.072060  \n",
       "464                   0.074787  \n",
       "465                   0.125830  \n",
       "466                   0.093015  \n",
       "\n",
       "[467 rows x 4 columns]"
      ]
     },
     "execution_count": 2,
     "metadata": {},
     "output_type": "execute_result"
    }
   ],
   "source": [
    "sonic_results"
   ]
  },
  {
   "cell_type": "code",
   "execution_count": 17,
   "metadata": {
    "id": "_KEODgIwFYD_",
    "outputId": "d399b8ab-9630-467f-f7f3-0ba8a5112ffb"
   },
   "outputs": [
    {
     "name": "stdout",
     "output_type": "stream",
     "text": [
      "Mean query times: 0.0198 seconds\n",
      "Median query times: 0.0176 seconds\n",
      "Mode query times when query times rounded to 4 decimal: [0.0192] appeared [6] times\n",
      "Mean query times ranked: 0.0892 seconds\n",
      "Median query times: 0.0849 seconds\n",
      "Mode query times when query times rounded to 4 decimal: [0.0468] appeared [6] times\n"
     ]
    }
   ],
   "source": [
    "#  average query time\n",
    "from scipy import stats\n",
    "import numpy as np\n",
    "querytimes = sonic_results['query_time']\n",
    "ranked_querytimes = sonic_results['query_time_with_rank_time']\n",
    "mean_query_time = np.mean(querytimes)\n",
    "median_query_time = np.median(querytimes)\n",
    "mode_query_time = stats.mode(round(querytimes, 4))\n",
    "print(f'Mean query times: {round(mean_query_time, 4)} seconds\\nMedian query times: {round(median_query_time, 4)} seconds\\nMode query times when query times rounded to 4 decimal: {str(mode_query_time.mode)} appeared {str(mode_query_time.count)} times')\n",
    "\n",
    "ranked_mean_query_time = np.mean(ranked_querytimes)\n",
    "ranked_median_query_time = np.median(ranked_querytimes)\n",
    "ranked_mode_query_time = stats.mode(round(ranked_querytimes, 4))\n",
    "print(f'Mean query times ranked: {round(ranked_mean_query_time, 4)} seconds\\nMedian query times: {round(ranked_median_query_time, 4)} seconds\\nMode query times when query times rounded to 4 decimal: {str(ranked_mode_query_time.mode)} appeared {str(ranked_mode_query_time.count)} times')"
   ]
  },
  {
   "cell_type": "code",
   "execution_count": 8,
   "metadata": {
    "id": "2Y1n_QCwFYD_",
    "outputId": "87344030-5412-4bb2-c186-75134d60c76f"
   },
   "outputs": [
    {
     "data": {
      "text/plain": [
       "0      0.106015\n",
       "15     0.062131\n",
       "85     0.059990\n",
       "58     0.059576\n",
       "269    0.058475\n",
       "170    0.056677\n",
       "157    0.055729\n",
       "228    0.054224\n",
       "261    0.051368\n",
       "192    0.050397\n",
       "Name: query_time, dtype: float64"
      ]
     },
     "metadata": {},
     "output_type": "display_data"
    },
    {
     "data": {
      "text/plain": [
       "7      0.001622\n",
       "402    0.002475\n",
       "334    0.002513\n",
       "9      0.002779\n",
       "345    0.003854\n",
       "343    0.004089\n",
       "360    0.004274\n",
       "309    0.004489\n",
       "367    0.004599\n",
       "365    0.004634\n",
       "Name: query_time, dtype: float64"
      ]
     },
     "metadata": {},
     "output_type": "display_data"
    }
   ],
   "source": [
    "display(querytimes.nlargest(10), querytimes.nsmallest(10))"
   ]
  },
  {
   "cell_type": "code",
   "execution_count": 18,
   "metadata": {},
   "outputs": [
    {
     "data": {
      "text/plain": [
       "269    0.242190\n",
       "261    0.220488\n",
       "157    0.219983\n",
       "201    0.218725\n",
       "170    0.218419\n",
       "0      0.214833\n",
       "216    0.206754\n",
       "228    0.205346\n",
       "205    0.204147\n",
       "162    0.203550\n",
       "Name: query_time_with_rank_time, dtype: float64"
      ]
     },
     "metadata": {},
     "output_type": "display_data"
    },
    {
     "data": {
      "text/plain": [
       "334    0.015386\n",
       "402    0.015615\n",
       "345    0.017549\n",
       "7      0.018199\n",
       "343    0.019038\n",
       "365    0.027696\n",
       "301    0.029370\n",
       "360    0.029650\n",
       "11     0.029698\n",
       "364    0.029864\n",
       "Name: query_time_with_rank_time, dtype: float64"
      ]
     },
     "metadata": {},
     "output_type": "display_data"
    }
   ],
   "source": [
    "display(ranked_querytimes.nlargest(10), ranked_querytimes.nsmallest(10))"
   ]
  },
  {
   "cell_type": "code",
   "execution_count": 15,
   "metadata": {
    "id": "ertROuu1FYD_",
    "outputId": "08bfca26-347b-40e7-e7a6-a6506885c89f"
   },
   "outputs": [
    {
     "data": {
      "text/plain": [
       "Text(0.5, 0, 'Query Time (seconds)')"
      ]
     },
     "execution_count": 15,
     "metadata": {},
     "output_type": "execute_result"
    },
    {
     "data": {
      "image/png": "[encoded data removed]",
      "text/plain": [
       "<Figure size 432x288 with 1 Axes>"
      ]
     },
     "metadata": {
      "needs_background": "light"
     },
     "output_type": "display_data"
    }
   ],
   "source": [
    "import matplotlib.pyplot as plt\n",
    "# frequency of query times\n",
    "sonic_results['query_time'].plot.hist(alpha=0.7, label='No Ranking');\n",
    "sonic_results['query_time_with_rank_time'].plot.hist(alpha=0.7, label='Ranking');\n",
    "plt.legend()\n",
    "plt.xlabel('Query Time (seconds)')\n"
   ]
  },
  {
   "cell_type": "code",
   "execution_count": 19,
   "metadata": {
    "id": "ZPaX6Tf3FYD_"
   },
   "outputs": [],
   "source": [
    "# all needed data for evaluation\n",
    "ids = sonic_results['id']\n",
    "evaluated_queries = [eval_queries['query'][id] for id in ids]\n",
    "relevant_entities = [eval_queries['relevant_entities'][id] for id in ids]\n",
    "very_relevant_entities = [eval_queries['very_relevant_entities'][id] for id in ids]\n",
    "retrieved_entities = sonic_results['retrieved']"
   ]
  },
  {
   "cell_type": "code",
   "execution_count": 20,
   "metadata": {
    "id": "W7oliecAFYD_"
   },
   "outputs": [],
   "source": [
    "len_eval_queries = [len(query.split()) for query in evaluated_queries]"
   ]
  },
  {
   "cell_type": "code",
   "execution_count": 27,
   "metadata": {
    "id": "RgXPhCCsFYD_",
    "outputId": "e2841109-1f33-46c9-881d-68f75bf09cfa"
   },
   "outputs": [
    {
     "data": {
      "image/png": "[encoded data removed]",
      "text/plain": [
       "<Figure size 432x288 with 1 Axes>"
      ]
     },
     "metadata": {
      "needs_background": "light"
     },
     "output_type": "display_data"
    }
   ],
   "source": [
    "import seaborn as sns\n",
    "from matplotlib import pyplot as plt\n",
    "\n",
    "# plot query time with query lenghts\n",
    "sns.scatterplot(y =querytimes, x = len_eval_queries, label='No Ranking', alpha=0.7);\n",
    "# plot query time with query lenghts\n",
    "sns.scatterplot(y =ranked_querytimes, x = len_eval_queries, label='Ranking', alpha=0.7);\n",
    "plt.xlabel('Lenght of query (seconds)');\n",
    "plt.ylabel('Time of query');\n",
    "plt.legend()\n",
    "plt.show()"
   ]
  },
  {
   "cell_type": "markdown",
   "metadata": {
    "id": "5XLQKe-XFYD_"
   },
   "source": [
    "### Precision Recall @n"
   ]
  },
  {
   "cell_type": "code",
   "execution_count": 28,
   "metadata": {
    "id": "q-naUGdyFYD_"
   },
   "outputs": [],
   "source": [
    "assesed_retrieved_precision_recall = []\n",
    "len_relevants = []\n",
    "assesed_retrieved_nDCG = []\n",
    "\n",
    "for retrievedentities, relevantentities, veryrelevantentities in zip(retrieved_entities, relevant_entities, very_relevant_entities):\n",
    "    assesed_precision_recall = []\n",
    "    assesed_nDCG = []\n",
    "\n",
    "    for entity in retrievedentities:\n",
    "        if entity in relevantentities:\n",
    "            assesed_precision_recall.append(1)\n",
    "            assesed_nDCG.append(1)\n",
    "\n",
    "        if entity in veryrelevantentities:\n",
    "            assesed_precision_recall.append(1)\n",
    "            assesed_nDCG.append(2)\n",
    "\n",
    "        else:\n",
    "            assesed_precision_recall.append(0)\n",
    "            assesed_nDCG.append(0)\n",
    "    \n",
    "    len_relevants.append(len(relevantentities) + len(veryrelevantentities))\n",
    "\n",
    "    assesed_retrieved_precision_recall.append(assesed_precision_recall)\n",
    "    assesed_retrieved_nDCG.append(assesed_nDCG)"
   ]
  },
  {
   "cell_type": "code",
   "execution_count": 29,
   "metadata": {
    "id": "IUxMB8mJFYD_"
   },
   "outputs": [],
   "source": [
    "# precision at n micro macro average\n",
    "import numpy as np\n",
    "\n",
    "def micro_macro_precision_recall_at_n(binary_assement_list:list, number_of_relevant_entities:list, n):\n",
    "    total_relevant = 0\n",
    "    total_number_retrieved = 0\n",
    "    precision_scores = []\n",
    "    recall_scores = []\n",
    "\n",
    "    for scores, number_relevant in zip(binary_assement_list, number_of_relevant_entities):\n",
    "        if len(scores) < n :\n",
    "            continue\n",
    "        scores = scores[:n]\n",
    "        relevant = sum(scores)\n",
    "        number_retrieved = len(scores)\n",
    "        precision = relevant/number_retrieved\n",
    "        recall = relevant/number_relevant\n",
    "\n",
    "\n",
    "        precision_scores.append(precision)\n",
    "        recall_scores.append(recall)\n",
    "        total_relevant += relevant\n",
    "        total_number_retrieved += number_retrieved\n",
    "\n",
    "    micro_average_precision = total_relevant/total_number_retrieved\n",
    "    macro_average_precision = np.mean(precision_scores)\n",
    "\n",
    "    micro_average_recall = total_relevant/sum(number_of_relevant_entities)\n",
    "    macro_average_recall = np.mean(recall_scores)\n",
    "\n",
    "    return micro_average_precision, macro_average_precision, micro_average_recall, macro_average_recall\n",
    "\n",
    "# PLOT PRECISION AT N RECALL AT N Take the scores over the length of the scores"
   ]
  },
  {
   "cell_type": "code",
   "execution_count": 30,
   "metadata": {
    "id": "JtfZmVzGFYD_",
    "outputId": "e4e84d84-5886-4eb3-be21-6a70a28af31b"
   },
   "outputs": [
    {
     "data": {
      "image/png": "[encoded data removed]",
      "text/plain": [
       "<Figure size 432x288 with 1 Axes>"
      ]
     },
     "metadata": {
      "needs_background": "light"
     },
     "output_type": "display_data"
    },
    {
     "data": {
      "text/plain": [
       "<matplotlib.legend.Legend at 0x14ab0f6a0>"
      ]
     },
     "execution_count": 30,
     "metadata": {},
     "output_type": "execute_result"
    },
    {
     "data": {
      "image/png": "[encoded data removed]",
      "text/plain": [
       "<Figure size 432x288 with 1 Axes>"
      ]
     },
     "metadata": {
      "needs_background": "light"
     },
     "output_type": "display_data"
    }
   ],
   "source": [
    "import matplotlib.pyplot as plt\n",
    "micro_p = []\n",
    "macro_p = []\n",
    "micro_r = []\n",
    "macro_r = []\n",
    "\n",
    "for n in range(1, 100):\n",
    "    micro_average_precision, macro_average_precision, micro_average_recall, macro_average_recall = micro_macro_precision_recall_at_n(assesed_retrieved_precision_recall, len_relevants, n)\n",
    "    micro_p.append(micro_average_precision)\n",
    "    macro_p.append(macro_average_precision)\n",
    "    micro_r.append(micro_average_recall)\n",
    "    macro_r.append(macro_average_recall)\n",
    "\n",
    "plt.plot(micro_p, alpha=0.7, label='Micro Precision');\n",
    "plt.title('Mirco-Macro Precision at n')\n",
    "plt.ylabel('Precision')\n",
    "plt.plot(macro_p, alpha=0.4, label='Macro Precision');\n",
    "plt.legend()\n",
    "# plt.title('Marco Precision at n')\n",
    "# plt.ylabel('Precision')\n",
    "plt.show();\n",
    "plt.plot(micro_r, alpha=0.7, label='Micro Recall');\n",
    "plt.title('Mirco-Macro Recall at n')\n",
    "plt.ylabel('Recall')\n",
    "plt.plot(macro_r, alpha=0.4, label='Macro Recall');\n",
    "plt.legend()\n"
   ]
  },
  {
   "cell_type": "code",
   "execution_count": 31,
   "metadata": {
    "id": "_vp_MqStFYEA",
    "outputId": "cca35278-6031-497f-af70-7a8c55b6eb7d"
   },
   "outputs": [
    {
     "name": "stdout",
     "output_type": "stream",
     "text": [
      "The Global Precision:\n",
      "Micro Average: 0.003027681660899654\n",
      "Macro Average: 0.002658651294119593\n",
      "\n",
      "The Global Recall:\n",
      "Micro Average: 0.0016766467065868263\n",
      "Macro Average: 0.0025600610102565957\n"
     ]
    }
   ],
   "source": [
    "total_relevant = 0\n",
    "total_number_retrieved = 0\n",
    "precision_scores = []\n",
    "recall_scores = []\n",
    "\n",
    "for id, (scores, number_relevant) in enumerate(zip(assesed_retrieved_precision_recall, len_relevants)):\n",
    "    relevant = sum(scores)\n",
    "    number_retrieved = len(scores)\n",
    "    precision = relevant/number_retrieved\n",
    "    recall = relevant/number_relevant\n",
    "\n",
    "\n",
    "    precision_scores.append(precision)\n",
    "    recall_scores.append(recall)\n",
    "    total_relevant += relevant\n",
    "    total_number_retrieved += number_retrieved\n",
    "\n",
    "micro_average_precision = total_relevant/total_number_retrieved\n",
    "macro_average_precision = np.mean(precision_scores)\n",
    "\n",
    "micro_average_recall = total_relevant/sum(len_relevants)\n",
    "macro_average_recall = np.mean(recall_scores)\n",
    "\n",
    "print(f'The Global Precision:\\nMicro Average: {micro_average_precision}\\nMacro Average: {macro_average_precision}\\n')\n",
    "print(f'The Global Recall:\\nMicro Average: {micro_average_recall}\\nMacro Average: {macro_average_recall}')"
   ]
  },
  {
   "cell_type": "markdown",
   "metadata": {
    "id": "29s61bFmFYEA"
   },
   "source": [
    "### DCG, iDCG, nDCG @n"
   ]
  },
  {
   "cell_type": "code",
   "execution_count": 32,
   "metadata": {
    "id": "raYcHb_fFYEA"
   },
   "outputs": [],
   "source": [
    "import numpy as np\n",
    "\n",
    "def dcg_idcg_ndcg(retrieved_relevance_DCG_scores:list, n:int):\n",
    "    # Relevance scores in Ideal order\n",
    "    sorted_relevace = sorted(retrieved_relevance_DCG_scores[:n], reverse=True)\n",
    "    # Relevance scores in output order\n",
    "    relevance_score = retrieved_relevance_DCG_scores[:n]\n",
    "\n",
    "    def discountedCumulativeGain(result):\n",
    "        dcg = []\n",
    "        for idx, val in enumerate(result): \n",
    "            numerator = 2**val - 1\n",
    "            # add 2 because python 0-index\n",
    "            denominator =  np.log2(idx + 2) \n",
    "            score = numerator/denominator\n",
    "            dcg.append(score)\n",
    "        return sum(dcg)\n",
    "\n",
    "    def normalizedDiscountedCumulativeGain(result, sorted_result): \n",
    "        dcg = discountedCumulativeGain(result)\n",
    "        idcg = discountedCumulativeGain(sorted_result)\n",
    "        ndcg = dcg / idcg\n",
    "        return ndcg\n",
    "\n",
    "    \n",
    "    return discountedCumulativeGain(relevance_score), discountedCumulativeGain(sorted_relevace), normalizedDiscountedCumulativeGain(relevance_score, sorted_relevace)"
   ]
  },
  {
   "cell_type": "code",
   "execution_count": 33,
   "metadata": {
    "id": "iGbGcrFKFYEA",
    "outputId": "485f0d4e-06ad-4673-d8bc-e0d39df3ac65"
   },
   "outputs": [
    {
     "name": "stderr",
     "output_type": "stream",
     "text": [
      "/var/folders/wt/zc3p8xys6pzdscmtyvwvlrkc0000gn/T/ipykernel_74605/473647459.py:22: RuntimeWarning: invalid value encountered in double_scalars\n",
      "  ndcg = dcg / idcg\n"
     ]
    }
   ],
   "source": [
    "import numpy as np\n",
    "\n",
    "mean_dcg_at_n, mean_idcg_at_n, mean_ndcg_at_n, mean_skipped_at_n = [], [], [], []\n",
    "\n",
    "for n in range(1, 100):\n",
    "    dcg_at_n, idcg_at_n, ndcg_at_n, skipped = [], [], [], 0\n",
    "    \n",
    "    for scores in assesed_retrieved_nDCG:\n",
    "        if len(scores)< n:\n",
    "            skipped += 1\n",
    "            continue\n",
    "        dcg, ideal_dcg, ndcg  = dcg_idcg_ndcg(scores, n)[0], dcg_idcg_ndcg(scores, n)[1], dcg_idcg_ndcg(scores, n)[2]\n",
    "        dcg_at_n.append(dcg)\n",
    "        idcg_at_n.append(ideal_dcg)\n",
    "        ndcg_at_n.append(ndcg)\n",
    "\n",
    "\n",
    "    mean_dcg_at_n.append(np.mean(dcg_at_n))\n",
    "    mean_idcg_at_n.append(np.mean(dcg_at_n))\n",
    "    mean_ndcg_at_n.append(np.mean(dcg_at_n))\n",
    "    mean_skipped_at_n.append(skipped/len(assesed_retrieved_nDCG)*100)\n",
    "\n",
    "    "
   ]
  },
  {
   "cell_type": "code",
   "execution_count": 34,
   "metadata": {
    "id": "CHpUAwHdFYEA",
    "outputId": "63124802-219b-4f1f-8ab3-e1c4d14418e7"
   },
   "outputs": [
    {
     "data": {
      "image/png": "[encoded data removed]",
      "text/plain": [
       "<Figure size 432x288 with 1 Axes>"
      ]
     },
     "metadata": {
      "needs_background": "light"
     },
     "output_type": "display_data"
    },
    {
     "data": {
      "image/png": "[encoded data removed]",
      "text/plain": [
       "<Figure size 432x288 with 1 Axes>"
      ]
     },
     "metadata": {
      "needs_background": "light"
     },
     "output_type": "display_data"
    },
    {
     "data": {
      "image/png": "[encoded data removed]",
      "text/plain": [
       "<Figure size 432x288 with 1 Axes>"
      ]
     },
     "metadata": {
      "needs_background": "light"
     },
     "output_type": "display_data"
    },
    {
     "data": {
      "image/png": "[encoded data removed]",
      "text/plain": [
       "<Figure size 432x288 with 1 Axes>"
      ]
     },
     "metadata": {
      "needs_background": "light"
     },
     "output_type": "display_data"
    }
   ],
   "source": [
    "import matplotlib.pyplot as plt\n",
    "\n",
    "plt.plot(mean_dcg_at_n)\n",
    "plt.ylabel('Score Mean DCG')\n",
    "plt.xlabel('n')\n",
    "plt.show()\n",
    "plt.plot(mean_idcg_at_n)\n",
    "plt.ylabel('Score Mean iDCG')\n",
    "plt.xlabel('n')\n",
    "plt.show()\n",
    "plt.plot(mean_ndcg_at_n)\n",
    "plt.ylabel('Score Mean nDCG')\n",
    "plt.xlabel('n')\n",
    "plt.show()\n",
    "plt.plot(mean_skipped_at_n)\n",
    "plt.ylabel('Percentage Skipped')\n",
    "plt.xlabel('n')\n",
    "plt.show()\n"
   ]
  },
  {
   "cell_type": "code",
   "execution_count": 35,
   "metadata": {
    "id": "AquO5CGtFYEA",
    "outputId": "afd607fa-4471-4740-e6bb-34ddd027f7fa"
   },
   "outputs": [
    {
     "name": "stderr",
     "output_type": "stream",
     "text": [
      "/var/folders/wt/zc3p8xys6pzdscmtyvwvlrkc0000gn/T/ipykernel_74605/473647459.py:22: RuntimeWarning: invalid value encountered in double_scalars\n",
      "  ndcg = dcg / idcg\n"
     ]
    },
    {
     "data": {
      "image/png": "[encoded data removed]",
      "text/plain": [
       "<Figure size 432x288 with 1 Axes>"
      ]
     },
     "metadata": {
      "needs_background": "light"
     },
     "output_type": "display_data"
    }
   ],
   "source": [
    "n = 40\n",
    "dcg_at_n, idcg_at_n, ndcg_at_n = [], [], []\n",
    "show_dense = False\n",
    "\n",
    "for i in assesed_retrieved_nDCG:\n",
    "    scores = i[:n]\n",
    "    if (len(scores)< n) and show_dense: continue\n",
    "    if len(scores)< n:\n",
    "        dcg_at_n.append(0)\n",
    "        idcg_at_n.append(0)\n",
    "        ndcg_at_n.append(0)\n",
    "        continue\n",
    "    dcg, ideal_dcg, ndcg  = dcg_idcg_ndcg(scores, n)[0], dcg_idcg_ndcg(scores, n)[1], dcg_idcg_ndcg(scores, n)[2]\n",
    "    dcg_at_n.append(dcg)\n",
    "    idcg_at_n.append(ideal_dcg)\n",
    "    ndcg_at_n.append(ndcg)\n",
    "\n",
    "plt.bar(range(len(dcg_at_n)), dcg_at_n, label='DCG', alpha=0.7)\n",
    "plt.bar(range(len(idcg_at_n)),idcg_at_n, label=\"iDCG\", alpha=0.5)\n",
    "plt.bar(range(len(ndcg_at_n)),ndcg_at_n, label='nDCG', alpha=0.7)\n",
    "plt.ylabel('Score')\n",
    "plt.xlabel('Query Number')\n",
    "plt.legend()\n",
    "plt.show()"
   ]
  }
 ],
 "metadata": {
  "kernelspec": {
   "display_name": "Python 3.9.10 ('text_mining')",
   "language": "python",
   "name": "python3"
  },
  "language_info": {
   "codemirror_mode": {
    "name": "ipython",
    "version": 3
   },
   "file_extension": ".py",
   "mimetype": "text/x-python",
   "name": "python",
   "nbconvert_exporter": "python",
   "pygments_lexer": "ipython3",
   "version": "3.9.10"
  },
  "orig_nbformat": 4,
  "vscode": {
   "interpreter": {
    "hash": "67f497da5d237a751f4c7c2f78442b34810fde0434166ff8c5c7514d8d3f9cab"
   }
  }
 },
 "nbformat": 4,
 "nbformat_minor": 2
}
