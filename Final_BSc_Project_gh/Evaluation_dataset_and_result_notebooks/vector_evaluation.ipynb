{
 "cells": [
  {
   "cell_type": "markdown",
   "metadata": {
    "id": "9ToPVhenFYEA"
   },
   "source": [
    "## Vector Search"
   ]
  },
  {
   "cell_type": "markdown",
   "metadata": {
    "id": "bFLW2RpjFYEA"
   },
   "source": [
    "See vector embedding and evaluation script."
   ]
  },
  {
   "cell_type": "code",
   "execution_count": 1,
   "metadata": {
    "id": "Z1S-9BR_FYEA"
   },
   "outputs": [],
   "source": [
    "# Load the results for the evaluation\n",
    "import bz2\n",
    "import _pickle as pickle\n",
    "# results with timout 200\n",
    "vector_results = pickle.load(bz2.BZ2File('vector_results_script.pkl.bz2', 'rb'))\n",
    "eval_queries = pickle.load(bz2.BZ2File('eval_queries.pkl.bz2', 'rb'))"
   ]
  },
  {
   "cell_type": "code",
   "execution_count": 2,
   "metadata": {
    "id": "sSy3X2E6FYEA",
    "outputId": "ffce2d46-6e82-427a-a2da-9ad796ddaf91"
   },
   "outputs": [
    {
     "data": {
      "text/html": [
       "<div>\n",
       "<style scoped>\n",
       "    .dataframe tbody tr th:only-of-type {\n",
       "        vertical-align: middle;\n",
       "    }\n",
       "\n",
       "    .dataframe tbody tr th {\n",
       "        vertical-align: top;\n",
       "    }\n",
       "\n",
       "    .dataframe thead th {\n",
       "        text-align: right;\n",
       "    }\n",
       "</style>\n",
       "<table border=\"1\" class=\"dataframe\">\n",
       "  <thead>\n",
       "    <tr style=\"text-align: right;\">\n",
       "      <th></th>\n",
       "      <th>id</th>\n",
       "      <th>retrieved</th>\n",
       "      <th>query_time</th>\n",
       "    </tr>\n",
       "  </thead>\n",
       "  <tbody>\n",
       "    <tr>\n",
       "      <th>0</th>\n",
       "      <td>0</td>\n",
       "      <td>[&lt;dbpedia:Cuisine_of_Szechwan&gt;, &lt;dbpedia:Szech...</td>\n",
       "      <td>0.373965</td>\n",
       "    </tr>\n",
       "    <tr>\n",
       "      <th>1</th>\n",
       "      <td>1</td>\n",
       "      <td>[&lt;dbpedia:Ancient_Roman_architecture&gt;, &lt;dbpedi...</td>\n",
       "      <td>0.616197</td>\n",
       "    </tr>\n",
       "    <tr>\n",
       "      <th>2</th>\n",
       "      <td>2</td>\n",
       "      <td>[&lt;dbpedia:Sisu_SA-240&gt;, &lt;dbpedia:Sisu_Auto&gt;, &lt;...</td>\n",
       "      <td>0.117644</td>\n",
       "    </tr>\n",
       "    <tr>\n",
       "      <th>3</th>\n",
       "      <td>3</td>\n",
       "      <td>[&lt;dbpedia:Bombing_of_Normandy&gt;, &lt;dbpedia:Invas...</td>\n",
       "      <td>0.095147</td>\n",
       "    </tr>\n",
       "    <tr>\n",
       "      <th>4</th>\n",
       "      <td>4</td>\n",
       "      <td>[&lt;dbpedia:Group_Selection&gt;, &lt;dbpedia:List_of_s...</td>\n",
       "      <td>0.123194</td>\n",
       "    </tr>\n",
       "    <tr>\n",
       "      <th>...</th>\n",
       "      <td>...</td>\n",
       "      <td>...</td>\n",
       "      <td>...</td>\n",
       "    </tr>\n",
       "    <tr>\n",
       "      <th>462</th>\n",
       "      <td>462</td>\n",
       "      <td>[&lt;dbpedia:List_of_professional_sports_teams_in...</td>\n",
       "      <td>0.047004</td>\n",
       "    </tr>\n",
       "    <tr>\n",
       "      <th>463</th>\n",
       "      <td>463</td>\n",
       "      <td>[&lt;dbpedia:GlobeImmune&gt;, &lt;dbpedia:MedImmune&gt;, &lt;...</td>\n",
       "      <td>0.049078</td>\n",
       "    </tr>\n",
       "    <tr>\n",
       "      <th>464</th>\n",
       "      <td>464</td>\n",
       "      <td>[&lt;dbpedia:List_of_Nobel_laureates_affiliated_w...</td>\n",
       "      <td>0.048354</td>\n",
       "    </tr>\n",
       "    <tr>\n",
       "      <th>465</th>\n",
       "      <td>465</td>\n",
       "      <td>[&lt;dbpedia:US_Airways_fleet&gt;, &lt;dbpedia:Boeing_7...</td>\n",
       "      <td>0.048856</td>\n",
       "    </tr>\n",
       "    <tr>\n",
       "      <th>466</th>\n",
       "      <td>466</td>\n",
       "      <td>[&lt;dbpedia:Beaux_Arts_Trio&gt;, &lt;dbpedia:Manhattan...</td>\n",
       "      <td>0.049304</td>\n",
       "    </tr>\n",
       "  </tbody>\n",
       "</table>\n",
       "<p>467 rows × 3 columns</p>\n",
       "</div>"
      ],
      "text/plain": [
       "      id                                          retrieved  query_time\n",
       "0      0  [<dbpedia:Cuisine_of_Szechwan>, <dbpedia:Szech...    0.373965\n",
       "1      1  [<dbpedia:Ancient_Roman_architecture>, <dbpedi...    0.616197\n",
       "2      2  [<dbpedia:Sisu_SA-240>, <dbpedia:Sisu_Auto>, <...    0.117644\n",
       "3      3  [<dbpedia:Bombing_of_Normandy>, <dbpedia:Invas...    0.095147\n",
       "4      4  [<dbpedia:Group_Selection>, <dbpedia:List_of_s...    0.123194\n",
       "..   ...                                                ...         ...\n",
       "462  462  [<dbpedia:List_of_professional_sports_teams_in...    0.047004\n",
       "463  463  [<dbpedia:GlobeImmune>, <dbpedia:MedImmune>, <...    0.049078\n",
       "464  464  [<dbpedia:List_of_Nobel_laureates_affiliated_w...    0.048354\n",
       "465  465  [<dbpedia:US_Airways_fleet>, <dbpedia:Boeing_7...    0.048856\n",
       "466  466  [<dbpedia:Beaux_Arts_Trio>, <dbpedia:Manhattan...    0.049304\n",
       "\n",
       "[467 rows x 3 columns]"
      ]
     },
     "execution_count": 2,
     "metadata": {},
     "output_type": "execute_result"
    }
   ],
   "source": [
    "vector_results"
   ]
  },
  {
   "cell_type": "code",
   "execution_count": 4,
   "metadata": {
    "id": "Jj15Au2tFYEB",
    "outputId": "fbd66698-af36-4039-f4b6-adc1c0b5ef98"
   },
   "outputs": [
    {
     "name": "stdout",
     "output_type": "stream",
     "text": [
      "Mean query times: 0.0974 seconds\n",
      "Median query times: 0.0561 seconds\n",
      "Mode query times when query times rounded to 1 decimal: [0.0444] appeared [7] times\n"
     ]
    }
   ],
   "source": [
    "#  average query time\n",
    "from scipy import stats\n",
    "import numpy as np\n",
    "querytimes = vector_results['query_time']\n",
    "mean_query_time = np.mean(querytimes)\n",
    "median_query_time = np.median(vector_results['query_time'])\n",
    "mode_query_time = stats.mode(round(vector_results['query_time'], 4))\n",
    "print(f'Mean query times: {round(mean_query_time, 4)} seconds\\nMedian query times: {round(median_query_time, 4)} seconds\\nMode query times when query times rounded to 1 decimal: {str(mode_query_time.mode)} appeared {str(mode_query_time.count)} times')"
   ]
  },
  {
   "cell_type": "code",
   "execution_count": 5,
   "metadata": {
    "id": "PEXklMzRFYEB",
    "outputId": "4cddac9b-551c-480e-9b95-3a3ef880be57"
   },
   "outputs": [
    {
     "data": {
      "text/plain": [
       "145    1.870706\n",
       "143    1.805792\n",
       "144    1.696234\n",
       "148    1.665734\n",
       "147    1.508186\n",
       "181    1.074604\n",
       "142    0.826082\n",
       "1      0.616197\n",
       "461    0.570484\n",
       "100    0.529658\n",
       "Name: query_time, dtype: float64"
      ]
     },
     "metadata": {},
     "output_type": "display_data"
    },
    {
     "data": {
      "text/plain": [
       "35     0.037922\n",
       "60     0.037958\n",
       "348    0.038323\n",
       "59     0.038538\n",
       "57     0.039798\n",
       "331    0.040788\n",
       "341    0.040869\n",
       "362    0.041069\n",
       "315    0.041295\n",
       "353    0.041305\n",
       "Name: query_time, dtype: float64"
      ]
     },
     "metadata": {},
     "output_type": "display_data"
    }
   ],
   "source": [
    "display(querytimes.nlargest(10), querytimes.nsmallest(10))"
   ]
  },
  {
   "cell_type": "code",
   "execution_count": 47,
   "metadata": {
    "id": "jjAOgA4uFYEB",
    "outputId": "1a9cb14b-4929-46d6-927c-d787cc64a48d"
   },
   "outputs": [
    {
     "data": {
      "text/plain": [
       "Text(0.5, 0, 'Query Time')"
      ]
     },
     "execution_count": 47,
     "metadata": {},
     "output_type": "execute_result"
    },
    {
     "data": {
      "image/png": "[encoded data removed]",
      "text/plain": [
       "<Figure size 432x288 with 1 Axes>"
      ]
     },
     "metadata": {
      "needs_background": "light"
     },
     "output_type": "display_data"
    }
   ],
   "source": [
    "import matplotlib.pyplot as plt\n",
    "# frequency of query times\n",
    "vector_results['query_time'].plot.hist(bins=30);\n",
    "plt.xlabel('Query Time')\n"
   ]
  },
  {
   "cell_type": "code",
   "execution_count": 9,
   "metadata": {
    "id": "flBzcKSPFYEB"
   },
   "outputs": [],
   "source": [
    "# all needed data for evaluation\n",
    "ids = vector_results['id']\n",
    "evaluated_queries = [eval_queries['query'][id] for id in ids]\n",
    "relevant_entities = [eval_queries['relevant_entities'][id] for id in ids]\n",
    "very_relevant_entities = [eval_queries['very_relevant_entities'][id] for id in ids]\n",
    "retrieved_entities = vector_results['retrieved']"
   ]
  },
  {
   "cell_type": "code",
   "execution_count": 10,
   "metadata": {
    "id": "GCYFp_xZFYEB"
   },
   "outputs": [],
   "source": [
    "len_eval_queries = [len(query.split()) for query in evaluated_queries]"
   ]
  },
  {
   "cell_type": "code",
   "execution_count": 11,
   "metadata": {
    "id": "obblvue0FYEB",
    "outputId": "7e031b4b-7ff6-437e-bd5f-33b1291e710c"
   },
   "outputs": [
    {
     "data": {
      "image/png": "[encoded data removed]",
      "text/plain": [
       "<Figure size 432x288 with 1 Axes>"
      ]
     },
     "metadata": {
      "needs_background": "light"
     },
     "output_type": "display_data"
    }
   ],
   "source": [
    "import seaborn as sns\n",
    "from matplotlib import pyplot as plt\n",
    "\n",
    "# plot query time with query lenghts\n",
    "sns.scatterplot(y =querytimes, x = len_eval_queries);\n",
    "plt.xlabel('Lenght of query');\n",
    "plt.ylabel('Time of query');"
   ]
  },
  {
   "cell_type": "markdown",
   "metadata": {
    "id": "OqD_84BpFYEB"
   },
   "source": [
    "### Precision Recall @n"
   ]
  },
  {
   "cell_type": "code",
   "execution_count": 12,
   "metadata": {
    "id": "cJRomD8SFYEB"
   },
   "outputs": [],
   "source": [
    "assesed_retrieved_precision_recall = []\n",
    "len_relevants = []\n",
    "assesed_retrieved_nDCG = []\n",
    "\n",
    "for retrievedentities, relevantentities, veryrelevantentities in zip(retrieved_entities, relevant_entities, very_relevant_entities):\n",
    "    assesed_precision_recall = []\n",
    "    assesed_nDCG = []\n",
    "\n",
    "    for entity in retrievedentities:\n",
    "        if entity in relevantentities:\n",
    "            assesed_precision_recall.append(1)\n",
    "            assesed_nDCG.append(1)\n",
    "\n",
    "        if entity in veryrelevantentities:\n",
    "            assesed_precision_recall.append(1)\n",
    "            assesed_nDCG.append(2)\n",
    "\n",
    "        else:\n",
    "            assesed_precision_recall.append(0)\n",
    "            assesed_nDCG.append(0)\n",
    "    \n",
    "    len_relevants.append(len(relevantentities) + len(veryrelevantentities))\n",
    "\n",
    "    assesed_retrieved_precision_recall.append(assesed_precision_recall)\n",
    "    assesed_retrieved_nDCG.append(assesed_nDCG)"
   ]
  },
  {
   "cell_type": "code",
   "execution_count": 39,
   "metadata": {
    "id": "et5dAKFoFYEB"
   },
   "outputs": [],
   "source": [
    "# precision at n micro macro average\n",
    "import numpy as np\n",
    "\n",
    "def micro_macro_precision_recall_at_n(score_list:list, number_of_relevant_entities:list, n):\n",
    "    total_relevant = 0\n",
    "    total_number_retrieved = 0\n",
    "    precision_scores = []\n",
    "    recall_scores = []\n",
    "\n",
    "    for scores, number_relevant in zip(score_list, number_of_relevant_entities):\n",
    "        if len(scores) < n :\n",
    "            continue\n",
    "        \n",
    "        scores = scores[:n]\n",
    "        relevant = sum(scores)\n",
    "        number_retrieved = len(scores)\n",
    "        precision = relevant/number_retrieved\n",
    "        recall = relevant/number_relevant\n",
    "\n",
    "\n",
    "        precision_scores.append(precision)\n",
    "        recall_scores.append(recall)\n",
    "        total_relevant += relevant\n",
    "        total_number_retrieved += number_retrieved\n",
    "\n",
    "    if total_relevant == 0:\n",
    "        micro_average_precision = 0\n",
    "        macro_average_precision = 0\n",
    "\n",
    "        micro_average_recall = 0\n",
    "        macro_average_recall = 0\n",
    "    else:\n",
    "        micro_average_precision = total_relevant/total_number_retrieved\n",
    "        macro_average_precision = np.mean(precision_scores)\n",
    "\n",
    "        micro_average_recall = total_relevant/sum(number_of_relevant_entities)\n",
    "        macro_average_recall = np.mean(recall_scores)\n",
    "\n",
    "    return micro_average_precision, macro_average_precision, micro_average_recall, macro_average_recall\n",
    "\n",
    "# PLOT PRECISION AT N RECALL AT N Take the scores over the length of the scores"
   ]
  },
  {
   "cell_type": "code",
   "execution_count": 40,
   "metadata": {
    "id": "Dm48BSw6FYEB",
    "outputId": "9024072d-a008-48b8-af1f-c7d25ddea9c7"
   },
   "outputs": [
    {
     "data": {
      "image/png": "[encoded data removed]",
      "text/plain": [
       "<Figure size 432x288 with 1 Axes>"
      ]
     },
     "metadata": {
      "needs_background": "light"
     },
     "output_type": "display_data"
    },
    {
     "data": {
      "text/plain": [
       "<matplotlib.legend.Legend at 0x28a87dc10>"
      ]
     },
     "execution_count": 40,
     "metadata": {},
     "output_type": "execute_result"
    },
    {
     "data": {
      "image/png": "[encoded data removed]",
      "text/plain": [
       "<Figure size 432x288 with 1 Axes>"
      ]
     },
     "metadata": {
      "needs_background": "light"
     },
     "output_type": "display_data"
    }
   ],
   "source": [
    "import matplotlib.pyplot as plt\n",
    "micro_p = []\n",
    "macro_p = []\n",
    "micro_r = []\n",
    "macro_r = []\n",
    "\n",
    "for n in range(1, 100):\n",
    "    micro_average_precision, macro_average_precision, micro_average_recall, macro_average_recall = micro_macro_precision_recall_at_n(assesed_retrieved_precision_recall, len_relevants, n)\n",
    "    micro_p.append(micro_average_precision)\n",
    "    macro_p.append(macro_average_precision)\n",
    "    micro_r.append(micro_average_recall)\n",
    "    macro_r.append(macro_average_recall)\n",
    "\n",
    "plt.plot(micro_p, alpha=0.7, label='Micro Precision');\n",
    "plt.title('Mirco-Macro Precision at n')\n",
    "plt.ylabel('Precision')\n",
    "plt.plot(macro_p, alpha=0.4, label='Macro Precision');\n",
    "plt.legend()\n",
    "# plt.title('Marco Precision at n')\n",
    "# plt.ylabel('Precision')\n",
    "plt.show();\n",
    "plt.plot(micro_r, alpha=0.7, label='Micro Recall');\n",
    "plt.title('Mirco-Macro Recall at n')\n",
    "plt.ylabel('Recall')\n",
    "plt.plot(macro_r, alpha=0.4, label='Macro Recall');\n",
    "plt.legend()\n"
   ]
  },
  {
   "cell_type": "code",
   "execution_count": 41,
   "metadata": {
    "id": "PaI2ajsGFYEB",
    "outputId": "2ce8afbe-5f79-414d-fe88-bfe4773b2842"
   },
   "outputs": [
    {
     "name": "stdout",
     "output_type": "stream",
     "text": [
      "The Global Precision:\n",
      "Micro Average: 0.14398660589712584\n",
      "Macro Average: 0.14180312180037297\n",
      "\n",
      "The Global Recall:\n",
      "Micro Average: 0.09269461077844311\n",
      "Macro Average: 0.15726926074517902\n"
     ]
    }
   ],
   "source": [
    "total_relevant = 0\n",
    "total_number_retrieved = 0\n",
    "precision_scores = []\n",
    "recall_scores = []\n",
    "\n",
    "for id, (scores, number_relevant) in enumerate(zip(assesed_retrieved_precision_recall, len_relevants)):\n",
    "    relevant = sum(scores)\n",
    "    number_retrieved = len(scores)\n",
    "    precision = relevant/number_retrieved\n",
    "    recall = relevant/number_relevant\n",
    "\n",
    "\n",
    "    precision_scores.append(precision)\n",
    "    recall_scores.append(recall)\n",
    "    total_relevant += relevant\n",
    "    total_number_retrieved += number_retrieved\n",
    "\n",
    "micro_average_precision = total_relevant/total_number_retrieved\n",
    "macro_average_precision = np.mean(precision_scores)\n",
    "\n",
    "micro_average_recall = total_relevant/sum(len_relevants)\n",
    "macro_average_recall = np.mean(recall_scores)\n",
    "\n",
    "print(f'The Global Precision:\\nMicro Average: {micro_average_precision}\\nMacro Average: {macro_average_precision}\\n')\n",
    "print(f'The Global Recall:\\nMicro Average: {micro_average_recall}\\nMacro Average: {macro_average_recall}')"
   ]
  },
  {
   "cell_type": "markdown",
   "metadata": {
    "id": "MLr5Pd7AFYEC"
   },
   "source": [
    "### DCG, iDCG, nDCG @n"
   ]
  },
  {
   "cell_type": "code",
   "execution_count": 42,
   "metadata": {
    "id": "6sPWzwkPFYEC"
   },
   "outputs": [],
   "source": [
    "import numpy as np\n",
    "\n",
    "def dcg_idcg_ndcg(retrieved_relevance_DCG_scores:list, n:int):\n",
    "    # Relevance scores in Ideal order\n",
    "    sorted_relevace = sorted(retrieved_relevance_DCG_scores[:n], reverse=True)\n",
    "    # Relevance scores in output order\n",
    "    relevance_score = retrieved_relevance_DCG_scores[:n]\n",
    "\n",
    "    def discountedCumulativeGain(result):\n",
    "        dcg = []\n",
    "        for idx, val in enumerate(result): \n",
    "            numerator = 2**val - 1\n",
    "            # add 2 because python 0-index\n",
    "            denominator =  np.log2(idx + 2) \n",
    "            score = numerator/denominator\n",
    "            dcg.append(score)\n",
    "        return sum(dcg)\n",
    "\n",
    "    def normalizedDiscountedCumulativeGain(result, sorted_result): \n",
    "        dcg = discountedCumulativeGain(result)\n",
    "        idcg = discountedCumulativeGain(sorted_result)\n",
    "        ndcg = dcg / idcg\n",
    "        return ndcg\n",
    "\n",
    "    \n",
    "    return discountedCumulativeGain(relevance_score), discountedCumulativeGain(sorted_relevace), normalizedDiscountedCumulativeGain(relevance_score, sorted_relevace)"
   ]
  },
  {
   "cell_type": "code",
   "execution_count": 43,
   "metadata": {
    "id": "ooGjRlv_FYEC",
    "outputId": "a90f472e-bb72-4588-d3be-a1e6afc981ea"
   },
   "outputs": [
    {
     "name": "stderr",
     "output_type": "stream",
     "text": [
      "/var/folders/wt/zc3p8xys6pzdscmtyvwvlrkc0000gn/T/ipykernel_52866/473647459.py:22: RuntimeWarning: invalid value encountered in double_scalars\n",
      "  ndcg = dcg / idcg\n"
     ]
    }
   ],
   "source": [
    "import numpy as np\n",
    "\n",
    "mean_dcg_at_n, mean_idcg_at_n, mean_ndcg_at_n, mean_skipped_at_n = [], [], [], []\n",
    "\n",
    "for n in range(1, 100):\n",
    "    dcg_at_n, idcg_at_n, ndcg_at_n, skipped = [], [], [], 0\n",
    "    \n",
    "    for scores in assesed_retrieved_nDCG:\n",
    "        if len(scores)< n:\n",
    "            skipped += 1\n",
    "            continue\n",
    "        dcg, ideal_dcg, ndcg  = dcg_idcg_ndcg(scores, n)[0], dcg_idcg_ndcg(scores, n)[1], dcg_idcg_ndcg(scores, n)[2]\n",
    "        dcg_at_n.append(dcg)\n",
    "        idcg_at_n.append(ideal_dcg)\n",
    "        ndcg_at_n.append(ndcg)\n",
    "\n",
    "\n",
    "    mean_dcg_at_n.append(np.mean(dcg_at_n))\n",
    "    mean_idcg_at_n.append(np.mean(dcg_at_n))\n",
    "    mean_ndcg_at_n.append(np.mean(dcg_at_n))\n",
    "    mean_skipped_at_n.append(skipped/len(assesed_retrieved_nDCG)*100)\n",
    "\n",
    "    "
   ]
  },
  {
   "cell_type": "code",
   "execution_count": 44,
   "metadata": {
    "id": "ngUtUSXUFYEC",
    "outputId": "625a6b61-9b13-4268-9643-4b7c147dc2ac"
   },
   "outputs": [
    {
     "data": {
      "image/png": "[encoded data removed]",
      "text/plain": [
       "<Figure size 432x288 with 1 Axes>"
      ]
     },
     "metadata": {
      "needs_background": "light"
     },
     "output_type": "display_data"
    },
    {
     "data": {
      "image/png": "[encoded data removed]",
      "text/plain": [
       "<Figure size 432x288 with 1 Axes>"
      ]
     },
     "metadata": {
      "needs_background": "light"
     },
     "output_type": "display_data"
    },
    {
     "data": {
      "image/png": "[encoded data removed]",
      "text/plain": [
       "<Figure size 432x288 with 1 Axes>"
      ]
     },
     "metadata": {
      "needs_background": "light"
     },
     "output_type": "display_data"
    },
    {
     "data": {
      "image/png": "[encoded data removed]",
      "text/plain": [
       "<Figure size 432x288 with 1 Axes>"
      ]
     },
     "metadata": {
      "needs_background": "light"
     },
     "output_type": "display_data"
    }
   ],
   "source": [
    "import matplotlib.pyplot as plt\n",
    "\n",
    "plt.plot(mean_dcg_at_n)\n",
    "plt.ylabel('Score Mean DCG')\n",
    "plt.xlabel('n')\n",
    "plt.show()\n",
    "plt.plot(mean_idcg_at_n)\n",
    "plt.ylabel('Score Mean iDCG')\n",
    "plt.xlabel('n')\n",
    "plt.show()\n",
    "plt.plot(mean_ndcg_at_n)\n",
    "plt.ylabel('Score Mean nDCG')\n",
    "plt.xlabel('n')\n",
    "plt.show()\n",
    "plt.plot(mean_skipped_at_n)\n",
    "plt.ylabel('Percentage Skipped')\n",
    "plt.xlabel('n')\n",
    "plt.show()\n"
   ]
  },
  {
   "cell_type": "code",
   "execution_count": 36,
   "metadata": {
    "id": "ndt9wdKaFYEC",
    "outputId": "3858e415-fb76-409f-e98e-7b5a7ce06a75"
   },
   "outputs": [
    {
     "data": {
      "image/png": "[encoded data removed]",
      "text/plain": [
       "<Figure size 432x288 with 1 Axes>"
      ]
     },
     "metadata": {
      "needs_background": "light"
     },
     "output_type": "display_data"
    }
   ],
   "source": [
    "n = 59\n",
    "dcg_at_n, idcg_at_n, ndcg_at_n = [], [], []\n",
    "show_dense = False\n",
    "\n",
    "for i in assesed_retrieved_nDCG:\n",
    "    scores = i[:n]\n",
    "    if (len(scores)< n) and show_dense: continue\n",
    "    if len(scores)< n:\n",
    "        dcg_at_n.append(0)\n",
    "        idcg_at_n.append(0)\n",
    "        ndcg_at_n.append(0)\n",
    "        continue\n",
    "    dcg, ideal_dcg, ndcg  = dcg_idcg_ndcg(scores, n)[0], dcg_idcg_ndcg(scores, n)[1], dcg_idcg_ndcg(scores, n)[2]\n",
    "    dcg_at_n.append(dcg)\n",
    "    idcg_at_n.append(ideal_dcg)\n",
    "    ndcg_at_n.append(ndcg)\n",
    "\n",
    "plt.bar(range(len(dcg_at_n)), dcg_at_n, label='DCG', alpha=0.7)\n",
    "plt.bar(range(len(idcg_at_n)),idcg_at_n, label=\"iDCG\", alpha=0.5)\n",
    "plt.bar(range(len(ndcg_at_n)),ndcg_at_n, label='nDCG', alpha=0.7)\n",
    "plt.ylabel('Score')\n",
    "plt.xlabel('Query Number')\n",
    "plt.legend()\n",
    "plt.show()"
   ]
  }
 ],
 "metadata": {
  "kernelspec": {
   "display_name": "Python 3.9.10 ('text_mining')",
   "language": "python",
   "name": "python3"
  },
  "language_info": {
   "codemirror_mode": {
    "name": "ipython",
    "version": 3
   },
   "file_extension": ".py",
   "mimetype": "text/x-python",
   "name": "python",
   "nbconvert_exporter": "python",
   "pygments_lexer": "ipython3",
   "version": "3.9.10"
  },
  "orig_nbformat": 4,
  "vscode": {
   "interpreter": {
    "hash": "67f497da5d237a751f4c7c2f78442b34810fde0434166ff8c5c7514d8d3f9cab"
   }
  }
 },
 "nbformat": 4,
 "nbformat_minor": 2
}
