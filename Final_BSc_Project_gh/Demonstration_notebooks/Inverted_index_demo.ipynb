{
  "cells": [
    {
      "cell_type": "markdown",
      "metadata": {
        "id": "F-cqL5IVgBAI"
      },
      "source": [
        "# Indexing Linked Data"
      ]
    },
    {
      "cell_type": "markdown",
      "metadata": {
        "id": "-VdPnQc8fUHJ"
      },
      "source": [
        "*Author: Philippe Renzen*"
      ]
    },
    {
      "cell_type": "markdown",
      "metadata": {
        "id": "84fymStOMqnE"
      },
      "source": [
        "## Knowledge Graph of Dataset"
      ]
    },
    {
      "cell_type": "markdown",
      "metadata": {
        "id": "B1TWcxm3MtuJ"
      },
      "source": [
        "The example ontology consists mostly of entities, most are connected to litterals. The knowledge graph illustrates a simple example of a dataset for linked data information retrieval."
      ]
    },
    {
      "cell_type": "code",
      "execution_count": null,
      "metadata": {
        "colab": {
          "base_uri": "https://localhost:8080/",
          "height": 750
        },
        "id": "A0kveHh9heo3",
        "outputId": "881ca1c2-9dd0-456b-caca-d0ced84aa9dc"
      },
      "outputs": [
        {
          "data": {
            "image/svg+xml": "<svg content=\"&lt;mxfile host=&quot;app.diagrams.net&quot; modified=&quot;2022-05-01T21:20:24.250Z&quot; agent=&quot;5.0 (Macintosh; Intel Mac OS X 10_15_7) AppleWebKit/537.36 (KHTML, like Gecko) Chrome/100.0.4896.127 Safari/537.36&quot; etag=&quot;HUO5AkZcHNojMmfYpSBA&quot; version=&quot;17.4.1&quot; type=&quot;device&quot;&gt;&lt;diagram id=&quot;XlZ-g7sxFvhZWoZqUOSW&quot; name=&quot;Page-1&quot;&gt;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&lt;/diagram&gt;&lt;/mxfile&gt;\" height=\"709px\" version=\"1.1\" viewBox=\"-0.5 -0.5 763 709\" width=\"763px\" xmlns=\"http://www.w3.org/2000/svg\" xmlns:xlink=\"http://www.w3.org/1999/xlink\"><defs/><g><path d=\"M 230.38 243.31 L 153.12 288.48\" fill=\"none\" pointer-events=\"stroke\" stroke=\"rgb(0, 0, 0)\" stroke-miterlimit=\"10\"/><path d=\"M 148.59 291.13 L 152.87 284.58 L 153.12 288.48 L 156.4 290.62 Z\" fill=\"rgb(0, 0, 0)\" pointer-events=\"all\" stroke=\"rgb(0, 0, 0)\" stroke-miterlimit=\"10\"/><g transform=\"translate(-0.5 -0.5)\"><switch><foreignObject height=\"100%\" pointer-events=\"none\" requiredFeatures=\"http://www.w3.org/TR/SVG11/feature#Extensibility\" style=\"overflow: visible; text-align: left;\" width=\"100%\"><div style=\"display: flex; align-items: unsafe center; justify-content: unsafe center; width: 1px; height: 1px; padding-top: 266px; margin-left: 187px;\" xmlns=\"http://www.w3.org/1999/xhtml\"><div data-drawio-colors=\"color: rgb(0, 0, 0); background-color: rgb(255, 255, 255); \" style=\"box-sizing: border-box; font-size: 0px; text-align: center;\"><div style=\"display: inline-block; font-size: 11px; font-family: Helvetica; color: rgb(0, 0, 0); line-height: 1.2; pointer-events: all; background-color: rgb(255, 255, 255); white-space: nowrap;\">rdf:type</div></div></div></foreignObject><text fill=\"rgb(0, 0, 0)\" font-family=\"Helvetica\" font-size=\"11px\" text-anchor=\"middle\" x=\"187\" y=\"269\">rdf:type</text></switch></g><path d=\"M 254.29 219.37 L 289.5 159.13\" fill=\"none\" pointer-events=\"stroke\" stroke=\"rgb(0, 0, 0)\" stroke-miterlimit=\"10\"/><path d=\"M 292.15 154.6 L 291.64 162.41 L 289.5 159.13 L 285.59 158.88 Z\" fill=\"rgb(0, 0, 0)\" pointer-events=\"all\" stroke=\"rgb(0, 0, 0)\" stroke-miterlimit=\"10\"/><g transform=\"translate(-0.5 -0.5)\"><switch><foreignObject height=\"100%\" pointer-events=\"none\" requiredFeatures=\"http://www.w3.org/TR/SVG11/feature#Extensibility\" style=\"overflow: visible; text-align: left;\" width=\"100%\"><div style=\"display: flex; align-items: unsafe center; justify-content: unsafe center; width: 1px; height: 1px; padding-top: 189px; margin-left: 273px;\" xmlns=\"http://www.w3.org/1999/xhtml\"><div data-drawio-colors=\"color: rgb(0, 0, 0); background-color: rgb(255, 255, 255); \" style=\"box-sizing: border-box; font-size: 0px; text-align: center;\"><div style=\"display: inline-block; font-size: 10px; font-family: Helvetica; color: rgb(0, 0, 0); line-height: 1.2; pointer-events: all; background-color: rgb(255, 255, 255); white-space: nowrap;\">rdfs:comment</div></div></div></foreignObject><text fill=\"rgb(0, 0, 0)\" font-family=\"Helvetica\" font-size=\"10px\" text-anchor=\"middle\" x=\"273\" y=\"192\">rdfs:comment</text></switch></g><path d=\"M 230.75 225.08 L 177.87 191.42\" fill=\"none\" pointer-events=\"stroke\" stroke=\"rgb(0, 0, 0)\" stroke-miterlimit=\"10\"/><path d=\"M 173.44 188.6 L 181.23 189.41 L 177.87 191.42 L 177.47 195.31 Z\" fill=\"rgb(0, 0, 0)\" pointer-events=\"all\" stroke=\"rgb(0, 0, 0)\" stroke-miterlimit=\"10\"/><g transform=\"translate(-0.5 -0.5)\"><switch><foreignObject height=\"100%\" pointer-events=\"none\" requiredFeatures=\"http://www.w3.org/TR/SVG11/feature#Extensibility\" style=\"overflow: visible; text-align: left;\" width=\"100%\"><div style=\"display: flex; align-items: unsafe center; justify-content: unsafe center; width: 1px; height: 1px; padding-top: 204px; margin-left: 200px;\" xmlns=\"http://www.w3.org/1999/xhtml\"><div data-drawio-colors=\"color: rgb(0, 0, 0); background-color: rgb(255, 255, 255); \" style=\"box-sizing: border-box; font-size: 0px; text-align: center;\"><div style=\"display: inline-block; font-size: 10px; font-family: Helvetica; color: rgb(0, 0, 0); line-height: 1.2; pointer-events: all; background-color: rgb(255, 255, 255); white-space: nowrap;\">rdfs:label</div></div></div></foreignObject><text fill=\"rgb(0, 0, 0)\" font-family=\"Helvetica\" font-size=\"10px\" text-anchor=\"middle\" x=\"200\" y=\"207\">rdfs:label</text></switch></g><ellipse cx=\"245.5\" cy=\"234.5\" fill=\"#e1d5e7\" pointer-events=\"all\" rx=\"17.5\" ry=\"17.5\" stroke=\"#9673a6\"/><g transform=\"translate(-0.5 -0.5)\"><switch><foreignObject height=\"100%\" pointer-events=\"none\" requiredFeatures=\"http://www.w3.org/TR/SVG11/feature#Extensibility\" style=\"overflow: visible; text-align: left;\" width=\"100%\"><div style=\"display: flex; align-items: unsafe center; justify-content: unsafe center; width: 33px; height: 1px; padding-top: 235px; margin-left: 229px;\" xmlns=\"http://www.w3.org/1999/xhtml\"><div data-drawio-colors=\"color: rgb(0, 0, 0); background-color: rgb(255, 255, 255); border-color: #660066; \" style=\"box-sizing: border-box; font-size: 0px; text-align: center;\"><div style=\"display: inline-block; font-size: 12px; font-family: Helvetica; color: rgb(0, 0, 0); line-height: 1.2; pointer-events: all; background-color: rgb(255, 255, 255); border: 1px solid rgb(102, 0, 102); white-space: normal; overflow-wrap: normal;\">dbr:<span>Leonardo_da_Vinci</span></div></div></div></foreignObject><text fill=\"rgb(0, 0, 0)\" font-family=\"Helvetica\" font-size=\"12px\" text-anchor=\"middle\" x=\"246\" y=\"238\">dbr:Le...</text></switch></g><ellipse cx=\"132.5\" cy=\"300.5\" fill=\"#d5e8d4\" pointer-events=\"all\" rx=\"17.5\" ry=\"17.5\" stroke=\"#82b366\"/><g transform=\"translate(-0.5 -0.5)\"><switch><foreignObject height=\"100%\" pointer-events=\"none\" requiredFeatures=\"http://www.w3.org/TR/SVG11/feature#Extensibility\" style=\"overflow: visible; text-align: left;\" width=\"100%\"><div style=\"display: flex; align-items: unsafe center; justify-content: unsafe center; width: 33px; height: 1px; padding-top: 300px; margin-left: 116px;\" xmlns=\"http://www.w3.org/1999/xhtml\"><div data-drawio-colors=\"color: rgb(0, 0, 0); background-color: rgb(255, 255, 255); border-color: #009900; \" style=\"box-sizing: border-box; font-size: 0px; text-align: center;\"><div style=\"display: inline-block; font-size: 12px; font-family: Helvetica; color: rgb(0, 0, 0); line-height: 1.2; pointer-events: all; background-color: rgb(255, 255, 255); border: 1px solid rgb(0, 153, 0); white-space: normal; overflow-wrap: normal;\">dbo:Artist</div></div></div></foreignObject><text fill=\"rgb(0, 0, 0)\" font-family=\"Helvetica\" font-size=\"12px\" text-anchor=\"middle\" x=\"133\" y=\"304\">dbo:Ar...</text></switch></g><ellipse cx=\"301.5\" cy=\"138.5\" fill=\"#fff2cc\" pointer-events=\"all\" rx=\"17.5\" ry=\"17.5\" stroke=\"#d6b656\"/><g transform=\"translate(-0.5 -0.5)\"><switch><foreignObject height=\"100%\" pointer-events=\"none\" requiredFeatures=\"http://www.w3.org/TR/SVG11/feature#Extensibility\" style=\"overflow: visible; text-align: left;\" width=\"100%\"><div style=\"display: flex; align-items: unsafe center; justify-content: unsafe center; width: 1px; height: 1px; padding-top: 139px; margin-left: 302px;\" xmlns=\"http://www.w3.org/1999/xhtml\"><div data-drawio-colors=\"color: rgb(0, 0, 0); background-color: rgb(255, 255, 255); border-color: #999900; \" style=\"box-sizing: border-box; font-size: 0px; text-align: center;\"><div style=\"display: inline-block; font-size: 9px; font-family: Helvetica; color: rgb(0, 0, 0); line-height: 1.2; pointer-events: all; background-color: rgb(255, 255, 255); border: 1px solid rgb(153, 153, 0); white-space: nowrap;\">&quot;Leonardo da Vinci was an Italian polymath ...&quot;@en</div></div></div></foreignObject><text fill=\"rgb(0, 0, 0)\" font-family=\"Helvetica\" font-size=\"9px\" text-anchor=\"middle\" x=\"302\" y=\"141\">&quot;Leonar...</text></switch></g><path d=\"M 219.19 349.02 L 153.32 312.17\" fill=\"none\" pointer-events=\"stroke\" stroke=\"rgb(0, 0, 0)\" stroke-miterlimit=\"10\"/><path d=\"M 148.74 309.6 L 156.56 309.97 L 153.32 312.17 L 153.14 316.08 Z\" fill=\"rgb(0, 0, 0)\" pointer-events=\"all\" stroke=\"rgb(0, 0, 0)\" stroke-miterlimit=\"10\"/><g transform=\"translate(-0.5 -0.5)\"><switch><foreignObject height=\"100%\" pointer-events=\"none\" requiredFeatures=\"http://www.w3.org/TR/SVG11/feature#Extensibility\" style=\"overflow: visible; text-align: left;\" width=\"100%\"><div style=\"display: flex; align-items: unsafe center; justify-content: unsafe center; width: 1px; height: 1px; padding-top: 326px; margin-left: 180px;\" xmlns=\"http://www.w3.org/1999/xhtml\"><div data-drawio-colors=\"color: rgb(0, 0, 0); background-color: rgb(255, 255, 255); \" style=\"box-sizing: border-box; font-size: 0px; text-align: center;\"><div style=\"display: inline-block; font-size: 11px; font-family: Helvetica; color: rgb(0, 0, 0); line-height: 1.2; pointer-events: all; background-color: rgb(255, 255, 255); white-space: nowrap;\">rdf:type</div></div></div></foreignObject><text fill=\"rgb(0, 0, 0)\" font-family=\"Helvetica\" font-size=\"11px\" text-anchor=\"middle\" x=\"180\" y=\"329\">rdf:type</text></switch></g><path d=\"M 249.04 347.76 L 299.85 313.44\" fill=\"none\" pointer-events=\"stroke\" stroke=\"rgb(0, 0, 0)\" stroke-miterlimit=\"10\"/><path d=\"M 304.2 310.5 L 300.36 317.32 L 299.85 313.44 L 296.44 311.52 Z\" fill=\"rgb(0, 0, 0)\" pointer-events=\"all\" stroke=\"rgb(0, 0, 0)\" stroke-miterlimit=\"10\"/><g transform=\"translate(-0.5 -0.5)\"><switch><foreignObject height=\"100%\" pointer-events=\"none\" requiredFeatures=\"http://www.w3.org/TR/SVG11/feature#Extensibility\" style=\"overflow: visible; text-align: left;\" width=\"100%\"><div style=\"display: flex; align-items: unsafe center; justify-content: unsafe center; width: 1px; height: 1px; padding-top: 331px; margin-left: 272px;\" xmlns=\"http://www.w3.org/1999/xhtml\"><div data-drawio-colors=\"color: rgb(0, 0, 0); background-color: rgb(255, 255, 255); \" style=\"box-sizing: border-box; font-size: 0px; text-align: center;\"><div style=\"display: inline-block; font-size: 10px; font-family: Helvetica; color: rgb(0, 0, 0); line-height: 1.2; pointer-events: all; background-color: rgb(255, 255, 255); white-space: nowrap;\">dbo:birthName</div></div></div></foreignObject><text fill=\"rgb(0, 0, 0)\" font-family=\"Helvetica\" font-size=\"10px\" text-anchor=\"middle\" x=\"272\" y=\"334\">dbo:birthName</text></switch></g><path d=\"M 230.95 374.64 L 217.82 436.77\" fill=\"none\" pointer-events=\"stroke\" stroke=\"rgb(0, 0, 0)\" stroke-miterlimit=\"10\"/><path d=\"M 216.73 441.91 L 214.75 434.33 L 217.82 436.77 L 221.6 435.78 Z\" fill=\"rgb(0, 0, 0)\" pointer-events=\"all\" stroke=\"rgb(0, 0, 0)\" stroke-miterlimit=\"10\"/><g transform=\"translate(-0.5 -0.5)\"><switch><foreignObject height=\"100%\" pointer-events=\"none\" requiredFeatures=\"http://www.w3.org/TR/SVG11/feature#Extensibility\" style=\"overflow: visible; text-align: left;\" width=\"100%\"><div style=\"display: flex; align-items: unsafe center; justify-content: unsafe center; width: 1px; height: 1px; padding-top: 395px; margin-left: 224px;\" xmlns=\"http://www.w3.org/1999/xhtml\"><div data-drawio-colors=\"color: rgb(0, 0, 0); background-color: rgb(255, 255, 255); \" style=\"box-sizing: border-box; font-size: 0px; text-align: center;\"><div style=\"display: inline-block; font-size: 11px; font-family: Helvetica; color: rgb(0, 0, 0); line-height: 1.2; pointer-events: all; background-color: rgb(255, 255, 255); white-space: nowrap;\">dbo:abstract</div></div></div></foreignObject><text fill=\"rgb(0, 0, 0)\" font-family=\"Helvetica\" font-size=\"11px\" text-anchor=\"middle\" x=\"224\" y=\"399\">dbo:abstract</text></switch></g><ellipse cx=\"234.5\" cy=\"357.5\" fill=\"#e1d5e7\" pointer-events=\"all\" rx=\"17.5\" ry=\"17.5\" stroke=\"#9673a6\"/><g transform=\"translate(-0.5 -0.5)\"><switch><foreignObject height=\"100%\" pointer-events=\"none\" requiredFeatures=\"http://www.w3.org/TR/SVG11/feature#Extensibility\" style=\"overflow: visible; text-align: left;\" width=\"100%\"><div style=\"display: flex; align-items: unsafe center; justify-content: unsafe center; width: 33px; height: 1px; padding-top: 358px; margin-left: 218px;\" xmlns=\"http://www.w3.org/1999/xhtml\"><div data-drawio-colors=\"color: rgb(0, 0, 0); background-color: rgb(255, 255, 255); border-color: #660066; \" style=\"box-sizing: border-box; font-size: 0px; text-align: center;\"><div style=\"display: inline-block; font-size: 12px; font-family: Helvetica; color: rgb(0, 0, 0); line-height: 1.2; pointer-events: all; background-color: rgb(255, 255, 255); border: 1px solid rgb(102, 0, 102); white-space: normal; overflow-wrap: normal;\"><span>dbr:Vincent_van_Gogh<br/></span></div></div></div></foreignObject><text fill=\"rgb(0, 0, 0)\" font-family=\"Helvetica\" font-size=\"12px\" text-anchor=\"middle\" x=\"235\" y=\"361\">dbr:Vi...</text></switch></g><path d=\"M 289.44 559.6 L 168.08 531.32\" fill=\"none\" pointer-events=\"stroke\" stroke=\"rgb(0, 0, 0)\" stroke-miterlimit=\"10\"/><path d=\"M 162.96 530.13 L 170.57 528.31 L 168.08 531.32 L 168.99 535.13 Z\" fill=\"rgb(0, 0, 0)\" pointer-events=\"all\" stroke=\"rgb(0, 0, 0)\" stroke-miterlimit=\"10\"/><g transform=\"translate(-0.5 -0.5)\"><switch><foreignObject height=\"100%\" pointer-events=\"none\" requiredFeatures=\"http://www.w3.org/TR/SVG11/feature#Extensibility\" style=\"overflow: visible; text-align: left;\" width=\"100%\"><div style=\"display: flex; align-items: unsafe center; justify-content: unsafe center; width: 1px; height: 1px; padding-top: 544px; margin-left: 225px;\" xmlns=\"http://www.w3.org/1999/xhtml\"><div data-drawio-colors=\"color: rgb(0, 0, 0); background-color: rgb(255, 255, 255); \" style=\"box-sizing: border-box; font-size: 0px; text-align: center;\"><div style=\"display: inline-block; font-size: 10px; font-family: Helvetica; color: rgb(0, 0, 0); line-height: 1.2; pointer-events: all; background-color: rgb(255, 255, 255); white-space: nowrap;\">dbo:Author</div></div></div></foreignObject><text fill=\"rgb(0, 0, 0)\" font-family=\"Helvetica\" font-size=\"10px\" text-anchor=\"middle\" x=\"225\" y=\"547\">dbo:Author</text></switch></g><path d=\"M 306.5 546 L 390.86 530.99\" fill=\"none\" pointer-events=\"stroke\" stroke=\"rgb(0, 0, 0)\" stroke-miterlimit=\"10\"/><path d=\"M 396.02 530.07 L 389.75 534.74 L 390.86 530.99 L 388.52 527.85 Z\" fill=\"rgb(0, 0, 0)\" pointer-events=\"all\" stroke=\"rgb(0, 0, 0)\" stroke-miterlimit=\"10\"/><g transform=\"translate(-0.5 -0.5)\"><switch><foreignObject height=\"100%\" pointer-events=\"none\" requiredFeatures=\"http://www.w3.org/TR/SVG11/feature#Extensibility\" style=\"overflow: visible; text-align: left;\" width=\"100%\"><div style=\"display: flex; align-items: unsafe center; justify-content: unsafe center; width: 1px; height: 1px; padding-top: 539px; margin-left: 345px;\" xmlns=\"http://www.w3.org/1999/xhtml\"><div data-drawio-colors=\"color: rgb(0, 0, 0); background-color: rgb(255, 255, 255); \" style=\"box-sizing: border-box; font-size: 0px; text-align: center;\"><div style=\"display: inline-block; font-size: 11px; font-family: Helvetica; color: rgb(0, 0, 0); line-height: 1.2; pointer-events: all; background-color: rgb(255, 255, 255); white-space: nowrap;\">rdf:type</div></div></div></foreignObject><text fill=\"rgb(0, 0, 0)\" font-family=\"Helvetica\" font-size=\"11px\" text-anchor=\"middle\" x=\"345\" y=\"542\">rdf:type</text></switch></g><path d=\"M 306.08 581 L 303.71 654.64\" fill=\"none\" pointer-events=\"stroke\" stroke=\"rgb(0, 0, 0)\" stroke-miterlimit=\"10\"/><path d=\"M 303.54 659.88 L 300.26 652.77 L 303.71 654.64 L 307.26 653 Z\" fill=\"rgb(0, 0, 0)\" pointer-events=\"all\" stroke=\"rgb(0, 0, 0)\" stroke-miterlimit=\"10\"/><g transform=\"translate(-0.5 -0.5)\"><switch><foreignObject height=\"100%\" pointer-events=\"none\" requiredFeatures=\"http://www.w3.org/TR/SVG11/feature#Extensibility\" style=\"overflow: visible; text-align: left;\" width=\"100%\"><div style=\"display: flex; align-items: unsafe center; justify-content: unsafe center; width: 1px; height: 1px; padding-top: 618px; margin-left: 305px;\" xmlns=\"http://www.w3.org/1999/xhtml\"><div data-drawio-colors=\"color: rgb(0, 0, 0); background-color: rgb(255, 255, 255); \" style=\"box-sizing: border-box; font-size: 0px; text-align: center;\"><div style=\"display: inline-block; font-size: 11px; font-family: Helvetica; color: rgb(0, 0, 0); line-height: 1.2; pointer-events: all; background-color: rgb(255, 255, 255); white-space: nowrap;\">dbo:abstract</div></div></div></foreignObject><text fill=\"rgb(0, 0, 0)\" font-family=\"Helvetica\" font-size=\"11px\" text-anchor=\"middle\" x=\"305\" y=\"621\">dbo:abstract</text></switch></g><path d=\"M 320.37 574.17 L 382.06 621.26\" fill=\"none\" pointer-events=\"stroke\" stroke=\"rgb(0, 0, 0)\" stroke-miterlimit=\"10\"/><path d=\"M 386.24 624.45 L 378.55 622.98 L 382.06 621.26 L 382.8 617.42 Z\" fill=\"rgb(0, 0, 0)\" pointer-events=\"all\" stroke=\"rgb(0, 0, 0)\" stroke-miterlimit=\"10\"/><g transform=\"translate(-0.5 -0.5)\"><switch><foreignObject height=\"100%\" pointer-events=\"none\" requiredFeatures=\"http://www.w3.org/TR/SVG11/feature#Extensibility\" style=\"overflow: visible; text-align: left;\" width=\"100%\"><div style=\"display: flex; align-items: unsafe center; justify-content: unsafe center; width: 1px; height: 1px; padding-top: 596px; margin-left: 353px;\" xmlns=\"http://www.w3.org/1999/xhtml\"><div data-drawio-colors=\"color: rgb(0, 0, 0); background-color: rgb(255, 255, 255); \" style=\"box-sizing: border-box; font-size: 0px; text-align: center;\"><div style=\"display: inline-block; font-size: 11px; font-family: Helvetica; color: rgb(0, 0, 0); line-height: 1.2; pointer-events: all; background-color: rgb(255, 255, 255); white-space: nowrap;\">foaf:name</div></div></div></foreignObject><text fill=\"rgb(0, 0, 0)\" font-family=\"Helvetica\" font-size=\"11px\" text-anchor=\"middle\" x=\"353\" y=\"600\">foaf:name</text></switch></g><ellipse cx=\"306.5\" cy=\"563.5\" fill=\"#e1d5e7\" pointer-events=\"all\" rx=\"17.5\" ry=\"17.5\" stroke=\"#9673a6\"/><g transform=\"translate(-0.5 -0.5)\"><switch><foreignObject height=\"100%\" pointer-events=\"none\" requiredFeatures=\"http://www.w3.org/TR/SVG11/feature#Extensibility\" style=\"overflow: visible; text-align: left;\" width=\"100%\"><div style=\"display: flex; align-items: unsafe center; justify-content: unsafe center; width: 33px; height: 1px; padding-top: 564px; margin-left: 290px;\" xmlns=\"http://www.w3.org/1999/xhtml\"><div data-drawio-colors=\"color: rgb(0, 0, 0); background-color: rgb(255, 255, 255); border-color: #660066; \" style=\"box-sizing: border-box; font-size: 0px; text-align: center;\"><div style=\"display: inline-block; font-size: 12px; font-family: Helvetica; color: rgb(0, 0, 0); line-height: 1.2; pointer-events: all; background-color: rgb(255, 255, 255); border: 1px solid rgb(102, 0, 102); white-space: normal; overflow-wrap: normal;\"><span>dbr:Let_It_Be(Beatles_album)<br/></span></div></div></div></foreignObject><text fill=\"rgb(0, 0, 0)\" font-family=\"Helvetica\" font-size=\"12px\" text-anchor=\"middle\" x=\"307\" y=\"567\">dbr:Le...</text></switch></g><path d=\"M 152.69 534.71 L 174.31 648.74\" fill=\"none\" pointer-events=\"stroke\" stroke=\"rgb(0, 0, 0)\" stroke-miterlimit=\"10\"/><path d=\"M 175.29 653.9 L 170.55 647.68 L 174.31 648.74 L 177.43 646.37 Z\" fill=\"rgb(0, 0, 0)\" pointer-events=\"all\" stroke=\"rgb(0, 0, 0)\" stroke-miterlimit=\"10\"/><g transform=\"translate(-0.5 -0.5)\"><switch><foreignObject height=\"100%\" pointer-events=\"none\" requiredFeatures=\"http://www.w3.org/TR/SVG11/feature#Extensibility\" style=\"overflow: visible; text-align: left;\" width=\"100%\"><div style=\"display: flex; align-items: unsafe center; justify-content: unsafe center; width: 1px; height: 1px; padding-top: 626px; margin-left: 137px;\" xmlns=\"http://www.w3.org/1999/xhtml\"><div data-drawio-colors=\"color: rgb(0, 0, 0); background-color: rgb(255, 255, 255); \" style=\"box-sizing: border-box; font-size: 0px; text-align: center;\"><div style=\"display: inline-block; font-size: 11px; font-family: Helvetica; color: rgb(0, 0, 0); line-height: 1.2; pointer-events: all; background-color: rgb(255, 255, 255); white-space: nowrap;\">rdf:type</div></div></div></foreignObject><text fill=\"rgb(0, 0, 0)\" font-family=\"Helvetica\" font-size=\"11px\" text-anchor=\"middle\" x=\"137\" y=\"629\">rdf:type</text></switch></g><path d=\"M 142.41 533.5 L 82.72 668.04\" fill=\"none\" pointer-events=\"stroke\" stroke=\"rgb(0, 0, 0)\" stroke-miterlimit=\"10\"/><path d=\"M 80.6 672.84 L 80.23 665.02 L 82.72 668.04 L 86.63 667.86 Z\" fill=\"rgb(0, 0, 0)\" pointer-events=\"all\" stroke=\"rgb(0, 0, 0)\" stroke-miterlimit=\"10\"/><g transform=\"translate(-0.5 -0.5)\"><switch><foreignObject height=\"100%\" pointer-events=\"none\" requiredFeatures=\"http://www.w3.org/TR/SVG11/feature#Extensibility\" style=\"overflow: visible; text-align: left;\" width=\"100%\"><div style=\"display: flex; align-items: unsafe center; justify-content: unsafe center; width: 1px; height: 1px; padding-top: 601px; margin-left: 111px;\" xmlns=\"http://www.w3.org/1999/xhtml\"><div data-drawio-colors=\"color: rgb(0, 0, 0); background-color: rgb(255, 255, 255); \" style=\"box-sizing: border-box; font-size: 0px; text-align: center;\"><div style=\"display: inline-block; font-size: 11px; font-family: Helvetica; color: rgb(0, 0, 0); line-height: 1.2; pointer-events: all; background-color: rgb(255, 255, 255); white-space: nowrap;\">foaf:name</div></div></div></foreignObject><text fill=\"rgb(0, 0, 0)\" font-family=\"Helvetica\" font-size=\"11px\" text-anchor=\"middle\" x=\"111\" y=\"604\">foaf:name</text></switch></g><path d=\"M 138.69 503.73 L 97.2 450.3\" fill=\"none\" pointer-events=\"stroke\" stroke=\"rgb(0, 0, 0)\" stroke-miterlimit=\"10\"/><path d=\"M 93.98 446.16 L 101.04 449.54 L 97.2 450.3 L 95.51 453.83 Z\" fill=\"rgb(0, 0, 0)\" pointer-events=\"all\" stroke=\"rgb(0, 0, 0)\" stroke-miterlimit=\"10\"/><g transform=\"translate(-0.5 -0.5)\"><switch><foreignObject height=\"100%\" pointer-events=\"none\" requiredFeatures=\"http://www.w3.org/TR/SVG11/feature#Extensibility\" style=\"overflow: visible; text-align: left;\" width=\"100%\"><div style=\"display: flex; align-items: unsafe center; justify-content: unsafe center; width: 1px; height: 1px; padding-top: 473px; margin-left: 115px;\" xmlns=\"http://www.w3.org/1999/xhtml\"><div data-drawio-colors=\"color: rgb(0, 0, 0); background-color: rgb(255, 255, 255); \" style=\"box-sizing: border-box; font-size: 0px; text-align: center;\"><div style=\"display: inline-block; font-size: 11px; font-family: Helvetica; color: rgb(0, 0, 0); line-height: 1.2; pointer-events: all; background-color: rgb(255, 255, 255); white-space: nowrap;\">dbo:member</div></div></div></foreignObject><text fill=\"rgb(0, 0, 0)\" font-family=\"Helvetica\" font-size=\"11px\" text-anchor=\"middle\" x=\"115\" y=\"476\">dbo:member</text></switch></g><path d=\"M 135.73 528.3 L 57.89 589.2\" fill=\"none\" pointer-events=\"stroke\" stroke=\"rgb(0, 0, 0)\" stroke-miterlimit=\"10\"/><path d=\"M 53.75 592.44 L 57.11 585.37 L 57.89 589.2 L 61.42 590.88 Z\" fill=\"rgb(0, 0, 0)\" pointer-events=\"all\" stroke=\"rgb(0, 0, 0)\" stroke-miterlimit=\"10\"/><g transform=\"translate(-0.5 -0.5)\"><switch><foreignObject height=\"100%\" pointer-events=\"none\" requiredFeatures=\"http://www.w3.org/TR/SVG11/feature#Extensibility\" style=\"overflow: visible; text-align: left;\" width=\"100%\"><div style=\"display: flex; align-items: unsafe center; justify-content: unsafe center; width: 1px; height: 1px; padding-top: 559px; margin-left: 98px;\" xmlns=\"http://www.w3.org/1999/xhtml\"><div data-drawio-colors=\"color: rgb(0, 0, 0); background-color: rgb(255, 255, 255); \" style=\"box-sizing: border-box; font-size: 0px; text-align: center;\"><div style=\"display: inline-block; font-size: 11px; font-family: Helvetica; color: rgb(0, 0, 0); line-height: 1.2; pointer-events: all; background-color: rgb(255, 255, 255); white-space: nowrap;\">dbo:activeYearsStartYear</div></div></div></foreignObject><text fill=\"rgb(0, 0, 0)\" font-family=\"Helvetica\" font-size=\"11px\" text-anchor=\"middle\" x=\"98\" y=\"562\">dbo:activeYearsStartYear</text></switch></g><ellipse cx=\"149.5\" cy=\"517.5\" fill=\"#e1d5e7\" pointer-events=\"all\" rx=\"17.5\" ry=\"17.5\" stroke=\"#9673a6\"/><g transform=\"translate(-0.5 -0.5)\"><switch><foreignObject height=\"100%\" pointer-events=\"none\" requiredFeatures=\"http://www.w3.org/TR/SVG11/feature#Extensibility\" style=\"overflow: visible; text-align: left;\" width=\"100%\"><div style=\"display: flex; align-items: unsafe center; justify-content: unsafe center; width: 33px; height: 1px; padding-top: 518px; margin-left: 133px;\" xmlns=\"http://www.w3.org/1999/xhtml\"><div data-drawio-colors=\"color: rgb(0, 0, 0); background-color: rgb(255, 255, 255); border-color: #660066; \" style=\"box-sizing: border-box; font-size: 0px; text-align: center;\"><div style=\"display: inline-block; font-size: 12px; font-family: Helvetica; color: rgb(0, 0, 0); line-height: 1.2; pointer-events: all; background-color: rgb(255, 255, 255); border: 1px solid rgb(102, 0, 102); white-space: normal; overflow-wrap: normal;\">dbr:The_Beatles</div></div></div></foreignObject><text fill=\"rgb(0, 0, 0)\" font-family=\"Helvetica\" font-size=\"12px\" text-anchor=\"middle\" x=\"150\" y=\"521\">dbr:Th...</text></switch></g><path d=\"M 565.94 522.79 L 493.32 473.79\" fill=\"none\" pointer-events=\"stroke\" stroke=\"rgb(0, 0, 0)\" stroke-miterlimit=\"10\"/><path d=\"M 488.97 470.86 L 496.73 471.87 L 493.32 473.79 L 492.82 477.67 Z\" fill=\"rgb(0, 0, 0)\" pointer-events=\"all\" stroke=\"rgb(0, 0, 0)\" stroke-miterlimit=\"10\"/><g transform=\"translate(-0.5 -0.5)\"><switch><foreignObject height=\"100%\" pointer-events=\"none\" requiredFeatures=\"http://www.w3.org/TR/SVG11/feature#Extensibility\" style=\"overflow: visible; text-align: left;\" width=\"100%\"><div style=\"display: flex; align-items: unsafe center; justify-content: unsafe center; width: 1px; height: 1px; padding-top: 496px; margin-left: 522px;\" xmlns=\"http://www.w3.org/1999/xhtml\"><div data-drawio-colors=\"color: rgb(0, 0, 0); background-color: rgb(255, 255, 255); \" style=\"box-sizing: border-box; font-size: 0px; text-align: center;\"><div style=\"display: inline-block; font-size: 10px; font-family: Helvetica; color: rgb(0, 0, 0); line-height: 1.2; pointer-events: all; background-color: rgb(255, 255, 255); white-space: nowrap;\">dbo:foundingDate</div></div></div></foreignObject><text fill=\"rgb(0, 0, 0)\" font-family=\"Helvetica\" font-size=\"10px\" text-anchor=\"middle\" x=\"522\" y=\"499\">dbo:foundingDate</text></switch></g><path d=\"M 593.25 520.52 L 652.36 464.87\" fill=\"none\" pointer-events=\"stroke\" stroke=\"rgb(0, 0, 0)\" stroke-miterlimit=\"10\"/><path d=\"M 656.19 461.27 L 653.49 468.61 L 652.36 464.87 L 648.69 463.52 Z\" fill=\"rgb(0, 0, 0)\" pointer-events=\"all\" stroke=\"rgb(0, 0, 0)\" stroke-miterlimit=\"10\"/><g transform=\"translate(-0.5 -0.5)\"><switch><foreignObject height=\"100%\" pointer-events=\"none\" requiredFeatures=\"http://www.w3.org/TR/SVG11/feature#Extensibility\" style=\"overflow: visible; text-align: left;\" width=\"100%\"><div style=\"display: flex; align-items: unsafe center; justify-content: unsafe center; width: 1px; height: 1px; padding-top: 490px; margin-left: 626px;\" xmlns=\"http://www.w3.org/1999/xhtml\"><div data-drawio-colors=\"color: rgb(0, 0, 0); background-color: rgb(255, 255, 255); \" style=\"box-sizing: border-box; font-size: 0px; text-align: center;\"><div style=\"display: inline-block; font-size: 10px; font-family: Helvetica; color: rgb(0, 0, 0); line-height: 1.2; pointer-events: all; background-color: rgb(255, 255, 255); white-space: nowrap;\">dbo:abstract</div></div></div></foreignObject><text fill=\"rgb(0, 0, 0)\" font-family=\"Helvetica\" font-size=\"10px\" text-anchor=\"middle\" x=\"626\" y=\"493\">dbo:abstract</text></switch></g><path d=\"M 569.88 546.41 L 541.82 583.41\" fill=\"none\" pointer-events=\"stroke\" stroke=\"rgb(0, 0, 0)\" stroke-miterlimit=\"10\"/><path d=\"M 538.65 587.59 L 540.09 579.9 L 541.82 583.41 L 545.67 584.13 Z\" fill=\"rgb(0, 0, 0)\" pointer-events=\"all\" stroke=\"rgb(0, 0, 0)\" stroke-miterlimit=\"10\"/><g transform=\"translate(-0.5 -0.5)\"><switch><foreignObject height=\"100%\" pointer-events=\"none\" requiredFeatures=\"http://www.w3.org/TR/SVG11/feature#Extensibility\" style=\"overflow: visible; text-align: left;\" width=\"100%\"><div style=\"display: flex; align-items: unsafe center; justify-content: unsafe center; width: 1px; height: 1px; padding-top: 567px; margin-left: 554px;\" xmlns=\"http://www.w3.org/1999/xhtml\"><div data-drawio-colors=\"color: rgb(0, 0, 0); background-color: rgb(255, 255, 255); \" style=\"box-sizing: border-box; font-size: 0px; text-align: center;\"><div style=\"display: inline-block; font-size: 11px; font-family: Helvetica; color: rgb(0, 0, 0); line-height: 1.2; pointer-events: all; background-color: rgb(255, 255, 255); white-space: nowrap;\">rdfs:label</div></div></div></foreignObject><text fill=\"rgb(0, 0, 0)\" font-family=\"Helvetica\" font-size=\"11px\" text-anchor=\"middle\" x=\"554\" y=\"571\">rdfs:label</text></switch></g><ellipse cx=\"580.5\" cy=\"532.5\" fill=\"#e1d5e7\" pointer-events=\"all\" rx=\"17.5\" ry=\"17.5\" stroke=\"#9673a6\"/><g transform=\"translate(-0.5 -0.5)\"><switch><foreignObject height=\"100%\" pointer-events=\"none\" requiredFeatures=\"http://www.w3.org/TR/SVG11/feature#Extensibility\" style=\"overflow: visible; text-align: left;\" width=\"100%\"><div style=\"display: flex; align-items: unsafe center; justify-content: unsafe center; width: 33px; height: 1px; padding-top: 533px; margin-left: 564px;\" xmlns=\"http://www.w3.org/1999/xhtml\"><div data-drawio-colors=\"color: rgb(0, 0, 0); background-color: rgb(255, 255, 255); border-color: #660066; \" style=\"box-sizing: border-box; font-size: 0px; text-align: center;\"><div style=\"display: inline-block; font-size: 12px; font-family: Helvetica; color: rgb(0, 0, 0); line-height: 1.2; pointer-events: all; background-color: rgb(255, 255, 255); border: 1px solid rgb(102, 0, 102); white-space: normal; overflow-wrap: normal;\">dbr:Louvre</div></div></div></foreignObject><text fill=\"rgb(0, 0, 0)\" font-family=\"Helvetica\" font-size=\"12px\" text-anchor=\"middle\" x=\"581\" y=\"536\">dbr:Lo...</text></switch></g><path d=\"M 465 246.5 L 264.24 246.86\" fill=\"none\" pointer-events=\"stroke\" stroke=\"rgb(0, 0, 0)\" stroke-miterlimit=\"10\"/><path d=\"M 258.99 246.87 L 265.99 243.36 L 264.24 246.86 L 266 250.36 Z\" fill=\"rgb(0, 0, 0)\" pointer-events=\"all\" stroke=\"rgb(0, 0, 0)\" stroke-miterlimit=\"10\"/><g transform=\"translate(-0.5 -0.5)\"><switch><foreignObject height=\"100%\" pointer-events=\"none\" requiredFeatures=\"http://www.w3.org/TR/SVG11/feature#Extensibility\" style=\"overflow: visible; text-align: left;\" width=\"100%\"><div style=\"display: flex; align-items: unsafe center; justify-content: unsafe center; width: 1px; height: 1px; padding-top: 248px; margin-left: 378px;\" xmlns=\"http://www.w3.org/1999/xhtml\"><div data-drawio-colors=\"color: rgb(0, 0, 0); background-color: rgb(255, 255, 255); \" style=\"box-sizing: border-box; font-size: 0px; text-align: center;\"><div style=\"display: inline-block; font-size: 11px; font-family: Helvetica; color: rgb(0, 0, 0); line-height: 1.2; pointer-events: all; background-color: rgb(255, 255, 255); white-space: nowrap;\">dbo:Author</div></div></div></foreignObject><text fill=\"rgb(0, 0, 0)\" font-family=\"Helvetica\" font-size=\"11px\" text-anchor=\"middle\" x=\"378\" y=\"251\">dbo:Author</text></switch></g><path d=\"M 488.18 263.05 L 572.77 509.92\" fill=\"none\" pointer-events=\"stroke\" stroke=\"rgb(0, 0, 0)\" stroke-miterlimit=\"10\"/><path d=\"M 574.47 514.89 L 568.89 509.4 L 572.77 509.92 L 575.51 507.13 Z\" fill=\"rgb(0, 0, 0)\" pointer-events=\"all\" stroke=\"rgb(0, 0, 0)\" stroke-miterlimit=\"10\"/><g transform=\"translate(-0.5 -0.5)\"><switch><foreignObject height=\"100%\" pointer-events=\"none\" requiredFeatures=\"http://www.w3.org/TR/SVG11/feature#Extensibility\" style=\"overflow: visible; text-align: left;\" width=\"100%\"><div style=\"display: flex; align-items: unsafe center; justify-content: unsafe center; width: 1px; height: 1px; padding-top: 388px; margin-left: 529px;\" xmlns=\"http://www.w3.org/1999/xhtml\"><div data-drawio-colors=\"color: rgb(0, 0, 0); background-color: rgb(255, 255, 255); \" style=\"box-sizing: border-box; font-size: 0px; text-align: center;\"><div style=\"display: inline-block; font-size: 10px; font-family: Helvetica; color: rgb(0, 0, 0); line-height: 1.2; pointer-events: all; background-color: rgb(255, 255, 255); white-space: nowrap;\">dbo:museum</div></div></div></foreignObject><text fill=\"rgb(0, 0, 0)\" font-family=\"Helvetica\" font-size=\"10px\" text-anchor=\"middle\" x=\"529\" y=\"391\">dbo:museum</text></switch></g><path d=\"M 480.77 263.91 L 471.87 348.75\" fill=\"none\" pointer-events=\"stroke\" stroke=\"rgb(0, 0, 0)\" stroke-miterlimit=\"10\"/><path d=\"M 471.33 353.97 L 468.58 346.64 L 471.87 348.75 L 475.54 347.38 Z\" fill=\"rgb(0, 0, 0)\" pointer-events=\"all\" stroke=\"rgb(0, 0, 0)\" stroke-miterlimit=\"10\"/><g transform=\"translate(-0.5 -0.5)\"><switch><foreignObject height=\"100%\" pointer-events=\"none\" requiredFeatures=\"http://www.w3.org/TR/SVG11/feature#Extensibility\" style=\"overflow: visible; text-align: left;\" width=\"100%\"><div style=\"display: flex; align-items: unsafe center; justify-content: unsafe center; width: 1px; height: 1px; padding-top: 306px; margin-left: 479px;\" xmlns=\"http://www.w3.org/1999/xhtml\"><div data-drawio-colors=\"color: rgb(0, 0, 0); background-color: rgb(255, 255, 255); \" style=\"box-sizing: border-box; font-size: 0px; text-align: center;\"><div style=\"display: inline-block; font-size: 11px; font-family: Helvetica; color: rgb(0, 0, 0); line-height: 1.2; pointer-events: all; background-color: rgb(255, 255, 255); white-space: nowrap;\">rdf:type</div></div></div></foreignObject><text fill=\"rgb(0, 0, 0)\" font-family=\"Helvetica\" font-size=\"11px\" text-anchor=\"middle\" x=\"479\" y=\"309\">rdf:type</text></switch></g><path d=\"M 477.49 229.73 L 464.25 185.39\" fill=\"none\" pointer-events=\"stroke\" stroke=\"rgb(0, 0, 0)\" stroke-miterlimit=\"10\"/><path d=\"M 462.75 180.36 L 468.11 186.07 L 464.25 185.39 L 461.4 188.07 Z\" fill=\"rgb(0, 0, 0)\" pointer-events=\"all\" stroke=\"rgb(0, 0, 0)\" stroke-miterlimit=\"10\"/><g transform=\"translate(-0.5 -0.5)\"><switch><foreignObject height=\"100%\" pointer-events=\"none\" requiredFeatures=\"http://www.w3.org/TR/SVG11/feature#Extensibility\" style=\"overflow: visible; text-align: left;\" width=\"100%\"><div style=\"display: flex; align-items: unsafe center; justify-content: unsafe center; width: 1px; height: 1px; padding-top: 209px; margin-left: 475px;\" xmlns=\"http://www.w3.org/1999/xhtml\"><div data-drawio-colors=\"color: rgb(0, 0, 0); background-color: rgb(255, 255, 255); \" style=\"box-sizing: border-box; font-size: 0px; text-align: center;\"><div style=\"display: inline-block; font-size: 10px; font-family: Helvetica; color: rgb(0, 0, 0); line-height: 1.2; pointer-events: all; background-color: rgb(255, 255, 255); white-space: nowrap;\">dbo:abstract</div></div></div></foreignObject><text fill=\"rgb(0, 0, 0)\" font-family=\"Helvetica\" font-size=\"10px\" text-anchor=\"middle\" x=\"475\" y=\"212\">dbo:abstract</text></switch></g><ellipse cx=\"482.5\" cy=\"246.5\" fill=\"#e1d5e7\" pointer-events=\"all\" rx=\"17.5\" ry=\"17.5\" stroke=\"#9673a6\"/><g transform=\"translate(-0.5 -0.5)\"><switch><foreignObject height=\"100%\" pointer-events=\"none\" requiredFeatures=\"http://www.w3.org/TR/SVG11/feature#Extensibility\" style=\"overflow: visible; text-align: left;\" width=\"100%\"><div style=\"display: flex; align-items: unsafe center; justify-content: unsafe center; width: 33px; height: 1px; padding-top: 247px; margin-left: 466px;\" xmlns=\"http://www.w3.org/1999/xhtml\"><div data-drawio-colors=\"color: rgb(0, 0, 0); background-color: rgb(255, 255, 255); border-color: #660066; \" style=\"box-sizing: border-box; font-size: 0px; text-align: center;\"><div style=\"display: inline-block; font-size: 12px; font-family: Helvetica; color: rgb(0, 0, 0); line-height: 1.2; pointer-events: all; background-color: rgb(255, 255, 255); border: 1px solid rgb(102, 0, 102); white-space: normal; overflow-wrap: normal;\">dbr:Mona_Lisa</div></div></div></foreignObject><text fill=\"rgb(0, 0, 0)\" font-family=\"Helvetica\" font-size=\"12px\" text-anchor=\"middle\" x=\"483\" y=\"250\">dbr:Mo...</text></switch></g><ellipse cx=\"469.5\" cy=\"372.5\" fill=\"#d5e8d4\" pointer-events=\"all\" rx=\"17.5\" ry=\"17.5\" stroke=\"#82b366\"/><g transform=\"translate(-0.5 -0.5)\"><switch><foreignObject height=\"100%\" pointer-events=\"none\" requiredFeatures=\"http://www.w3.org/TR/SVG11/feature#Extensibility\" style=\"overflow: visible; text-align: left;\" width=\"100%\"><div style=\"display: flex; align-items: unsafe center; justify-content: unsafe center; width: 33px; height: 1px; padding-top: 373px; margin-left: 453px;\" xmlns=\"http://www.w3.org/1999/xhtml\"><div data-drawio-colors=\"color: rgb(0, 0, 0); background-color: rgb(255, 255, 255); border-color: #009900; \" style=\"box-sizing: border-box; font-size: 0px; text-align: center;\"><div style=\"display: inline-block; font-size: 12px; font-family: Helvetica; color: rgb(0, 0, 0); line-height: 1.2; pointer-events: all; background-color: rgb(255, 255, 255); border: 1px solid rgb(0, 153, 0); white-space: normal; overflow-wrap: normal;\">dbo:Artwork</div></div></div></foreignObject><text fill=\"rgb(0, 0, 0)\" font-family=\"Helvetica\" font-size=\"12px\" text-anchor=\"middle\" x=\"470\" y=\"376\">dbo:Ar...</text></switch></g><ellipse cx=\"175.5\" cy=\"672.5\" fill=\"#d5e8d4\" pointer-events=\"all\" rx=\"17.5\" ry=\"17.5\" stroke=\"#82b366\"/><g transform=\"translate(-0.5 -0.5)\"><switch><foreignObject height=\"100%\" pointer-events=\"none\" requiredFeatures=\"http://www.w3.org/TR/SVG11/feature#Extensibility\" style=\"overflow: visible; text-align: left;\" width=\"100%\"><div style=\"display: flex; align-items: unsafe center; justify-content: unsafe center; width: 33px; height: 1px; padding-top: 673px; margin-left: 159px;\" xmlns=\"http://www.w3.org/1999/xhtml\"><div data-drawio-colors=\"color: rgb(0, 0, 0); background-color: rgb(255, 255, 255); border-color: #009900; \" style=\"box-sizing: border-box; font-size: 0px; text-align: center;\"><div style=\"display: inline-block; font-size: 12px; font-family: Helvetica; color: rgb(0, 0, 0); line-height: 1.2; pointer-events: all; background-color: rgb(255, 255, 255); border: 1px solid rgb(0, 153, 0); white-space: normal; overflow-wrap: normal;\">dbo:Band</div></div></div></foreignObject><text fill=\"rgb(0, 0, 0)\" font-family=\"Helvetica\" font-size=\"12px\" text-anchor=\"middle\" x=\"176\" y=\"676\">dbo:Ba...</text></switch></g><ellipse cx=\"409.5\" cy=\"517.5\" fill=\"#d5e8d4\" pointer-events=\"all\" rx=\"17.5\" ry=\"17.5\" stroke=\"#82b366\"/><g transform=\"translate(-0.5 -0.5)\"><switch><foreignObject height=\"100%\" pointer-events=\"none\" requiredFeatures=\"http://www.w3.org/TR/SVG11/feature#Extensibility\" style=\"overflow: visible; text-align: left;\" width=\"100%\"><div style=\"display: flex; align-items: unsafe center; justify-content: unsafe center; width: 33px; height: 1px; padding-top: 518px; margin-left: 393px;\" xmlns=\"http://www.w3.org/1999/xhtml\"><div data-drawio-colors=\"color: rgb(0, 0, 0); background-color: rgb(255, 255, 255); border-color: #009900; \" style=\"box-sizing: border-box; font-size: 0px; text-align: center;\"><div style=\"display: inline-block; font-size: 12px; font-family: Helvetica; color: rgb(0, 0, 0); line-height: 1.2; pointer-events: all; background-color: rgb(255, 255, 255); border: 1px solid rgb(0, 153, 0); white-space: normal; overflow-wrap: normal;\">dbo:Album</div></div></div></foreignObject><text fill=\"rgb(0, 0, 0)\" font-family=\"Helvetica\" font-size=\"12px\" text-anchor=\"middle\" x=\"410\" y=\"521\">dbo:Al...</text></switch></g><ellipse cx=\"172.5\" cy=\"170.5\" fill=\"#fff2cc\" pointer-events=\"all\" rx=\"17.5\" ry=\"17.5\" stroke=\"#d6b656\"/><g transform=\"translate(-0.5 -0.5)\"><switch><foreignObject height=\"100%\" pointer-events=\"none\" requiredFeatures=\"http://www.w3.org/TR/SVG11/feature#Extensibility\" style=\"overflow: visible; text-align: left;\" width=\"100%\"><div style=\"display: flex; align-items: unsafe center; justify-content: unsafe center; width: 1px; height: 1px; padding-top: 170px; margin-left: 173px;\" xmlns=\"http://www.w3.org/1999/xhtml\"><div data-drawio-colors=\"color: rgb(0, 0, 0); background-color: rgb(255, 255, 255); border-color: #999900; \" style=\"box-sizing: border-box; font-size: 0px; text-align: center;\"><div style=\"display: inline-block; font-size: 9px; font-family: Helvetica; color: rgb(0, 0, 0); line-height: 1.2; pointer-events: all; background-color: rgb(255, 255, 255); border: 1px solid rgb(153, 153, 0); white-space: nowrap;\">&quot;Leonardo da Vinci&quot;@en</div></div></div></foreignObject><text fill=\"rgb(0, 0, 0)\" font-family=\"Helvetica\" font-size=\"9px\" text-anchor=\"middle\" x=\"173\" y=\"173\">&quot;Leonar...</text></switch></g><ellipse cx=\"216.5\" cy=\"460.5\" fill=\"#fff2cc\" pointer-events=\"all\" rx=\"17.5\" ry=\"17.5\" stroke=\"#d6b656\"/><g transform=\"translate(-0.5 -0.5)\"><switch><foreignObject height=\"100%\" pointer-events=\"none\" requiredFeatures=\"http://www.w3.org/TR/SVG11/feature#Extensibility\" style=\"overflow: visible; text-align: left;\" width=\"100%\"><div style=\"display: flex; align-items: unsafe center; justify-content: unsafe center; width: 1px; height: 1px; padding-top: 461px; margin-left: 217px;\" xmlns=\"http://www.w3.org/1999/xhtml\"><div data-drawio-colors=\"color: rgb(0, 0, 0); background-color: rgb(255, 255, 255); border-color: #999900; \" style=\"box-sizing: border-box; font-size: 0px; text-align: center;\"><div style=\"display: inline-block; font-size: 9px; font-family: Helvetica; color: rgb(0, 0, 0); line-height: 1.2; pointer-events: all; background-color: rgb(255, 255, 255); border: 1px solid rgb(153, 153, 0); white-space: nowrap;\"><font style=\"font-size: 9px\">&quot;Vincent Willem van Gogh was a ....&quot;@en</font></div></div></div></foreignObject><text fill=\"rgb(0, 0, 0)\" font-family=\"Helvetica\" font-size=\"9px\" text-anchor=\"middle\" x=\"217\" y=\"463\">&quot;Vincen...</text></switch></g><ellipse cx=\"317.5\" cy=\"297.5\" fill=\"#fff2cc\" pointer-events=\"all\" rx=\"17.5\" ry=\"17.5\" stroke=\"#d6b656\"/><g transform=\"translate(-0.5 -0.5)\"><switch><foreignObject height=\"100%\" pointer-events=\"none\" requiredFeatures=\"http://www.w3.org/TR/SVG11/feature#Extensibility\" style=\"overflow: visible; text-align: left;\" width=\"100%\"><div style=\"display: flex; align-items: unsafe center; justify-content: unsafe center; width: 1px; height: 1px; padding-top: 298px; margin-left: 318px;\" xmlns=\"http://www.w3.org/1999/xhtml\"><div data-drawio-colors=\"color: rgb(0, 0, 0); background-color: rgb(255, 255, 255); border-color: #999900; \" style=\"box-sizing: border-box; font-size: 0px; text-align: center;\"><div style=\"display: inline-block; font-size: 9px; font-family: Helvetica; color: rgb(0, 0, 0); line-height: 1.2; pointer-events: all; background-color: rgb(255, 255, 255); border: 1px solid rgb(153, 153, 0); white-space: nowrap;\">&quot;Vincent Willem van Gogh&quot;@en</div></div></div></foreignObject><text fill=\"rgb(0, 0, 0)\" font-family=\"Helvetica\" font-size=\"9px\" text-anchor=\"middle\" x=\"318\" y=\"300\">&quot;Vincen...</text></switch></g><ellipse cx=\"396.5\" cy=\"341.5\" fill=\"#fff2cc\" pointer-events=\"all\" rx=\"17.5\" ry=\"17.5\" stroke=\"#d6b656\"/><g transform=\"translate(-0.5 -0.5)\"><switch><foreignObject height=\"100%\" pointer-events=\"none\" requiredFeatures=\"http://www.w3.org/TR/SVG11/feature#Extensibility\" style=\"overflow: visible; text-align: left;\" width=\"100%\"><div style=\"display: flex; align-items: unsafe center; justify-content: unsafe center; width: 1px; height: 1px; padding-top: 342px; margin-left: 397px;\" xmlns=\"http://www.w3.org/1999/xhtml\"><div data-drawio-colors=\"color: rgb(0, 0, 0); background-color: rgb(255, 255, 255); border-color: #999900; \" style=\"box-sizing: border-box; font-size: 0px; text-align: center;\"><div style=\"display: inline-block; font-size: 9px; font-family: Helvetica; color: rgb(0, 0, 0); line-height: 1.2; pointer-events: all; background-color: rgb(255, 255, 255); border: 1px solid rgb(153, 153, 0); white-space: nowrap;\">&quot;New York City&quot;@en</div></div></div></foreignObject><text fill=\"rgb(0, 0, 0)\" font-family=\"Helvetica\" font-size=\"9px\" text-anchor=\"middle\" x=\"397\" y=\"344\">&quot;New Yo...</text></switch></g><ellipse cx=\"527.5\" cy=\"602.5\" fill=\"#fff2cc\" pointer-events=\"all\" rx=\"17.5\" ry=\"17.5\" stroke=\"#d6b656\"/><g transform=\"translate(-0.5 -0.5)\"><switch><foreignObject height=\"100%\" pointer-events=\"none\" requiredFeatures=\"http://www.w3.org/TR/SVG11/feature#Extensibility\" style=\"overflow: visible; text-align: left;\" width=\"100%\"><div style=\"display: flex; align-items: unsafe center; justify-content: unsafe center; width: 1px; height: 1px; padding-top: 603px; margin-left: 528px;\" xmlns=\"http://www.w3.org/1999/xhtml\"><div data-drawio-colors=\"color: rgb(0, 0, 0); background-color: rgb(255, 255, 255); border-color: #999900; \" style=\"box-sizing: border-box; font-size: 0px; text-align: center;\"><div style=\"display: inline-block; font-size: 9px; font-family: Helvetica; color: rgb(0, 0, 0); line-height: 1.2; pointer-events: all; background-color: rgb(255, 255, 255); border: 1px solid rgb(153, 153, 0); white-space: nowrap;\">&quot;Louvre&quot;@en</div></div></div></foreignObject><text fill=\"rgb(0, 0, 0)\" font-family=\"Helvetica\" font-size=\"9px\" text-anchor=\"middle\" x=\"528\" y=\"605\">&quot;Louvre...</text></switch></g><ellipse cx=\"674.5\" cy=\"460.5\" fill=\"#fff2cc\" pointer-events=\"all\" rx=\"17.5\" ry=\"17.5\" stroke=\"#d6b656\"/><g transform=\"translate(-0.5 -0.5)\"><switch><foreignObject height=\"100%\" pointer-events=\"none\" requiredFeatures=\"http://www.w3.org/TR/SVG11/feature#Extensibility\" style=\"overflow: visible; text-align: left;\" width=\"100%\"><div style=\"display: flex; align-items: unsafe center; justify-content: unsafe center; width: 1px; height: 1px; padding-top: 461px; margin-left: 674px;\" xmlns=\"http://www.w3.org/1999/xhtml\"><div data-drawio-colors=\"color: rgb(0, 0, 0); background-color: rgb(255, 255, 255); border-color: #999900; \" style=\"box-sizing: border-box; font-size: 0px; text-align: center;\"><div style=\"display: inline-block; font-size: 9px; font-family: Helvetica; color: rgb(0, 0, 0); line-height: 1.2; pointer-events: all; background-color: rgb(255, 255, 255); border: 1px solid rgb(153, 153, 0); white-space: nowrap;\">&quot;The Louvre, or the Louvre Museum...&quot;@en</div></div></div></foreignObject><text fill=\"rgb(0, 0, 0)\" font-family=\"Helvetica\" font-size=\"9px\" text-anchor=\"middle\" x=\"674\" y=\"463\">&quot;The Lo...</text></switch></g><ellipse cx=\"473.5\" cy=\"460.5\" fill=\"#fff2cc\" pointer-events=\"all\" rx=\"17.5\" ry=\"17.5\" stroke=\"#d6b656\"/><g transform=\"translate(-0.5 -0.5)\"><switch><foreignObject height=\"100%\" pointer-events=\"none\" requiredFeatures=\"http://www.w3.org/TR/SVG11/feature#Extensibility\" style=\"overflow: visible; text-align: left;\" width=\"100%\"><div style=\"display: flex; align-items: unsafe center; justify-content: unsafe center; width: 1px; height: 1px; padding-top: 461px; margin-left: 474px;\" xmlns=\"http://www.w3.org/1999/xhtml\"><div data-drawio-colors=\"color: rgb(0, 0, 0); background-color: rgb(255, 255, 255); border-color: #999900; \" style=\"box-sizing: border-box; font-size: 0px; text-align: center;\"><div style=\"display: inline-block; font-size: 9px; font-family: Helvetica; color: rgb(0, 0, 0); line-height: 1.2; pointer-events: all; background-color: rgb(255, 255, 255); border: 1px solid rgb(153, 153, 0); white-space: nowrap;\">&quot;1793-08-10&quot;^^xsd:date</div></div></div></foreignObject><text fill=\"rgb(0, 0, 0)\" font-family=\"Helvetica\" font-size=\"9px\" text-anchor=\"middle\" x=\"474\" y=\"463\">&quot;1793-0...</text></switch></g><ellipse cx=\"457.5\" cy=\"162.5\" fill=\"#fff2cc\" pointer-events=\"all\" rx=\"17.5\" ry=\"17.5\" stroke=\"#d6b656\"/><g transform=\"translate(-0.5 -0.5)\"><switch><foreignObject height=\"100%\" pointer-events=\"none\" requiredFeatures=\"http://www.w3.org/TR/SVG11/feature#Extensibility\" style=\"overflow: visible; text-align: left;\" width=\"100%\"><div style=\"display: flex; align-items: unsafe center; justify-content: unsafe center; width: 1px; height: 1px; padding-top: 163px; margin-left: 458px;\" xmlns=\"http://www.w3.org/1999/xhtml\"><div data-drawio-colors=\"color: rgb(0, 0, 0); background-color: rgb(255, 255, 255); border-color: #999900; \" style=\"box-sizing: border-box; font-size: 0px; text-align: center;\"><div style=\"display: inline-block; font-size: 9px; font-family: Helvetica; color: rgb(0, 0, 0); line-height: 1.2; pointer-events: all; background-color: rgb(255, 255, 255); border: 1px solid rgb(153, 153, 0); white-space: nowrap;\">&quot;The Mona Lisa ...&quot;@en</div></div></div></foreignObject><text fill=\"rgb(0, 0, 0)\" font-family=\"Helvetica\" font-size=\"9px\" text-anchor=\"middle\" x=\"458\" y=\"165\">&quot;The Mo...</text></switch></g><ellipse cx=\"40.5\" cy=\"605.5\" fill=\"#fff2cc\" pointer-events=\"all\" rx=\"17.5\" ry=\"17.5\" stroke=\"#d6b656\"/><g transform=\"translate(-0.5 -0.5)\"><switch><foreignObject height=\"100%\" pointer-events=\"none\" requiredFeatures=\"http://www.w3.org/TR/SVG11/feature#Extensibility\" style=\"overflow: visible; text-align: left;\" width=\"100%\"><div style=\"display: flex; align-items: unsafe center; justify-content: unsafe center; width: 1px; height: 1px; padding-top: 606px; margin-left: 41px;\" xmlns=\"http://www.w3.org/1999/xhtml\"><div data-drawio-colors=\"color: rgb(0, 0, 0); background-color: rgb(255, 255, 255); border-color: #999900; \" style=\"box-sizing: border-box; font-size: 0px; text-align: center;\"><div style=\"display: inline-block; font-size: 9px; font-family: Helvetica; color: rgb(0, 0, 0); line-height: 1.2; pointer-events: all; background-color: rgb(255, 255, 255); border: 1px solid rgb(153, 153, 0); white-space: nowrap;\">&quot;1960&quot;^^xmls:gyear</div></div></div></foreignObject><text fill=\"rgb(0, 0, 0)\" font-family=\"Helvetica\" font-size=\"9px\" text-anchor=\"middle\" x=\"41\" y=\"608\">&quot;1960&quot;^...</text></switch></g><ellipse cx=\"303.5\" cy=\"678.5\" fill=\"#fff2cc\" pointer-events=\"all\" rx=\"17.5\" ry=\"17.5\" stroke=\"#d6b656\"/><g transform=\"translate(-0.5 -0.5)\"><switch><foreignObject height=\"100%\" pointer-events=\"none\" requiredFeatures=\"http://www.w3.org/TR/SVG11/feature#Extensibility\" style=\"overflow: visible; text-align: left;\" width=\"100%\"><div style=\"display: flex; align-items: unsafe center; justify-content: unsafe center; width: 1px; height: 1px; padding-top: 679px; margin-left: 304px;\" xmlns=\"http://www.w3.org/1999/xhtml\"><div data-drawio-colors=\"color: rgb(0, 0, 0); background-color: rgb(255, 255, 255); border-color: #999900; \" style=\"box-sizing: border-box; font-size: 0px; text-align: center;\"><div style=\"display: inline-block; font-size: 9px; font-family: Helvetica; color: rgb(0, 0, 0); line-height: 1.2; pointer-events: all; background-color: rgb(255, 255, 255); border: 1px solid rgb(153, 153, 0); white-space: nowrap;\">&quot;Let It Be was the twelfth and final...&quot;@en</div></div></div></foreignObject><text fill=\"rgb(0, 0, 0)\" font-family=\"Helvetica\" font-size=\"9px\" text-anchor=\"middle\" x=\"304\" y=\"681\">&quot;Let It...</text></switch></g><ellipse cx=\"399.5\" cy=\"637.5\" fill=\"#fff2cc\" pointer-events=\"all\" rx=\"17.5\" ry=\"17.5\" stroke=\"#d6b656\"/><g transform=\"translate(-0.5 -0.5)\"><switch><foreignObject height=\"100%\" pointer-events=\"none\" requiredFeatures=\"http://www.w3.org/TR/SVG11/feature#Extensibility\" style=\"overflow: visible; text-align: left;\" width=\"100%\"><div style=\"display: flex; align-items: unsafe center; justify-content: unsafe center; width: 1px; height: 1px; padding-top: 638px; margin-left: 400px;\" xmlns=\"http://www.w3.org/1999/xhtml\"><div data-drawio-colors=\"color: rgb(0, 0, 0); background-color: rgb(255, 255, 255); border-color: #999900; \" style=\"box-sizing: border-box; font-size: 0px; text-align: center;\"><div style=\"display: inline-block; font-size: 9px; font-family: Helvetica; color: rgb(0, 0, 0); line-height: 1.2; pointer-events: all; background-color: rgb(255, 255, 255); border: 1px solid rgb(153, 153, 0); white-space: nowrap;\">&quot;Let It Be&quot;@en</div></div></div></foreignObject><text fill=\"rgb(0, 0, 0)\" font-family=\"Helvetica\" font-size=\"9px\" text-anchor=\"middle\" x=\"400\" y=\"640\">&quot;Let It...</text></switch></g><ellipse cx=\"66\" cy=\"688\" fill=\"#fff2cc\" pointer-events=\"all\" rx=\"20\" ry=\"20\" stroke=\"#d6b656\"/><g transform=\"translate(-0.5 -0.5)\"><switch><foreignObject height=\"100%\" pointer-events=\"none\" requiredFeatures=\"http://www.w3.org/TR/SVG11/feature#Extensibility\" style=\"overflow: visible; text-align: left;\" width=\"100%\"><div style=\"display: flex; align-items: unsafe center; justify-content: unsafe center; width: 1px; height: 1px; padding-top: 688px; margin-left: 66px;\" xmlns=\"http://www.w3.org/1999/xhtml\"><div data-drawio-colors=\"color: rgb(0, 0, 0); background-color: rgb(255, 255, 255); border-color: #999900; \" style=\"box-sizing: border-box; font-size: 0px; text-align: center;\"><div style=\"display: inline-block; font-size: 9px; font-family: Helvetica; color: rgb(0, 0, 0); line-height: 1.2; pointer-events: all; background-color: rgb(255, 255, 255); border: 1px solid rgb(153, 153, 0); white-space: nowrap;\"><p style=\"line-height: 1.2 ; font-size: 9px\">&quot;The Beatles&quot; @en</p></div></div></div></foreignObject><text fill=\"rgb(0, 0, 0)\" font-family=\"Helvetica\" font-size=\"9px\" text-anchor=\"middle\" x=\"66\" y=\"691\">&quot;The Bea...</text></switch></g><path d=\"M 88.66 415.12 L 123.97 322.79\" fill=\"none\" pointer-events=\"stroke\" stroke=\"rgb(0, 0, 0)\" stroke-miterlimit=\"10\"/><path d=\"M 125.85 317.89 L 126.62 325.68 L 123.97 322.79 L 120.08 323.18 Z\" fill=\"rgb(0, 0, 0)\" pointer-events=\"all\" stroke=\"rgb(0, 0, 0)\" stroke-miterlimit=\"10\"/><g transform=\"translate(-0.5 -0.5)\"><switch><foreignObject height=\"100%\" pointer-events=\"none\" requiredFeatures=\"http://www.w3.org/TR/SVG11/feature#Extensibility\" style=\"overflow: visible; text-align: left;\" width=\"100%\"><div style=\"display: flex; align-items: unsafe center; justify-content: unsafe center; width: 1px; height: 1px; padding-top: 367px; margin-left: 110px;\" xmlns=\"http://www.w3.org/1999/xhtml\"><div data-drawio-colors=\"color: rgb(0, 0, 0); background-color: rgb(255, 255, 255); \" style=\"box-sizing: border-box; font-size: 0px; text-align: center;\"><div style=\"display: inline-block; font-size: 11px; font-family: Helvetica; color: rgb(0, 0, 0); line-height: 1.2; pointer-events: all; background-color: rgb(255, 255, 255); white-space: nowrap;\">rdf:type</div></div></div></foreignObject><text fill=\"rgb(0, 0, 0)\" font-family=\"Helvetica\" font-size=\"11px\" text-anchor=\"middle\" x=\"110\" y=\"371\">rdf:type</text></switch></g><ellipse cx=\"82.5\" cy=\"431.5\" fill=\"#e1d5e7\" pointer-events=\"all\" rx=\"17.5\" ry=\"17.5\" stroke=\"#9673a6\"/><g transform=\"translate(-0.5 -0.5)\"><switch><foreignObject height=\"100%\" pointer-events=\"none\" requiredFeatures=\"http://www.w3.org/TR/SVG11/feature#Extensibility\" style=\"overflow: visible; text-align: left;\" width=\"100%\"><div style=\"display: flex; align-items: unsafe center; justify-content: unsafe center; width: 33px; height: 1px; padding-top: 432px; margin-left: 66px;\" xmlns=\"http://www.w3.org/1999/xhtml\"><div data-drawio-colors=\"color: rgb(0, 0, 0); background-color: rgb(255, 255, 255); border-color: #660066; \" style=\"box-sizing: border-box; font-size: 0px; text-align: center;\"><div style=\"display: inline-block; font-size: 12px; font-family: Helvetica; color: rgb(0, 0, 0); line-height: 1.2; pointer-events: all; background-color: rgb(255, 255, 255); border: 1px solid rgb(102, 0, 102); white-space: normal; overflow-wrap: normal;\">dbr:John_Lennon</div></div></div></foreignObject><text fill=\"rgb(0, 0, 0)\" font-family=\"Helvetica\" font-size=\"12px\" text-anchor=\"middle\" x=\"83\" y=\"435\">dbr:Jo...</text></switch></g><path d=\"M 337.58 425.35 L 252.31 373.2\" fill=\"none\" pointer-events=\"stroke\" stroke=\"rgb(0, 0, 0)\" stroke-miterlimit=\"10\"/><path d=\"M 247.83 370.46 L 255.63 371.12 L 252.31 373.2 L 251.97 377.1 Z\" fill=\"rgb(0, 0, 0)\" pointer-events=\"all\" stroke=\"rgb(0, 0, 0)\" stroke-miterlimit=\"10\"/><g transform=\"translate(-0.5 -0.5)\"><switch><foreignObject height=\"100%\" pointer-events=\"none\" requiredFeatures=\"http://www.w3.org/TR/SVG11/feature#Extensibility\" style=\"overflow: visible; text-align: left;\" width=\"100%\"><div style=\"display: flex; align-items: unsafe center; justify-content: unsafe center; width: 1px; height: 1px; padding-top: 389px; margin-left: 279px;\" xmlns=\"http://www.w3.org/1999/xhtml\"><div data-drawio-colors=\"color: rgb(0, 0, 0); background-color: rgb(255, 255, 255); \" style=\"box-sizing: border-box; font-size: 0px; text-align: center;\"><div style=\"display: inline-block; font-size: 11px; font-family: Helvetica; color: rgb(0, 0, 0); line-height: 1.2; pointer-events: all; background-color: rgb(255, 255, 255); white-space: nowrap;\">dbo:Author</div></div></div></foreignObject><text fill=\"rgb(0, 0, 0)\" font-family=\"Helvetica\" font-size=\"11px\" text-anchor=\"middle\" x=\"279\" y=\"392\">dbo:Author</text></switch></g><path d=\"M 368.33 427.05 L 451.37 387.61\" fill=\"none\" pointer-events=\"stroke\" stroke=\"rgb(0, 0, 0)\" stroke-miterlimit=\"10\"/><path d=\"M 456.12 385.35 L 451.29 391.52 L 451.37 387.61 L 448.29 385.2 Z\" fill=\"rgb(0, 0, 0)\" pointer-events=\"all\" stroke=\"rgb(0, 0, 0)\" stroke-miterlimit=\"10\"/><g transform=\"translate(-0.5 -0.5)\"><switch><foreignObject height=\"100%\" pointer-events=\"none\" requiredFeatures=\"http://www.w3.org/TR/SVG11/feature#Extensibility\" style=\"overflow: visible; text-align: left;\" width=\"100%\"><div style=\"display: flex; align-items: unsafe center; justify-content: unsafe center; width: 1px; height: 1px; padding-top: 400px; margin-left: 421px;\" xmlns=\"http://www.w3.org/1999/xhtml\"><div data-drawio-colors=\"color: rgb(0, 0, 0); background-color: rgb(255, 255, 255); \" style=\"box-sizing: border-box; font-size: 0px; text-align: center;\"><div style=\"display: inline-block; font-size: 11px; font-family: Helvetica; color: rgb(0, 0, 0); line-height: 1.2; pointer-events: all; background-color: rgb(255, 255, 255); white-space: nowrap;\">rdf:type</div></div></div></foreignObject><text fill=\"rgb(0, 0, 0)\" font-family=\"Helvetica\" font-size=\"11px\" text-anchor=\"middle\" x=\"421\" y=\"404\">rdf:type</text></switch></g><path d=\"M 358.92 418.22 L 381.8 359.8\" fill=\"none\" pointer-events=\"stroke\" stroke=\"rgb(0, 0, 0)\" stroke-miterlimit=\"10\"/><path d=\"M 383.72 354.92 L 384.42 362.71 L 381.8 359.8 L 377.91 360.16 Z\" fill=\"rgb(0, 0, 0)\" pointer-events=\"all\" stroke=\"rgb(0, 0, 0)\" stroke-miterlimit=\"10\"/><g transform=\"translate(-0.5 -0.5)\"><switch><foreignObject height=\"100%\" pointer-events=\"none\" requiredFeatures=\"http://www.w3.org/TR/SVG11/feature#Extensibility\" style=\"overflow: visible; text-align: left;\" width=\"100%\"><div style=\"display: flex; align-items: unsafe center; justify-content: unsafe center; width: 1px; height: 1px; padding-top: 386px; margin-left: 368px;\" xmlns=\"http://www.w3.org/1999/xhtml\"><div data-drawio-colors=\"color: rgb(0, 0, 0); background-color: rgb(255, 255, 255); \" style=\"box-sizing: border-box; font-size: 0px; text-align: center;\"><div style=\"display: inline-block; font-size: 10px; font-family: Helvetica; color: rgb(0, 0, 0); line-height: 1.2; pointer-events: all; background-color: rgb(255, 255, 255); white-space: nowrap;\">dbp:city</div></div></div></foreignObject><text fill=\"rgb(0, 0, 0)\" font-family=\"Helvetica\" font-size=\"10px\" text-anchor=\"middle\" x=\"368\" y=\"389\">dbp:city</text></switch></g><ellipse cx=\"352.5\" cy=\"434.5\" fill=\"#e1d5e7\" pointer-events=\"all\" rx=\"17.5\" ry=\"17.5\" stroke=\"#9673a6\"/><g transform=\"translate(-0.5 -0.5)\"><switch><foreignObject height=\"100%\" pointer-events=\"none\" requiredFeatures=\"http://www.w3.org/TR/SVG11/feature#Extensibility\" style=\"overflow: visible; text-align: left;\" width=\"100%\"><div style=\"display: flex; align-items: unsafe center; justify-content: unsafe center; width: 33px; height: 1px; padding-top: 435px; margin-left: 336px;\" xmlns=\"http://www.w3.org/1999/xhtml\"><div data-drawio-colors=\"color: rgb(0, 0, 0); background-color: rgb(255, 255, 255); border-color: #660066; \" style=\"box-sizing: border-box; font-size: 0px; text-align: center;\"><div style=\"display: inline-block; font-size: 12px; font-family: Helvetica; color: rgb(0, 0, 0); line-height: 1.2; pointer-events: all; background-color: rgb(255, 255, 255); border: 1px solid rgb(102, 0, 102); white-space: normal; overflow-wrap: normal;\">dbr:The_Starry_Night</div></div></div></foreignObject><text fill=\"rgb(0, 0, 0)\" font-family=\"Helvetica\" font-size=\"12px\" text-anchor=\"middle\" x=\"353\" y=\"438\">dbr:Th...</text></switch></g><rect fill=\"rgb(255, 255, 255)\" height=\"53\" pointer-events=\"all\" rx=\"7.95\" ry=\"7.95\" stroke=\"rgb(0, 0, 0)\" width=\"257\" x=\"0\" y=\"0\"/><ellipse cx=\"46.5\" cy=\"26.5\" fill=\"#e1d5e7\" pointer-events=\"all\" rx=\"17.5\" ry=\"17.5\" stroke=\"#9673a6\"/><g transform=\"translate(-0.5 -0.5)\"><switch><foreignObject height=\"100%\" pointer-events=\"none\" requiredFeatures=\"http://www.w3.org/TR/SVG11/feature#Extensibility\" style=\"overflow: visible; text-align: left;\" width=\"100%\"><div style=\"display: flex; align-items: unsafe center; justify-content: unsafe center; width: 33px; height: 1px; padding-top: 27px; margin-left: 30px;\" xmlns=\"http://www.w3.org/1999/xhtml\"><div data-drawio-colors=\"color: rgb(0, 0, 0); \" style=\"box-sizing: border-box; font-size: 0px; text-align: center;\"><div style=\"display: inline-block; font-size: 12px; font-family: Helvetica; color: rgb(0, 0, 0); line-height: 1.2; pointer-events: all; white-space: normal; overflow-wrap: normal;\">entity</div></div></div></foreignObject><text fill=\"rgb(0, 0, 0)\" font-family=\"Helvetica\" font-size=\"12px\" text-anchor=\"middle\" x=\"47\" y=\"30\">entity</text></switch></g><ellipse cx=\"133.5\" cy=\"26.5\" fill=\"#fff2cc\" pointer-events=\"all\" rx=\"17.5\" ry=\"17.5\" stroke=\"#d6b656\"/><g transform=\"translate(-0.5 -0.5)\"><switch><foreignObject height=\"100%\" pointer-events=\"none\" requiredFeatures=\"http://www.w3.org/TR/SVG11/feature#Extensibility\" style=\"overflow: visible; text-align: left;\" width=\"100%\"><div style=\"display: flex; align-items: unsafe center; justify-content: unsafe center; width: 33px; height: 1px; padding-top: 27px; margin-left: 117px;\" xmlns=\"http://www.w3.org/1999/xhtml\"><div data-drawio-colors=\"color: rgb(0, 0, 0); \" style=\"box-sizing: border-box; font-size: 0px; text-align: center;\"><div style=\"display: inline-block; font-size: 12px; font-family: Helvetica; color: rgb(0, 0, 0); line-height: 1.2; pointer-events: all; white-space: normal; overflow-wrap: normal;\">litteral</div></div></div></foreignObject><text fill=\"rgb(0, 0, 0)\" font-family=\"Helvetica\" font-size=\"12px\" text-anchor=\"middle\" x=\"134\" y=\"30\">litter...</text></switch></g><ellipse cx=\"213.5\" cy=\"26.5\" fill=\"#d5e8d4\" pointer-events=\"all\" rx=\"17.5\" ry=\"17.5\" stroke=\"#82b366\"/><g transform=\"translate(-0.5 -0.5)\"><switch><foreignObject height=\"100%\" pointer-events=\"none\" requiredFeatures=\"http://www.w3.org/TR/SVG11/feature#Extensibility\" style=\"overflow: visible; text-align: left;\" width=\"100%\"><div style=\"display: flex; align-items: unsafe center; justify-content: unsafe center; width: 33px; height: 1px; padding-top: 27px; margin-left: 197px;\" xmlns=\"http://www.w3.org/1999/xhtml\"><div data-drawio-colors=\"color: rgb(0, 0, 0); \" style=\"box-sizing: border-box; font-size: 0px; text-align: center;\"><div style=\"display: inline-block; font-size: 12px; font-family: Helvetica; color: rgb(0, 0, 0); line-height: 1.2; pointer-events: all; white-space: normal; overflow-wrap: normal;\">class</div></div></div></foreignObject><text fill=\"rgb(0, 0, 0)\" font-family=\"Helvetica\" font-size=\"12px\" text-anchor=\"middle\" x=\"214\" y=\"30\">class</text></switch></g></g><switch><g requiredFeatures=\"http://www.w3.org/TR/SVG11/feature#Extensibility\"/><a target=\"_blank\" transform=\"translate(0,-5)\" xlink:href=\"https://www.diagrams.net/doc/faq/svg-export-text-problems\"><text font-size=\"10px\" text-anchor=\"middle\" x=\"50%\" y=\"100%\">Text is not SVG - cannot display</text></a></switch></svg>",
            "text/plain": [
              "<IPython.core.display.SVG object>"
            ]
          },
          "execution_count": 1,
          "metadata": {},
          "output_type": "execute_result"
        }
      ],
      "source": [
        "from IPython.core.display import SVG\n",
        "SVG(filename='/content/Example_linkeddata_graph.svg')"
      ]
    },
    {
      "cell_type": "markdown",
      "metadata": {
        "id": "JLBngLwcMy-Z"
      },
      "source": [
        "## Virtual Document & Inverted Index"
      ]
    },
    {
      "cell_type": "markdown",
      "metadata": {
        "id": "QqGmeNooM4VL"
      },
      "source": [
        "We manually make a `dictionary`, which represents the datasets knowledge graph. Each item in the dictionary represents a triple and contains the keys: subject, object, and predicate (`s p o`). The the content of the item is used to create the virtual documents later in this notebook."
      ]
    },
    {
      "cell_type": "code",
      "execution_count": null,
      "metadata": {
        "id": "VipkpnUnuU00"
      },
      "outputs": [],
      "source": [
        "# making a dictionary of triples ~ Basic Index\n",
        "\n",
        "\n",
        "index_ = {1: {'subject': \"https://dbpedia.org/resource/Leonardo_da_Vinci\", 'predicate': \"https://dbpedia.org/ontology/abstract\", 'object': \"Leonardo da Vinci (15 April 1452 – 2 May 1519) was an Italian polymath of the High Renaissance who was active as a painter, draughtsman, engineer, scientist, theorist, sculptor and architect. While his fame initially rested on his achievements as a painter, he also became known for , in which he made drawings and notes on a variety of subjects, including anatomy, astronomy, botany, cartography, painting, and paleontology. Leonardo's genius epitomized the Renaissance humanist ideal, and his collective works compose a contribution to later generations of artists matched only by that of his younger contemporary, Michelangelo. Born out of wedlock to a successful notary and a lower-class woman in, or near, Vinci, he was educated in Florence by the Italian painter and sculptor Andrea del Verrocchio. He began his career in the city, but then spent much time in the service of Ludovico Sforza in Milan. Later, he worked in Florence and Milan again, as well as briefly in Rome, all while attracting a large following of imitators and students. Upon the invitation of Francis I, he spent his last three years in France, where he died in 1519. Since his death, there has not been a time where his achievements, diverse interests, personal life, and empirical thinking have failed to incite interest and admiration, making him a frequent namesake and subject in culture. Leonardo is among the greatest painters in the history of art and is often credited as the founder of the High Renaissance. Despite having many lost works and less than 25 attributed major works—including numerous unfinished works—he created some of the most influential paintings in Western art. His magnum opus, the Mona Lisa, is his best known work and often regarded as the world's most famous painting. The Last Supper is the most reproduced religious painting of all time and his Vitruvian Man drawing is also regarded as a cultural icon. In 2017, Salvator Mundi, attributed in whole or part to Leonardo, was sold at auction for US$450.3 million, setting a new record for the most expensive painting ever sold at public auction. Revered for his technological ingenuity, he conceptualized flying machines, a type of armored fighting vehicle, concentrated solar power, an adding machine, and the double hull. Relatively few of his designs were constructed or even feasible during his lifetime, as the modern scientific approaches to metallurgy and engineering were only in their infancy during the Renaissance. Some of his smaller inventions, however, entered the world of manufacturing unheralded, such as an automated bobbin winder and a machine for testing the tensile strength of wire. He made substantial discoveries in anatomy, civil engineering, hydrodynamics, geology, optics, and tribology, but he did not publish his findings and they had little to no direct influence on subsequent science.\"},\n",
        "2: {'subject':\"https://dbpedia.org/resource/Leonardo_da_Vinci\", 'predicate':\"https://www.w3.org/2000/01/rdf-schema#comment\", 'object':\"Leonardo da Vinci (15 April 1452 – 2 May 1519) was an Italian polymath of the High Renaissance who was active as a painter, draughtsman, engineer, scientist, theorist, sculptor and architect. While his fame initially rested on his achievements as a painter, he also became known for , in which he made drawings and notes on a variety of subjects, including anatomy, astronomy, botany, cartography, painting, and paleontology. Leonardo's genius epitomized the Renaissance humanist ideal, and his collective works compose a contribution to later generations of artists matched only by that of his younger contemporary, Michelangelo.\"},\n",
        "3: {'subject':\"https://dbpedia.org/resource/Leonardo_da_Vinci\", 'predicate':\"https://www.w3.org/2000/01/rdf-schema#label\", 'object':\"Leonardo da Vinci\"},\n",
        "4: {'subject':\"https://dbpedia.org/resource/Leonardo_da_Vinci\", 'predicate':\"https://www.w3.org/1999/02/22-rdf-syntax-ns#type\", 'object':\"https://dbpedia.org/resource/Artist\"},\n",
        "5: {'subject':\"https://dbpedia.org/resource/Leonardo_da_Vinci\", 'predicate':\"https://dbpedia.org/ontology/author\", 'object':\"https://dbpedia.org/resource/Mona_Lisa\"},\n",
        "6: {'subject':\"https://dbpedia.org/resource/Mona_Lisa\", 'predicate':\"https://dbpedia.org/ontology/author\", 'object':\"https://dbpedia.org/resource/Leonardo_da_Vinci\"},\n",
        "7: {'subject':\"https://dbpedia.org/resource/Mona_Lisa\", 'predicate':\"https://dbpedia.org/ontology/abstract\", 'object':'The Mona Lisa (/ˌmoʊnə ˈliːsə/; Italian: Monna Lisa [ˈmɔnna ˈliːza] or La Gioconda [la dʒoˈkonda], French: La Joconde [la ʒɔkɔ̃d]) is a half-length portrait of a woman by the Italian artist Leonardo da Vinci, which has been acclaimed as \"the best known, the most visited, the most written about, the most sung about, the most parodied work of art in the world\". The painting, thought to be a portrait of Lisa Gherardini, the wife of Francesco del Giocondo, is in oil on a white Lombardy poplar panel, and is believed to have been painted between 1503 and 1506. Leonardo may have continued working on it as late as 1517. It was acquired by King Francis I of France and is now the property of the French Republic, on permanent display at the Louvre Museum in Paris since 1797. The subject\\'s expression, which is frequently described as enigmatic, the monumentality of the composition, the subtle modelling of forms, and the atmospheric illusionism were novel qualities that have contributed to the continuing fascination and study of the work.'},\n",
        "8: {'subject':\"https://dbpedia.org/resource/Mona_Lisa\", 'predicate':\"https://www.w3.org/1999/02/22-rdf-syntax-ns#type\", 'object':\"https://dbpedia.org/ontology/Artwork\"},\n",
        "9: {'subject':\"https://dbpedia.org/resource/Mona_Lisa\", 'predicate':\"https://dbpedia.org/ontology/museum\", 'object':\"https://dbpedia.org/resource/Louvre\"},\n",
        "10: {'subject': \"http://dbpedia.org/resource/Louvre\", 'predicate':\"https://dbpedia.org/ontology/foundingDate\", 'object':\"1793-08-10\"},\n",
        "11: {'subject': \"http://dbpedia.org/resource/Louvre\", 'predicate':\"https://www.w3.org/2000/01/rdf-schema#label\", 'object':\"Louvre\"},\n",
        "12: {'subject': \"http://dbpedia.org/resource/Louvre\", 'predicate':\"https://dbpedia.org/ontology/abstract\", 'object':\"The Louvre or the Louvre Museum (French: Musée du Louvre, pronounced: [myze dy luvʁ]) (French ) is the world's  largest museum and a historic monument in Paris, France. A central landmark of the city, it is located on the Right Bank of the Seine in the city's 1st arrondissement (district or ward). Nearly 35,000 objects from prehistory to the 21st century are exhibited over an area of 60,600 square metres (652,300 square feet). The Louvre is the world's second most visited museum after the Palace Museum in China, receiving more than 9.26 million visitors in 2014. The museum is housed in the Louvre Palace, originally built as a fortress in the late 12th century under Philip II. Remnants of the fortress are visible in the basement of the museum. Due to the urban expansion of the city, the fortress eventually lost its defensive function and, in 1546, was converted by Francis I of France into the main residence of the French Kings. The building was extended many times to form the present Louvre Palace. In 1682, Louis XIV chose the Palace of Versailles for his household, leaving the Louvre primarily as a place to display the royal collection, including, from 1692, a collection of ancient Greek and Roman sculpture. In 1692, the building was occupied by the Académie des Inscriptions et Belles Lettres and the Académie Royale de Peinture et de Sculpture, which in 1699 held the first of a series of salons. The Académie remained at the Louvre for 100 years. During the French Revolution, the National Assembly decreed that the Louvre should be used as a museum to display the nation's masterpieces. The museum opened on 10 August 1793 with an exhibition of 537 paintings, the majority of the works being royal and confiscated church property. Because of structural problems with the building, the museum was closed in 1796 until 1801. The collection was increased under Napoleon and the museum renamed the Musée Napoléon, but after Napoleon's abdication many works seized by his armies were returned to their original owners. The collection was further increased during the reigns of Louis XVIII and Charles X, and during the Second French Empire the museum gained 20,000 pieces. Holdings have grown steadily through donations and bequests since the Third Republic. The collection is divided among eight curatorial departments: Egyptian Antiquities; Near Eastern Antiquities; Greek, Etruscan and Roman Antiquities; Islamic Art; Sculpture; Decorative Arts; Paintings; Prints and Drawings\" },\n",
        "13: {'subject': \"https://dbpedia.org/resource/Vincent_van_Gogh\", 'predicate':\"https://www.w3.org/1999/02/22-rdf-syntax-ns#type\", 'object':\"https://dbpedia.org/resource/Artist\"},\n",
        "14: {'subject': \"https://dbpedia.org/resource/Vincent_van_Gogh\", 'predicate':\"https://dbpedia.org/ontology/abstract\", 'object':\"('Van Gogh' redirects here. For other uses, see Van Gogh (disambiguation).) Vincent Willem van Gogh (Dutch: [ˈvɪnsɛnt ˈʋɪləm vɑn ˈɣɔx] ; 30 March 1853 – 29 July 1890) was a Dutch Post-Impressionist painter who is among the most famous and influential figures in the history of Western art. In just over a decade he created about 2100 artworks, including around 860 oil paintings, most of them in the last two years of his life. They include landscapes, still lifes, portraits and self-portraits, and are characterised by bold, symbolic colours, and dramatic, impulsive and highly expressive brushwork that contributed to the foundations of modern art. He sold only one painting during his lifetime and became famous after his suicide at age 37, which followed years of poverty and mental illness. Born into an upper-middle-class family, Van Gogh drew as a child and was serious, quiet and thoughtful, but showed signs of mental instability. As a young man he worked as an art dealer, often travelling, but became depressed after he was transferred to London. He turned to religion, and spent time as a missionary in southern Belgium. Later he drifted in ill health and solitude. He was keenly aware of modernist trends in art and, while back with his parents, took up painting in 1881. His younger brother, Theo, supported him financially, and the two kept up a long correspondence by letter. Van Gogh's early works, mostly still lifes and depictions of peasant labourers, contain few signs of the vivid colour that distinguished his later work. In 1886 he moved to Paris and became interested in the French Impressionists. As his work developed he created a new approach to still lifes and local landscapes. His paintings grew brighter in colour as he developed a style that became fully realised during his stay in Arles in the south of France in 1888. He lived there in the Yellow House and, with the French artist Paul Gauguin, developed a concept of colour that symbolised inner emotion. During this period he broadened his subject matter to include olive trees, cypresses, wheat fields and sunflowers. Van Gogh suffered from psychotic episodes and delusions and, though he worried about his mental stability, he often neglected his physical health, not eating properly and drinking heavily. His friendship with Gauguin came to an end after he threatened the Frenchman with a razor, and in a rage, cut off part of his own left ear. While in a psychiatric hospital in Saint-Rémy his condition stabilised, leading to one of the more productive periods of his life. He moved to the Auberge Ravoux in Auvers-sur-Oise near Paris under the care of the homeopathic doctor and artist, Paul Gachet. On 27 July 1890, Van Gogh shot himself in the chest with a revolver. He died from his injuries two days later. Considered a madman and a failure in his lifetime, Van Gogh exists in the public imagination as the quintessential misunderstood genius, the artist 'where discourses on madness and creativity converge'. His reputation began to grow in the early 20th century as elements of his painting style came to be incorporated by the Fauves and German Expressionists. He attained widespread critical, commercial and popular success over the ensuing decades, and is remembered as an important but tragic painter, whose troubled personality typifies the romantic ideal of the tortured artist.\"},\n",
        "15: {'subject': \"https://dbpedia.org/resource/Vincent_van_Gogh\", 'predicate':\"https://dbpedia.org/ontology/birthName\", 'object':\"Vincent Willem van Gogh\"},\n",
        "16: {'subject': \"https://dbpedia.org/resource/The_Starry_Night\", 'predicate':\"https://dbpedia.org/ontology/author\",'object':\"https://dbpedia.org/resource/Vincent_van_Gogh\"},\n",
        "17: {'subject': \"https://dbpedia.org/resource/The_Starry_Night\", 'predicate':\"https://dbpedia.org/property/city\",'object':\"New York City\"},\n",
        "18: {'subject': \"https://dbpedia.org/resource/The_Starry_Night\", 'predicate':\"https://www.w3.org/1999/02/22-rdf-syntax-ns#type\", 'object':\"https://dbpedia.org/ontology/Artwork\"},\n",
        "19: {'subject': \"https://dbpedia.org/resource/John_Lennon\", 'predicate':\"https://www.w3.org/1999/02/22-rdf-syntax-ns#type\", 'object':\"https://dbpedia.org/resource/Artist\"},\n",
        "20: {'subject': \"https://dbpedia.org/resource/The_Beatles\", 'predicate':\"https://dbpedia.org/ontology/member\", 'object':\"https://dbpedia.org/resource/John_Lennon\"},\n",
        "21: {'subject': \"https://dbpedia.org/resource/The_Beatles\", 'predicate':\"https://dbpedia.org/ontology/activeYearsStartYear\", 'object':\"1960\"},\n",
        "22: {'subject': \"https://dbpedia.org/resource/The_Beatles\", 'predicate':\"http://xmlns.com/foaf/0.1/name\", 'object':\"The Beatles\"},\n",
        "23: {'subject': \"https://dbpedia.org/resource/The_Beatles\", 'predicate':\"https://www.w3.org/1999/02/22-rdf-syntax-ns#type\", 'object':\"https://dbpedia.org/ontology/Band\"},\n",
        "24: {'subject': \"https://dbpedia.org/resource/Let_It_Be_(Beatles_album)\", 'predicate':\"https://dbpedia.org/ontology/author\", 'object':\"https://dbpedia.org/resource/The_Beatles\"},\n",
        "25: {'subject': \"https://dbpedia.org/resource/Let_It_Be_(Beatles_album)\", 'predicate':\"https://www.w3.org/1999/02/22-rdf-syntax-ns#type\", 'object':\"https://dbpedia.org/ontology/Album\"},\n",
        "26: {'subject': \"https://dbpedia.org/resource/Let_It_Be_(Beatles_album)\", 'predicate':\"http://xmlns.com/foaf/0.1/name\", 'object':\"Let It Be\"},\n",
        "27: {'subject': \"https://dbpedia.org/resource/Let_It_Be_(Beatles_album)\", 'predicate':\"https://dbpedia.org/ontology/abstract\" , 'object':\"Let It Be is the twelfth and final studio album by the English rock band the Beatles. It was released on 8 May 1970, almost a month after the group's break-up, in tandem with the motion picture of the same name. Like most of the band's previous releases, the album topped charts in many countries, including both the US and the UK. The critical response was generally unfavourable, and Let It Be came to be regarded as one of the most controversial rock albums in history. Rehearsals began at Twickenham Film Studios in January 1969 as part of a planned television documentary showing the Beatles' return to live performance. Paul McCartney conceived the project as an attempt to reinvigorate the band by returning to simpler rock and roll configurations. The filmed rehearsals were marked by ill feeling, leading to George Harrison's temporary departure from the group. As a condition of his return, the members reconvened at their own Apple Studio, and guest keyboardist Billy Preston was brought in to contribute. The project yielded a single public concert held on the studio's rooftop on 30 January, from which three of the album's tracks were drawn. In April 1969, the Beatles issued the single 'Get Back', after which engineer Glyn Johns prepared and submitted mixes of the album – titled Get Back and subsequently rejected by the band. The project then lay in limbo as they moved onto the recording of Abbey Road, released that September. In January 1970, four months after John Lennon's departure from the group, the remaining Beatles finished the album with the completion of 'Let It Be' and 'I Me Mine'. The former was issued as a single in March 1970, and like all the album's recording to this point, was produced by George Martin. When the documentary project was resurrected for a cinema release, as Let It Be, Lennon and Harrison asked American producer Phil Spector to assemble the accompanying album. Among Spector's changes was to include a 1968 take of 'Across the Universe' and apply orchestral and choral overdubs to four tracks. His work offended McCartney, particularly in the case of 'The Long and Winding Road'. In 2003, McCartney spearheaded Let It Be... Naked, an alternative version of Let It Be that removes Spector's embellishments. In 2021, a remixed and expanded edition of Let It Be was released with session highlights and the original 1969 Get Back mix.\"}}\n",
        "index = index_.copy()\n"
      ]
    },
    {
      "cell_type": "code",
      "execution_count": null,
      "metadata": {
        "colab": {
          "base_uri": "https://localhost:8080/",
          "height": 35
        },
        "id": "nG5QIS3FNgCz",
        "outputId": "b2a10f10-a0a6-4100-bfd4-93410ca4242e"
      },
      "outputs": [
        {
          "data": {
            "application/vnd.google.colaboratory.intrinsic+json": {
              "type": "string"
            },
            "text/plain": [
              "'https://dbpedia.org/resource/Mona_Lisa'"
            ]
          },
          "execution_count": 3,
          "metadata": {},
          "output_type": "execute_result"
        }
      ],
      "source": [
        "index[8]['subject']"
      ]
    },
    {
      "cell_type": "markdown",
      "metadata": {
        "id": "GkTEeicLNJIi"
      },
      "source": [
        "To create the virtual documents we initially add a new key `description` to the dictionary for each triple, containing an empty string. We add the `s p o` string values to the description, creating a simple virtual document for each triple."
      ]
    },
    {
      "cell_type": "code",
      "execution_count": null,
      "metadata": {
        "id": "53dm6gD5uZ6e"
      },
      "outputs": [],
      "source": [
        "# adding a description to the the basic index (description contains all lower case subjects, objects and predicates)\n",
        "for id in index.keys():\n",
        "    description = \"\"\n",
        "    description += ' ' + str(index[id]['subject']) + ' ' + str(index[id]['predicate']) + ' ' + str(index[id]['object'])    \n",
        "    description = description.lower()\n",
        "\n",
        "    index[id]['description'] = description"
      ]
    },
    {
      "cell_type": "markdown",
      "metadata": {
        "id": "bkeewvQlNNTB"
      },
      "source": [
        "Now that the virtual documents are generated, we can create the inverted index. We initially create a dictionary list item, where the tokens (words) in the document will become the keys of the index. For each token in the set of tokens in the document, create a new token key if the word was not seen in the dictionary before, then append the document number to this token key in the dictionary. When using a token as key for the inverted index, we retrieve all document numbers where this term appears."
      ]
    },
    {
      "cell_type": "code",
      "execution_count": null,
      "metadata": {
        "id": "aIIXiLwlwJvp"
      },
      "outputs": [],
      "source": [
        "from collections import defaultdict\n",
        "\n",
        "inverted_index = defaultdict(list) # creating dictionairy\n",
        "\n",
        "# This can take a few seconds:\n",
        "for id in index.keys():         # ids of triples\n",
        "    term_set = set(index[id]['description'].split(' '))\n",
        "    for term in term_set:\n",
        "        inverted_index[term].append(id) # append each id where term occurs"
      ]
    },
    {
      "cell_type": "code",
      "execution_count": null,
      "metadata": {
        "colab": {
          "base_uri": "https://localhost:8080/"
        },
        "id": "vJKEvlQ5wQuP",
        "outputId": "54c425b6-b1af-49be-886b-6453226bd3d5"
      },
      "outputs": [
        {
          "data": {
            "text/plain": [
              "[22, 27]"
            ]
          },
          "execution_count": 6,
          "metadata": {},
          "output_type": "execute_result"
        }
      ],
      "source": [
        "result = inverted_index['beatles']\n",
        "result"
      ]
    },
    {
      "cell_type": "code",
      "execution_count": null,
      "metadata": {
        "colab": {
          "base_uri": "https://localhost:8080/"
        },
        "id": "a9MZeUpFxY_0",
        "outputId": "51457950-edf5-4dde-9ba8-c5cdb6b03ad2"
      },
      "outputs": [
        {
          "name": "stdout",
          "output_type": "stream",
          "text": [
            "https://dbpedia.org/resource/The_Beatles http://xmlns.com/foaf/0.1/name The Beatles\n",
            "https://dbpedia.org/resource/Let_It_Be_(Beatles_album) https://dbpedia.org/ontology/abstract Let It Be is the twelfth and final studio album by the English rock band the Beatles. It was released on 8 May 1970, almost a month after the group's break-up, in tandem with the motion picture of the same name. Like most of the band's previous releases, the album topped charts in many countries, including both the US and the UK. The critical response was generally unfavourable, and Let It Be came to be regarded as one of the most controversial rock albums in history. Rehearsals began at Twickenham Film Studios in January 1969 as part of a planned television documentary showing the Beatles' return to live performance. Paul McCartney conceived the project as an attempt to reinvigorate the band by returning to simpler rock and roll configurations. The filmed rehearsals were marked by ill feeling, leading to George Harrison's temporary departure from the group. As a condition of his return, the members reconvened at their own Apple Studio, and guest keyboardist Billy Preston was brought in to contribute. The project yielded a single public concert held on the studio's rooftop on 30 January, from which three of the album's tracks were drawn. In April 1969, the Beatles issued the single 'Get Back', after which engineer Glyn Johns prepared and submitted mixes of the album – titled Get Back and subsequently rejected by the band. The project then lay in limbo as they moved onto the recording of Abbey Road, released that September. In January 1970, four months after John Lennon's departure from the group, the remaining Beatles finished the album with the completion of 'Let It Be' and 'I Me Mine'. The former was issued as a single in March 1970, and like all the album's recording to this point, was produced by George Martin. When the documentary project was resurrected for a cinema release, as Let It Be, Lennon and Harrison asked American producer Phil Spector to assemble the accompanying album. Among Spector's changes was to include a 1968 take of 'Across the Universe' and apply orchestral and choral overdubs to four tracks. His work offended McCartney, particularly in the case of 'The Long and Winding Road'. In 2003, McCartney spearheaded Let It Be... Naked, an alternative version of Let It Be that removes Spector's embellishments. In 2021, a remixed and expanded edition of Let It Be was released with session highlights and the original 1969 Get Back mix.\n"
          ]
        }
      ],
      "source": [
        "for id in result:\n",
        "  print(index[id]['subject'], index[id]['predicate'], index[id]['object'])"
      ]
    },
    {
      "cell_type": "markdown",
      "metadata": {
        "id": "ew6rTU1eNSXO"
      },
      "source": [
        "As illustrated, the inverted index only works for single keyword search. However, a user query string with multiple keywords is possible with Boolean Retrieval methods (quering the index for each token in the query string, and returning the intersection or union of the given documents).\n",
        "\n",
        "A noticible problem is that there is a lot of data contained in the IRI that is not retrieved. Moreover,  there are inconsistencies in word forms and capitalization that might not be relevant. Therefore, lemmatization, removal of stopwords, special characters, and saving lowercase tokens will be considered. This will significantly decreases the size of the inverted index. Regarding retrieval, recall will be improved enormously and precision will slightly decrease when the user query string is preprocessed in the same manner as the virtual documents."
      ]
    },
    {
      "cell_type": "markdown",
      "metadata": {
        "id": "B76oar6kiO-3"
      },
      "source": [
        "## Improved Document Processing & Indexing"
      ]
    },
    {
      "cell_type": "markdown",
      "metadata": {
        "id": "qZ_kk6wBxJN6"
      },
      "source": [
        "Noticing that not all Beatle related triples are retrieved! Let's update the processing methods."
      ]
    },
    {
      "cell_type": "code",
      "execution_count": null,
      "metadata": {
        "id": "zGvzdAZ7q8aK"
      },
      "outputs": [],
      "source": [
        "index = index_.copy()"
      ]
    },
    {
      "cell_type": "code",
      "execution_count": null,
      "metadata": {
        "colab": {
          "base_uri": "https://localhost:8080/"
        },
        "id": "dsLZlUt0xIoK",
        "outputId": "7d426f18-80db-481f-b5d0-1e4c4dc5e2f6"
      },
      "outputs": [
        {
          "name": "stdout",
          "output_type": "stream",
          "text": [
            "[nltk_data] Downloading package stopwords to /root/nltk_data...\n",
            "[nltk_data]   Package stopwords is already up-to-date!\n",
            "[nltk_data] Downloading package wordnet to /root/nltk_data...\n",
            "[nltk_data]   Package wordnet is already up-to-date!\n"
          ]
        }
      ],
      "source": [
        "from urllib.parse import urlparse\n",
        "import nltk\n",
        "import re\n",
        "from bs4 import BeautifulSoup\n",
        "nltk.download('stopwords')\n",
        "nltk.download('wordnet')\n",
        "from nltk.corpus import stopwords\n",
        "from nltk.stem import WordNetLemmatizer\n",
        "\n",
        "stop_words = set(stopwords.words(\"english\"))\n",
        "lemmatizer = WordNetLemmatizer()\n",
        "\n",
        "# text preprocessing function for the uri | returns virtual document\n",
        "def URI_processing(URI):\n",
        "  final = ''\n",
        "  # getting resource name from IRI\n",
        "  resource = re.split('#|/',URI)[-1]\n",
        "  # getting domain name from IRI\n",
        "  domain = urlparse(URI).netloc\n",
        "  # remove camelcase from IRI     \n",
        "  un_camel_list = re.split('(?=[A-Z])', resource) \n",
        "  un_camel = ' '.join(un_camel_list).lower() \n",
        "  # remove underscores from IRI\n",
        "  cleaned_resource = un_camel.replace('_',' ')\n",
        "\n",
        "  final += ' ' + URI + ' ' + domain + ' ' + resource + ' ' + cleaned_resource.lower() + ' ' + un_camel # data from URI\n",
        "\n",
        "  return final\n",
        "\n",
        "\n",
        "def litteral_processing(litteral):\n",
        "  #removes special chars\n",
        "  litteral = re.sub('[^A-Za-z0-9]+', ' ', litteral)\n",
        "  #removes non ASCII\n",
        "  litteral = re.sub('[^\\x00-\\x7F]+', ' ', litteral)\n",
        "  #lowering litteral\n",
        "  litteral = litteral.lower()\n",
        "  #removes numbers\n",
        "  litteral = re.sub('\\d+', ' ', litteral)\n",
        "  #removes stopwords\n",
        "  litteral = ' '.join([word for word in litteral.split() if word not in stop_words])\n",
        "  #lemmaziter\n",
        "  litteral = ' '.join([lemmatizer.lemmatize(word) for word in litteral.split()])\n",
        "  #removes double spaces\n",
        "  litteral = re.sub(' +', ' ', litteral)\n",
        "\n",
        "  return litteral\n",
        "\n",
        "\n",
        "for id in index.keys():\n",
        "  sub = index[id]['subject']\n",
        "  pred =index[id]['predicate']\n",
        "  obj = index[id]['object']\n",
        "  description = \"\"\n",
        "\n",
        "  description += URI_processing(sub) + URI_processing(pred)\n",
        "  \n",
        "  # OBJECT CAN BE URI OR LITTERAL\n",
        "  if obj[:5] == 'http':\n",
        "    description += URI_processing(obj) # treat the object as an IRI\n",
        "\n",
        "  # in case the object is a litteral:\n",
        "  else:\n",
        "    description += ' ' + litteral_processing(obj) # processing litteral\n",
        "\n",
        "  index[id]['description'] = description\n"
      ]
    },
    {
      "cell_type": "code",
      "execution_count": null,
      "metadata": {
        "id": "7HWdFjquxJ7e"
      },
      "outputs": [],
      "source": [
        "from collections import defaultdict\n",
        "\n",
        "inverted_index = defaultdict(list) # creating dictionairy\n",
        "\n",
        "# This can take a few seconds:\n",
        "for id in index.keys():         # ids of triples\n",
        "    term_set = set(index[id]['description'].split(' '))\n",
        "    for term in term_set:\n",
        "        inverted_index[term].append(id) # append each id where term occurs"
      ]
    },
    {
      "cell_type": "code",
      "execution_count": null,
      "metadata": {
        "colab": {
          "base_uri": "https://localhost:8080/"
        },
        "id": "joDmuxURW3nB",
        "outputId": "2c5f664d-bd4e-44af-eb5c-efe78ef8c412"
      },
      "outputs": [
        {
          "data": {
            "text/plain": [
              "{1: {'description': ' https://dbpedia.org/resource/Leonardo_da_Vinci dbpedia.org Leonardo_da_Vinci  leonardo da  vinci  leonardo_da_ vinci https://dbpedia.org/ontology/abstract dbpedia.org abstract abstract abstract leonardo da vinci april may italian polymath high renaissance active painter draughtsman engineer scientist theorist sculptor architect fame initially rested achievement painter also became known made drawing note variety subject including anatomy astronomy botany cartography painting paleontology leonardo genius epitomized renaissance humanist ideal collective work compose contribution later generation artist matched younger contemporary michelangelo born wedlock successful notary lower class woman near vinci educated florence italian painter sculptor andrea del verrocchio began career city spent much time service ludovico sforza milan later worked florence milan well briefly rome attracting large following imitator student upon invitation francis spent last three year france died since death time achievement diverse interest personal life empirical thinking failed incite interest admiration making frequent namesake subject culture leonardo among greatest painter history art often credited founder high renaissance despite many lost work le attributed major work including numerous unfinished work created influential painting western art magnum opus mona lisa best known work often regarded world famous painting last supper reproduced religious painting time vitruvian man drawing also regarded cultural icon salvator mundi attributed whole part leonardo sold auction u million setting new record expensive painting ever sold public auction revered technological ingenuity conceptualized flying machine type armored fighting vehicle concentrated solar power adding machine double hull relatively design constructed even feasible lifetime modern scientific approach metallurgy engineering infancy renaissance smaller invention however entered world manufacturing unheralded automated bobbin winder machine testing tensile strength wire made substantial discovery anatomy civil engineering hydrodynamics geology optic tribology publish finding little direct influence subsequent science',\n",
              "  'object': \"Leonardo da Vinci (15 April 1452 – 2 May 1519) was an Italian polymath of the High Renaissance who was active as a painter, draughtsman, engineer, scientist, theorist, sculptor and architect. While his fame initially rested on his achievements as a painter, he also became known for , in which he made drawings and notes on a variety of subjects, including anatomy, astronomy, botany, cartography, painting, and paleontology. Leonardo's genius epitomized the Renaissance humanist ideal, and his collective works compose a contribution to later generations of artists matched only by that of his younger contemporary, Michelangelo. Born out of wedlock to a successful notary and a lower-class woman in, or near, Vinci, he was educated in Florence by the Italian painter and sculptor Andrea del Verrocchio. He began his career in the city, but then spent much time in the service of Ludovico Sforza in Milan. Later, he worked in Florence and Milan again, as well as briefly in Rome, all while attracting a large following of imitators and students. Upon the invitation of Francis I, he spent his last three years in France, where he died in 1519. Since his death, there has not been a time where his achievements, diverse interests, personal life, and empirical thinking have failed to incite interest and admiration, making him a frequent namesake and subject in culture. Leonardo is among the greatest painters in the history of art and is often credited as the founder of the High Renaissance. Despite having many lost works and less than 25 attributed major works—including numerous unfinished works—he created some of the most influential paintings in Western art. His magnum opus, the Mona Lisa, is his best known work and often regarded as the world's most famous painting. The Last Supper is the most reproduced religious painting of all time and his Vitruvian Man drawing is also regarded as a cultural icon. In 2017, Salvator Mundi, attributed in whole or part to Leonardo, was sold at auction for US$450.3 million, setting a new record for the most expensive painting ever sold at public auction. Revered for his technological ingenuity, he conceptualized flying machines, a type of armored fighting vehicle, concentrated solar power, an adding machine, and the double hull. Relatively few of his designs were constructed or even feasible during his lifetime, as the modern scientific approaches to metallurgy and engineering were only in their infancy during the Renaissance. Some of his smaller inventions, however, entered the world of manufacturing unheralded, such as an automated bobbin winder and a machine for testing the tensile strength of wire. He made substantial discoveries in anatomy, civil engineering, hydrodynamics, geology, optics, and tribology, but he did not publish his findings and they had little to no direct influence on subsequent science.\",\n",
              "  'predicate': 'https://dbpedia.org/ontology/abstract',\n",
              "  'subject': 'https://dbpedia.org/resource/Leonardo_da_Vinci'},\n",
              " 2: {'description': ' https://dbpedia.org/resource/Leonardo_da_Vinci dbpedia.org Leonardo_da_Vinci  leonardo da  vinci  leonardo_da_ vinci https://www.w3.org/2000/01/rdf-schema#comment www.w3.org comment comment comment leonardo da vinci april may italian polymath high renaissance active painter draughtsman engineer scientist theorist sculptor architect fame initially rested achievement painter also became known made drawing note variety subject including anatomy astronomy botany cartography painting paleontology leonardo genius epitomized renaissance humanist ideal collective work compose contribution later generation artist matched younger contemporary michelangelo',\n",
              "  'object': \"Leonardo da Vinci (15 April 1452 – 2 May 1519) was an Italian polymath of the High Renaissance who was active as a painter, draughtsman, engineer, scientist, theorist, sculptor and architect. While his fame initially rested on his achievements as a painter, he also became known for , in which he made drawings and notes on a variety of subjects, including anatomy, astronomy, botany, cartography, painting, and paleontology. Leonardo's genius epitomized the Renaissance humanist ideal, and his collective works compose a contribution to later generations of artists matched only by that of his younger contemporary, Michelangelo.\",\n",
              "  'predicate': 'https://www.w3.org/2000/01/rdf-schema#comment',\n",
              "  'subject': 'https://dbpedia.org/resource/Leonardo_da_Vinci'},\n",
              " 3: {'description': ' https://dbpedia.org/resource/Leonardo_da_Vinci dbpedia.org Leonardo_da_Vinci  leonardo da  vinci  leonardo_da_ vinci https://www.w3.org/2000/01/rdf-schema#label www.w3.org label label label leonardo da vinci',\n",
              "  'object': 'Leonardo da Vinci',\n",
              "  'predicate': 'https://www.w3.org/2000/01/rdf-schema#label',\n",
              "  'subject': 'https://dbpedia.org/resource/Leonardo_da_Vinci'},\n",
              " 4: {'description': ' https://dbpedia.org/resource/Leonardo_da_Vinci dbpedia.org Leonardo_da_Vinci  leonardo da  vinci  leonardo_da_ vinci https://www.w3.org/1999/02/22-rdf-syntax-ns#type www.w3.org type type type http dbpedia org resource artist',\n",
              "  'object': 'https://dbpedia.org/resource/Artist',\n",
              "  'predicate': 'https://www.w3.org/1999/02/22-rdf-syntax-ns#type',\n",
              "  'subject': 'https://dbpedia.org/resource/Leonardo_da_Vinci'},\n",
              " 5: {'description': ' https://dbpedia.org/resource/Leonardo_da_Vinci dbpedia.org Leonardo_da_Vinci  leonardo da  vinci  leonardo_da_ vinci https://dbpedia.org/ontology/author dbpedia.org author author author http dbpedia org resource mona lisa',\n",
              "  'object': 'https://dbpedia.org/resource/Mona_Lisa',\n",
              "  'predicate': 'https://dbpedia.org/ontology/author',\n",
              "  'subject': 'https://dbpedia.org/resource/Leonardo_da_Vinci'},\n",
              " 6: {'description': ' https://dbpedia.org/resource/Mona_Lisa dbpedia.org Mona_Lisa  mona  lisa  mona_ lisa https://dbpedia.org/ontology/author dbpedia.org author author author http dbpedia org resource leonardo da vinci',\n",
              "  'object': 'https://dbpedia.org/resource/Leonardo_da_Vinci',\n",
              "  'predicate': 'https://dbpedia.org/ontology/author',\n",
              "  'subject': 'https://dbpedia.org/resource/Mona_Lisa'},\n",
              " 7: {'description': ' https://dbpedia.org/resource/Mona_Lisa dbpedia.org Mona_Lisa  mona  lisa  mona_ lisa https://dbpedia.org/ontology/abstract dbpedia.org abstract abstract abstract mona lisa mo n li italian monna lisa nna li za la gioconda la konda french la joconde la k half length portrait woman italian artist leonardo da vinci acclaimed best known visited written sung parodied work art world painting thought portrait lisa gherardini wife francesco del giocondo oil white lombardy poplar panel believed painted leonardo may continued working late acquired king francis france property french republic permanent display louvre museum paris since subject expression frequently described enigmatic monumentality composition subtle modelling form atmospheric illusionism novel quality contributed continuing fascination study work',\n",
              "  'object': 'The Mona Lisa (/ˌmoʊnə ˈliːsə/; Italian: Monna Lisa [ˈmɔnna ˈliːza] or La Gioconda [la dʒoˈkonda], French: La Joconde [la ʒɔkɔ̃d]) is a half-length portrait of a woman by the Italian artist Leonardo da Vinci, which has been acclaimed as \"the best known, the most visited, the most written about, the most sung about, the most parodied work of art in the world\". The painting, thought to be a portrait of Lisa Gherardini, the wife of Francesco del Giocondo, is in oil on a white Lombardy poplar panel, and is believed to have been painted between 1503 and 1506. Leonardo may have continued working on it as late as 1517. It was acquired by King Francis I of France and is now the property of the French Republic, on permanent display at the Louvre Museum in Paris since 1797. The subject\\'s expression, which is frequently described as enigmatic, the monumentality of the composition, the subtle modelling of forms, and the atmospheric illusionism were novel qualities that have contributed to the continuing fascination and study of the work.',\n",
              "  'predicate': 'https://dbpedia.org/ontology/abstract',\n",
              "  'subject': 'https://dbpedia.org/resource/Mona_Lisa'},\n",
              " 8: {'description': ' https://dbpedia.org/resource/Mona_Lisa dbpedia.org Mona_Lisa  mona  lisa  mona_ lisa https://www.w3.org/1999/02/22-rdf-syntax-ns#type www.w3.org type type type http dbpedia org ontology artwork',\n",
              "  'object': 'https://dbpedia.org/ontology/Artwork',\n",
              "  'predicate': 'https://www.w3.org/1999/02/22-rdf-syntax-ns#type',\n",
              "  'subject': 'https://dbpedia.org/resource/Mona_Lisa'},\n",
              " 9: {'description': ' https://dbpedia.org/resource/Mona_Lisa dbpedia.org Mona_Lisa  mona  lisa  mona_ lisa https://dbpedia.org/ontology/museum dbpedia.org museum museum museum http dbpedia org resource louvre',\n",
              "  'object': 'https://dbpedia.org/resource/Louvre',\n",
              "  'predicate': 'https://dbpedia.org/ontology/museum',\n",
              "  'subject': 'https://dbpedia.org/resource/Mona_Lisa'},\n",
              " 10: {'description': ' http://dbpedia.org/resource/Louvre dbpedia.org Louvre  louvre  louvre https://dbpedia.org/ontology/foundingDate dbpedia.org foundingDate founding date founding date ',\n",
              "  'object': '1793-08-10',\n",
              "  'predicate': 'https://dbpedia.org/ontology/foundingDate',\n",
              "  'subject': 'http://dbpedia.org/resource/Louvre'},\n",
              " 11: {'description': ' http://dbpedia.org/resource/Louvre dbpedia.org Louvre  louvre  louvre https://www.w3.org/2000/01/rdf-schema#label www.w3.org label label label louvre',\n",
              "  'object': 'Louvre',\n",
              "  'predicate': 'https://www.w3.org/2000/01/rdf-schema#label',\n",
              "  'subject': 'http://dbpedia.org/resource/Louvre'},\n",
              " 12: {'description': ' http://dbpedia.org/resource/Louvre dbpedia.org Louvre  louvre  louvre https://dbpedia.org/ontology/abstract dbpedia.org abstract abstract abstract louvre louvre museum french mu e du louvre pronounced myze dy luv french world largest museum historic monument paris france central landmark city located right bank seine city st arrondissement district ward nearly object prehistory st century exhibited area square metre square foot louvre world second visited museum palace museum china receiving million visitor museum housed louvre palace originally built fortress late th century philip ii remnant fortress visible basement museum due urban expansion city fortress eventually lost defensive function converted francis france main residence french king building extended many time form present louvre palace louis xiv chose palace versailles household leaving louvre primarily place display royal collection including collection ancient greek roman sculpture building occupied acad mie de inscription et belle lettres acad mie royale de peinture et de sculpture held first series salon acad mie remained louvre year french revolution national assembly decreed louvre used museum display nation masterpiece museum opened august exhibition painting majority work royal confiscated church property structural problem building museum closed collection increased napoleon museum renamed mu e napol napoleon abdication many work seized army returned original owner collection increased reign louis xviii charles x second french empire museum gained piece holding grown steadily donation bequest since third republic collection divided among eight curatorial department egyptian antiquity near eastern antiquity greek etruscan roman antiquity islamic art sculpture decorative art painting print drawing',\n",
              "  'object': \"The Louvre or the Louvre Museum (French: Musée du Louvre, pronounced: [myze dy luvʁ]) (French ) is the world's  largest museum and a historic monument in Paris, France. A central landmark of the city, it is located on the Right Bank of the Seine in the city's 1st arrondissement (district or ward). Nearly 35,000 objects from prehistory to the 21st century are exhibited over an area of 60,600 square metres (652,300 square feet). The Louvre is the world's second most visited museum after the Palace Museum in China, receiving more than 9.26 million visitors in 2014. The museum is housed in the Louvre Palace, originally built as a fortress in the late 12th century under Philip II. Remnants of the fortress are visible in the basement of the museum. Due to the urban expansion of the city, the fortress eventually lost its defensive function and, in 1546, was converted by Francis I of France into the main residence of the French Kings. The building was extended many times to form the present Louvre Palace. In 1682, Louis XIV chose the Palace of Versailles for his household, leaving the Louvre primarily as a place to display the royal collection, including, from 1692, a collection of ancient Greek and Roman sculpture. In 1692, the building was occupied by the Académie des Inscriptions et Belles Lettres and the Académie Royale de Peinture et de Sculpture, which in 1699 held the first of a series of salons. The Académie remained at the Louvre for 100 years. During the French Revolution, the National Assembly decreed that the Louvre should be used as a museum to display the nation's masterpieces. The museum opened on 10 August 1793 with an exhibition of 537 paintings, the majority of the works being royal and confiscated church property. Because of structural problems with the building, the museum was closed in 1796 until 1801. The collection was increased under Napoleon and the museum renamed the Musée Napoléon, but after Napoleon's abdication many works seized by his armies were returned to their original owners. The collection was further increased during the reigns of Louis XVIII and Charles X, and during the Second French Empire the museum gained 20,000 pieces. Holdings have grown steadily through donations and bequests since the Third Republic. The collection is divided among eight curatorial departments: Egyptian Antiquities; Near Eastern Antiquities; Greek, Etruscan and Roman Antiquities; Islamic Art; Sculpture; Decorative Arts; Paintings; Prints and Drawings\",\n",
              "  'predicate': 'https://dbpedia.org/ontology/abstract',\n",
              "  'subject': 'http://dbpedia.org/resource/Louvre'},\n",
              " 13: {'description': ' https://dbpedia.org/resource/Vincent_van_Gogh dbpedia.org Vincent_van_Gogh  vincent van  gogh  vincent_van_ gogh https://www.w3.org/1999/02/22-rdf-syntax-ns#type www.w3.org type type type http dbpedia org resource artist',\n",
              "  'object': 'https://dbpedia.org/resource/Artist',\n",
              "  'predicate': 'https://www.w3.org/1999/02/22-rdf-syntax-ns#type',\n",
              "  'subject': 'https://dbpedia.org/resource/Vincent_van_Gogh'},\n",
              " 14: {'description': ' https://dbpedia.org/resource/Vincent_van_Gogh dbpedia.org Vincent_van_Gogh  vincent van  gogh  vincent_van_ gogh https://dbpedia.org/ontology/abstract dbpedia.org abstract abstract abstract van gogh redirects us see van gogh disambiguation vincent willem van gogh dutch v n nt l v n x march july dutch post impressionist painter among famous influential figure history western art decade created artwork including around oil painting last two year life include landscape still life portrait self portrait characterised bold symbolic colour dramatic impulsive highly expressive brushwork contributed foundation modern art sold one painting lifetime became famous suicide age followed year poverty mental illness born upper middle class family van gogh drew child serious quiet thoughtful showed sign mental instability young man worked art dealer often travelling became depressed transferred london turned religion spent time missionary southern belgium later drifted ill health solitude keenly aware modernist trend art back parent took painting younger brother theo supported financially two kept long correspondence letter van gogh early work mostly still life depiction peasant labourer contain sign vivid colour distinguished later work moved paris became interested french impressionist work developed created new approach still life local landscape painting grew brighter colour developed style became fully realised stay arles south france lived yellow house french artist paul gauguin developed concept colour symbolised inner emotion period broadened subject matter include olive tree cypress wheat field sunflower van gogh suffered psychotic episode delusion though worried mental stability often neglected physical health eating properly drinking heavily friendship gauguin came end threatened frenchman razor rage cut part left ear psychiatric hospital saint r condition stabilised leading one productive period life moved auberge ravoux auvers sur oise near paris care homeopathic doctor artist paul gachet july van gogh shot chest revolver died injury two day later considered madman failure lifetime van gogh exists public imagination quintessential misunderstood genius artist discourse madness creativity converge reputation began grow early th century element painting style came incorporated fauve german expressionist attained widespread critical commercial popular success ensuing decade remembered important tragic painter whose troubled personality typifies romantic ideal tortured artist',\n",
              "  'object': \"('Van Gogh' redirects here. For other uses, see Van Gogh (disambiguation).) Vincent Willem van Gogh (Dutch: [ˈvɪnsɛnt ˈʋɪləm vɑn ˈɣɔx] ; 30 March 1853 – 29 July 1890) was a Dutch Post-Impressionist painter who is among the most famous and influential figures in the history of Western art. In just over a decade he created about 2100 artworks, including around 860 oil paintings, most of them in the last two years of his life. They include landscapes, still lifes, portraits and self-portraits, and are characterised by bold, symbolic colours, and dramatic, impulsive and highly expressive brushwork that contributed to the foundations of modern art. He sold only one painting during his lifetime and became famous after his suicide at age 37, which followed years of poverty and mental illness. Born into an upper-middle-class family, Van Gogh drew as a child and was serious, quiet and thoughtful, but showed signs of mental instability. As a young man he worked as an art dealer, often travelling, but became depressed after he was transferred to London. He turned to religion, and spent time as a missionary in southern Belgium. Later he drifted in ill health and solitude. He was keenly aware of modernist trends in art and, while back with his parents, took up painting in 1881. His younger brother, Theo, supported him financially, and the two kept up a long correspondence by letter. Van Gogh's early works, mostly still lifes and depictions of peasant labourers, contain few signs of the vivid colour that distinguished his later work. In 1886 he moved to Paris and became interested in the French Impressionists. As his work developed he created a new approach to still lifes and local landscapes. His paintings grew brighter in colour as he developed a style that became fully realised during his stay in Arles in the south of France in 1888. He lived there in the Yellow House and, with the French artist Paul Gauguin, developed a concept of colour that symbolised inner emotion. During this period he broadened his subject matter to include olive trees, cypresses, wheat fields and sunflowers. Van Gogh suffered from psychotic episodes and delusions and, though he worried about his mental stability, he often neglected his physical health, not eating properly and drinking heavily. His friendship with Gauguin came to an end after he threatened the Frenchman with a razor, and in a rage, cut off part of his own left ear. While in a psychiatric hospital in Saint-Rémy his condition stabilised, leading to one of the more productive periods of his life. He moved to the Auberge Ravoux in Auvers-sur-Oise near Paris under the care of the homeopathic doctor and artist, Paul Gachet. On 27 July 1890, Van Gogh shot himself in the chest with a revolver. He died from his injuries two days later. Considered a madman and a failure in his lifetime, Van Gogh exists in the public imagination as the quintessential misunderstood genius, the artist 'where discourses on madness and creativity converge'. His reputation began to grow in the early 20th century as elements of his painting style came to be incorporated by the Fauves and German Expressionists. He attained widespread critical, commercial and popular success over the ensuing decades, and is remembered as an important but tragic painter, whose troubled personality typifies the romantic ideal of the tortured artist.\",\n",
              "  'predicate': 'https://dbpedia.org/ontology/abstract',\n",
              "  'subject': 'https://dbpedia.org/resource/Vincent_van_Gogh'},\n",
              " 15: {'description': ' https://dbpedia.org/resource/Vincent_van_Gogh dbpedia.org Vincent_van_Gogh  vincent van  gogh  vincent_van_ gogh https://dbpedia.org/ontology/birthName dbpedia.org birthName birth name birth name vincent willem van gogh',\n",
              "  'object': 'Vincent Willem van Gogh',\n",
              "  'predicate': 'https://dbpedia.org/ontology/birthName',\n",
              "  'subject': 'https://dbpedia.org/resource/Vincent_van_Gogh'},\n",
              " 16: {'description': ' https://dbpedia.org/resource/The_Starry_Night dbpedia.org The_Starry_Night  the  starry  night  the_ starry_ night https://dbpedia.org/ontology/author dbpedia.org author author author http dbpedia org resource vincent van gogh',\n",
              "  'object': 'https://dbpedia.org/resource/Vincent_van_Gogh',\n",
              "  'predicate': 'https://dbpedia.org/ontology/author',\n",
              "  'subject': 'https://dbpedia.org/resource/The_Starry_Night'},\n",
              " 17: {'description': ' https://dbpedia.org/resource/The_Starry_Night dbpedia.org The_Starry_Night  the  starry  night  the_ starry_ night https://dbpedia.org/property/city dbpedia.org city city city new york city',\n",
              "  'object': 'New York City',\n",
              "  'predicate': 'https://dbpedia.org/property/city',\n",
              "  'subject': 'https://dbpedia.org/resource/The_Starry_Night'},\n",
              " 18: {'description': ' https://dbpedia.org/resource/The_Starry_Night dbpedia.org The_Starry_Night  the  starry  night  the_ starry_ night https://www.w3.org/1999/02/22-rdf-syntax-ns#type www.w3.org type type type http dbpedia org ontology artwork',\n",
              "  'object': 'https://dbpedia.org/ontology/Artwork',\n",
              "  'predicate': 'https://www.w3.org/1999/02/22-rdf-syntax-ns#type',\n",
              "  'subject': 'https://dbpedia.org/resource/The_Starry_Night'},\n",
              " 19: {'description': ' https://dbpedia.org/resource/John_Lennon dbpedia.org John_Lennon  john  lennon  john_ lennon https://www.w3.org/1999/02/22-rdf-syntax-ns#type www.w3.org type type type http dbpedia org resource artist',\n",
              "  'object': 'https://dbpedia.org/resource/Artist',\n",
              "  'predicate': 'https://www.w3.org/1999/02/22-rdf-syntax-ns#type',\n",
              "  'subject': 'https://dbpedia.org/resource/John_Lennon'},\n",
              " 20: {'description': ' https://dbpedia.org/resource/The_Beatles dbpedia.org The_Beatles  the  beatles  the_ beatles https://dbpedia.org/ontology/member dbpedia.org member member member http dbpedia org resource john lennon',\n",
              "  'object': 'https://dbpedia.org/resource/John_Lennon',\n",
              "  'predicate': 'https://dbpedia.org/ontology/member',\n",
              "  'subject': 'https://dbpedia.org/resource/The_Beatles'},\n",
              " 21: {'description': ' https://dbpedia.org/resource/The_Beatles dbpedia.org The_Beatles  the  beatles  the_ beatles https://dbpedia.org/ontology/activeYearsStartYear dbpedia.org activeYearsStartYear active years start year active years start year ',\n",
              "  'object': '1960',\n",
              "  'predicate': 'https://dbpedia.org/ontology/activeYearsStartYear',\n",
              "  'subject': 'https://dbpedia.org/resource/The_Beatles'},\n",
              " 22: {'description': ' https://dbpedia.org/resource/The_Beatles dbpedia.org The_Beatles  the  beatles  the_ beatles http://xmlns.com/foaf/0.1/name xmlns.com name name name beatles',\n",
              "  'object': 'The Beatles',\n",
              "  'predicate': 'http://xmlns.com/foaf/0.1/name',\n",
              "  'subject': 'https://dbpedia.org/resource/The_Beatles'},\n",
              " 23: {'description': ' https://dbpedia.org/resource/The_Beatles dbpedia.org The_Beatles  the  beatles  the_ beatles https://www.w3.org/1999/02/22-rdf-syntax-ns#type www.w3.org type type type http dbpedia org ontology band',\n",
              "  'object': 'https://dbpedia.org/ontology/Band',\n",
              "  'predicate': 'https://www.w3.org/1999/02/22-rdf-syntax-ns#type',\n",
              "  'subject': 'https://dbpedia.org/resource/The_Beatles'},\n",
              " 24: {'description': ' https://dbpedia.org/resource/Let_It_Be_(Beatles_album) dbpedia.org Let_It_Be_(Beatles_album)  let  it  be ( beatles album)  let_ it_ be_( beatles_album) https://dbpedia.org/ontology/author dbpedia.org author author author http dbpedia org resource beatles',\n",
              "  'object': 'https://dbpedia.org/resource/The_Beatles',\n",
              "  'predicate': 'https://dbpedia.org/ontology/author',\n",
              "  'subject': 'https://dbpedia.org/resource/Let_It_Be_(Beatles_album)'},\n",
              " 25: {'description': ' https://dbpedia.org/resource/Let_It_Be_(Beatles_album) dbpedia.org Let_It_Be_(Beatles_album)  let  it  be ( beatles album)  let_ it_ be_( beatles_album) https://www.w3.org/1999/02/22-rdf-syntax-ns#type www.w3.org type type type http dbpedia org ontology album',\n",
              "  'object': 'https://dbpedia.org/ontology/Album',\n",
              "  'predicate': 'https://www.w3.org/1999/02/22-rdf-syntax-ns#type',\n",
              "  'subject': 'https://dbpedia.org/resource/Let_It_Be_(Beatles_album)'},\n",
              " 26: {'description': ' https://dbpedia.org/resource/Let_It_Be_(Beatles_album) dbpedia.org Let_It_Be_(Beatles_album)  let  it  be ( beatles album)  let_ it_ be_( beatles_album) http://xmlns.com/foaf/0.1/name xmlns.com name name name let',\n",
              "  'object': 'Let It Be',\n",
              "  'predicate': 'http://xmlns.com/foaf/0.1/name',\n",
              "  'subject': 'https://dbpedia.org/resource/Let_It_Be_(Beatles_album)'},\n",
              " 27: {'description': ' https://dbpedia.org/resource/Let_It_Be_(Beatles_album) dbpedia.org Let_It_Be_(Beatles_album)  let  it  be ( beatles album)  let_ it_ be_( beatles_album) https://dbpedia.org/ontology/abstract dbpedia.org abstract abstract abstract let twelfth final studio album english rock band beatles released may almost month group break tandem motion picture name like band previous release album topped chart many country including u uk critical response generally unfavourable let came regarded one controversial rock album history rehearsal began twickenham film studio january part planned television documentary showing beatles return live performance paul mccartney conceived project attempt reinvigorate band returning simpler rock roll configuration filmed rehearsal marked ill feeling leading george harrison temporary departure group condition return member reconvened apple studio guest keyboardist billy preston brought contribute project yielded single public concert held studio rooftop january three album track drawn april beatles issued single get back engineer glyn john prepared submitted mix album titled get back subsequently rejected band project lay limbo moved onto recording abbey road released september january four month john lennon departure group remaining beatles finished album completion let mine former issued single march like album recording point produced george martin documentary project resurrected cinema release let lennon harrison asked american producer phil spector assemble accompanying album among spector change include take across universe apply orchestral choral overdubs four track work offended mccartney particularly case long winding road mccartney spearheaded let naked alternative version let remove spector embellishment remixed expanded edition let released session highlight original get back mix',\n",
              "  'object': \"Let It Be is the twelfth and final studio album by the English rock band the Beatles. It was released on 8 May 1970, almost a month after the group's break-up, in tandem with the motion picture of the same name. Like most of the band's previous releases, the album topped charts in many countries, including both the US and the UK. The critical response was generally unfavourable, and Let It Be came to be regarded as one of the most controversial rock albums in history. Rehearsals began at Twickenham Film Studios in January 1969 as part of a planned television documentary showing the Beatles' return to live performance. Paul McCartney conceived the project as an attempt to reinvigorate the band by returning to simpler rock and roll configurations. The filmed rehearsals were marked by ill feeling, leading to George Harrison's temporary departure from the group. As a condition of his return, the members reconvened at their own Apple Studio, and guest keyboardist Billy Preston was brought in to contribute. The project yielded a single public concert held on the studio's rooftop on 30 January, from which three of the album's tracks were drawn. In April 1969, the Beatles issued the single 'Get Back', after which engineer Glyn Johns prepared and submitted mixes of the album – titled Get Back and subsequently rejected by the band. The project then lay in limbo as they moved onto the recording of Abbey Road, released that September. In January 1970, four months after John Lennon's departure from the group, the remaining Beatles finished the album with the completion of 'Let It Be' and 'I Me Mine'. The former was issued as a single in March 1970, and like all the album's recording to this point, was produced by George Martin. When the documentary project was resurrected for a cinema release, as Let It Be, Lennon and Harrison asked American producer Phil Spector to assemble the accompanying album. Among Spector's changes was to include a 1968 take of 'Across the Universe' and apply orchestral and choral overdubs to four tracks. His work offended McCartney, particularly in the case of 'The Long and Winding Road'. In 2003, McCartney spearheaded Let It Be... Naked, an alternative version of Let It Be that removes Spector's embellishments. In 2021, a remixed and expanded edition of Let It Be was released with session highlights and the original 1969 Get Back mix.\",\n",
              "  'predicate': 'https://dbpedia.org/ontology/abstract',\n",
              "  'subject': 'https://dbpedia.org/resource/Let_It_Be_(Beatles_album)'}}"
            ]
          },
          "execution_count": 11,
          "metadata": {},
          "output_type": "execute_result"
        }
      ],
      "source": [
        "index"
      ]
    },
    {
      "cell_type": "code",
      "execution_count": null,
      "metadata": {
        "colab": {
          "base_uri": "https://localhost:8080/"
        },
        "id": "Tqop6ATIM6PC",
        "outputId": "4a94bbba-b697-4434-cb01-7257bb2720b5"
      },
      "outputs": [
        {
          "data": {
            "text/plain": [
              "[20, 21, 22, 23, 24, 25, 26, 27]"
            ]
          },
          "execution_count": 12,
          "metadata": {},
          "output_type": "execute_result"
        }
      ],
      "source": [
        "result = inverted_index['beatles']\n",
        "result"
      ]
    },
    {
      "cell_type": "code",
      "execution_count": null,
      "metadata": {
        "colab": {
          "base_uri": "https://localhost:8080/"
        },
        "id": "epBd0jjzU2Xf",
        "outputId": "b4042df7-c803-4a37-ae6c-7db07c75c9be"
      },
      "outputs": [
        {
          "data": {
            "text/plain": [
              "[20, 21, 22, 23, 24, 25, 26, 27]"
            ]
          },
          "execution_count": 13,
          "metadata": {},
          "output_type": "execute_result"
        }
      ],
      "source": [
        "result = inverted_index[litteral_processing('beatles')]\n",
        "result"
      ]
    },
    {
      "cell_type": "code",
      "execution_count": null,
      "metadata": {
        "colab": {
          "base_uri": "https://localhost:8080/"
        },
        "id": "TLnu4jVyM6zN",
        "outputId": "a6904a4f-2214-4dac-e2d4-ae7080558115"
      },
      "outputs": [
        {
          "name": "stdout",
          "output_type": "stream",
          "text": [
            "https://dbpedia.org/resource/The_Beatles https://dbpedia.org/ontology/member https://dbpedia.org/resource/John_Lennon\n",
            "https://dbpedia.org/resource/The_Beatles https://dbpedia.org/ontology/activeYearsStartYear 1960\n",
            "https://dbpedia.org/resource/The_Beatles http://xmlns.com/foaf/0.1/name The Beatles\n",
            "https://dbpedia.org/resource/The_Beatles https://www.w3.org/1999/02/22-rdf-syntax-ns#type https://dbpedia.org/ontology/Band\n",
            "https://dbpedia.org/resource/Let_It_Be_(Beatles_album) https://dbpedia.org/ontology/author https://dbpedia.org/resource/The_Beatles\n",
            "https://dbpedia.org/resource/Let_It_Be_(Beatles_album) https://www.w3.org/1999/02/22-rdf-syntax-ns#type https://dbpedia.org/ontology/Album\n",
            "https://dbpedia.org/resource/Let_It_Be_(Beatles_album) http://xmlns.com/foaf/0.1/name Let It Be\n",
            "https://dbpedia.org/resource/Let_It_Be_(Beatles_album) https://dbpedia.org/ontology/abstract Let It Be is the twelfth and final studio album by the English rock band the Beatles. It was released on 8 May 1970, almost a month after the group's break-up, in tandem with the motion picture of the same name. Like most of the band's previous releases, the album topped charts in many countries, including both the US and the UK. The critical response was generally unfavourable, and Let It Be came to be regarded as one of the most controversial rock albums in history. Rehearsals began at Twickenham Film Studios in January 1969 as part of a planned television documentary showing the Beatles' return to live performance. Paul McCartney conceived the project as an attempt to reinvigorate the band by returning to simpler rock and roll configurations. The filmed rehearsals were marked by ill feeling, leading to George Harrison's temporary departure from the group. As a condition of his return, the members reconvened at their own Apple Studio, and guest keyboardist Billy Preston was brought in to contribute. The project yielded a single public concert held on the studio's rooftop on 30 January, from which three of the album's tracks were drawn. In April 1969, the Beatles issued the single 'Get Back', after which engineer Glyn Johns prepared and submitted mixes of the album – titled Get Back and subsequently rejected by the band. The project then lay in limbo as they moved onto the recording of Abbey Road, released that September. In January 1970, four months after John Lennon's departure from the group, the remaining Beatles finished the album with the completion of 'Let It Be' and 'I Me Mine'. The former was issued as a single in March 1970, and like all the album's recording to this point, was produced by George Martin. When the documentary project was resurrected for a cinema release, as Let It Be, Lennon and Harrison asked American producer Phil Spector to assemble the accompanying album. Among Spector's changes was to include a 1968 take of 'Across the Universe' and apply orchestral and choral overdubs to four tracks. His work offended McCartney, particularly in the case of 'The Long and Winding Road'. In 2003, McCartney spearheaded Let It Be... Naked, an alternative version of Let It Be that removes Spector's embellishments. In 2021, a remixed and expanded edition of Let It Be was released with session highlights and the original 1969 Get Back mix.\n"
          ]
        }
      ],
      "source": [
        "for id in result:\n",
        "  print(index[id]['subject'], index[id]['predicate'], index[id]['object'])"
      ]
    },
    {
      "cell_type": "markdown",
      "metadata": {
        "id": "XbEAeOdmiyIB"
      },
      "source": [
        "We get 8 results!"
      ]
    },
    {
      "cell_type": "markdown",
      "metadata": {
        "id": "lelubRxfjdvr"
      },
      "source": [
        "The processing could be improved further, with for example lemmatization and stopword removal, however it is currently very informative for the Sonic indexing system, therefore we will export all the documnents to json."
      ]
    },
    {
      "cell_type": "code",
      "execution_count": null,
      "metadata": {
        "id": "Ax0FxrLJtZQY"
      },
      "outputs": [],
      "source": [
        "def inverted_index_search(search_term):\n",
        "  search = inverted_index[search_term]\n",
        "  print(f'The results for {search_term}:')\n",
        "  for id in search:\n",
        "    print(index[id]['subject'], index[id]['predicate'], index[id]['object'])"
      ]
    },
    {
      "cell_type": "code",
      "execution_count": null,
      "metadata": {
        "colab": {
          "base_uri": "https://localhost:8080/"
        },
        "id": "srgyW5PP2ZKV",
        "outputId": "b8d9fa3d-79b8-4ae4-a6f5-2c1a7a3c3b0d"
      },
      "outputs": [
        {
          "name": "stdout",
          "output_type": "stream",
          "text": [
            "The results for museum:\n",
            "https://dbpedia.org/resource/Mona_Lisa https://dbpedia.org/ontology/abstract The Mona Lisa (/ˌmoʊnə ˈliːsə/; Italian: Monna Lisa [ˈmɔnna ˈliːza] or La Gioconda [la dʒoˈkonda], French: La Joconde [la ʒɔkɔ̃d]) is a half-length portrait of a woman by the Italian artist Leonardo da Vinci, which has been acclaimed as \"the best known, the most visited, the most written about, the most sung about, the most parodied work of art in the world\". The painting, thought to be a portrait of Lisa Gherardini, the wife of Francesco del Giocondo, is in oil on a white Lombardy poplar panel, and is believed to have been painted between 1503 and 1506. Leonardo may have continued working on it as late as 1517. It was acquired by King Francis I of France and is now the property of the French Republic, on permanent display at the Louvre Museum in Paris since 1797. The subject's expression, which is frequently described as enigmatic, the monumentality of the composition, the subtle modelling of forms, and the atmospheric illusionism were novel qualities that have contributed to the continuing fascination and study of the work.\n",
            "https://dbpedia.org/resource/Mona_Lisa https://dbpedia.org/ontology/museum https://dbpedia.org/resource/Louvre\n",
            "http://dbpedia.org/resource/Louvre https://dbpedia.org/ontology/abstract The Louvre or the Louvre Museum (French: Musée du Louvre, pronounced: [myze dy luvʁ]) (French ) is the world's  largest museum and a historic monument in Paris, France. A central landmark of the city, it is located on the Right Bank of the Seine in the city's 1st arrondissement (district or ward). Nearly 35,000 objects from prehistory to the 21st century are exhibited over an area of 60,600 square metres (652,300 square feet). The Louvre is the world's second most visited museum after the Palace Museum in China, receiving more than 9.26 million visitors in 2014. The museum is housed in the Louvre Palace, originally built as a fortress in the late 12th century under Philip II. Remnants of the fortress are visible in the basement of the museum. Due to the urban expansion of the city, the fortress eventually lost its defensive function and, in 1546, was converted by Francis I of France into the main residence of the French Kings. The building was extended many times to form the present Louvre Palace. In 1682, Louis XIV chose the Palace of Versailles for his household, leaving the Louvre primarily as a place to display the royal collection, including, from 1692, a collection of ancient Greek and Roman sculpture. In 1692, the building was occupied by the Académie des Inscriptions et Belles Lettres and the Académie Royale de Peinture et de Sculpture, which in 1699 held the first of a series of salons. The Académie remained at the Louvre for 100 years. During the French Revolution, the National Assembly decreed that the Louvre should be used as a museum to display the nation's masterpieces. The museum opened on 10 August 1793 with an exhibition of 537 paintings, the majority of the works being royal and confiscated church property. Because of structural problems with the building, the museum was closed in 1796 until 1801. The collection was increased under Napoleon and the museum renamed the Musée Napoléon, but after Napoleon's abdication many works seized by his armies were returned to their original owners. The collection was further increased during the reigns of Louis XVIII and Charles X, and during the Second French Empire the museum gained 20,000 pieces. Holdings have grown steadily through donations and bequests since the Third Republic. The collection is divided among eight curatorial departments: Egyptian Antiquities; Near Eastern Antiquities; Greek, Etruscan and Roman Antiquities; Islamic Art; Sculpture; Decorative Arts; Paintings; Prints and Drawings\n"
          ]
        }
      ],
      "source": [
        "inverted_index_search('museum')"
      ]
    },
    {
      "cell_type": "code",
      "execution_count": null,
      "metadata": {
        "colab": {
          "base_uri": "https://localhost:8080/"
        },
        "id": "ZoZu0Osb2Zvr",
        "outputId": "c4c34ddc-1c33-4ecb-ccae-876a4f76aee2"
      },
      "outputs": [
        {
          "name": "stdout",
          "output_type": "stream",
          "text": [
            "The results for birth:\n",
            "https://dbpedia.org/resource/Vincent_van_Gogh https://dbpedia.org/ontology/birthName Vincent Willem van Gogh\n"
          ]
        }
      ],
      "source": [
        "inverted_index_search('birth')"
      ]
    },
    {
      "cell_type": "code",
      "execution_count": null,
      "metadata": {
        "colab": {
          "base_uri": "https://localhost:8080/"
        },
        "id": "ia1fPnpv2aUz",
        "outputId": "34deb660-1179-4b9c-c06b-5db1bde659e1"
      },
      "outputs": [
        {
          "name": "stdout",
          "output_type": "stream",
          "text": [
            "The results for name:\n",
            "https://dbpedia.org/resource/Vincent_van_Gogh https://dbpedia.org/ontology/birthName Vincent Willem van Gogh\n",
            "https://dbpedia.org/resource/The_Beatles http://xmlns.com/foaf/0.1/name The Beatles\n",
            "https://dbpedia.org/resource/Let_It_Be_(Beatles_album) http://xmlns.com/foaf/0.1/name Let It Be\n",
            "https://dbpedia.org/resource/Let_It_Be_(Beatles_album) https://dbpedia.org/ontology/abstract Let It Be is the twelfth and final studio album by the English rock band the Beatles. It was released on 8 May 1970, almost a month after the group's break-up, in tandem with the motion picture of the same name. Like most of the band's previous releases, the album topped charts in many countries, including both the US and the UK. The critical response was generally unfavourable, and Let It Be came to be regarded as one of the most controversial rock albums in history. Rehearsals began at Twickenham Film Studios in January 1969 as part of a planned television documentary showing the Beatles' return to live performance. Paul McCartney conceived the project as an attempt to reinvigorate the band by returning to simpler rock and roll configurations. The filmed rehearsals were marked by ill feeling, leading to George Harrison's temporary departure from the group. As a condition of his return, the members reconvened at their own Apple Studio, and guest keyboardist Billy Preston was brought in to contribute. The project yielded a single public concert held on the studio's rooftop on 30 January, from which three of the album's tracks were drawn. In April 1969, the Beatles issued the single 'Get Back', after which engineer Glyn Johns prepared and submitted mixes of the album – titled Get Back and subsequently rejected by the band. The project then lay in limbo as they moved onto the recording of Abbey Road, released that September. In January 1970, four months after John Lennon's departure from the group, the remaining Beatles finished the album with the completion of 'Let It Be' and 'I Me Mine'. The former was issued as a single in March 1970, and like all the album's recording to this point, was produced by George Martin. When the documentary project was resurrected for a cinema release, as Let It Be, Lennon and Harrison asked American producer Phil Spector to assemble the accompanying album. Among Spector's changes was to include a 1968 take of 'Across the Universe' and apply orchestral and choral overdubs to four tracks. His work offended McCartney, particularly in the case of 'The Long and Winding Road'. In 2003, McCartney spearheaded Let It Be... Naked, an alternative version of Let It Be that removes Spector's embellishments. In 2021, a remixed and expanded edition of Let It Be was released with session highlights and the original 1969 Get Back mix.\n"
          ]
        }
      ],
      "source": [
        "inverted_index_search('name')"
      ]
    },
    {
      "cell_type": "markdown",
      "metadata": {},
      "source": [
        "Ranking is not considered in this notebook, but for more information regarding TF-IDF ranking please visit: https://www.geeksforgeeks.org/tf-idf-model-for-page-ranking/#:~:text=tf%2Didf%20stands%20for%20Term,document's%20relevance%20given%20a%20query."
      ]
    },
    {
      "cell_type": "markdown",
      "metadata": {
        "id": "x1wJKML4Nisn"
      },
      "source": [
        "Creating a JSON file for the SONIC index."
      ]
    },
    {
      "cell_type": "code",
      "execution_count": null,
      "metadata": {
        "id": "iXwA9-Sgj1uG"
      },
      "outputs": [],
      "source": [
        "import json\n",
        "\n",
        "with open('data.json', 'w') as fp:\n",
        "    json.dump(index, fp)"
      ]
    },
    {
      "cell_type": "markdown",
      "metadata": {
        "id": "7lDhsF_9pfHn"
      },
      "source": [
        "## Downloading the index dictionary"
      ]
    },
    {
      "cell_type": "code",
      "execution_count": null,
      "metadata": {
        "colab": {
          "base_uri": "https://localhost:8080/",
          "height": 17
        },
        "id": "xmzq2oVIlJ46",
        "outputId": "491aa011-9a1e-4aab-f3c4-763882f53065"
      },
      "outputs": [
        {
          "data": {
            "application/javascript": "\n    async function download(id, filename, size) {\n      if (!google.colab.kernel.accessAllowed) {\n        return;\n      }\n      const div = document.createElement('div');\n      const label = document.createElement('label');\n      label.textContent = `Downloading \"${filename}\": `;\n      div.appendChild(label);\n      const progress = document.createElement('progress');\n      progress.max = size;\n      div.appendChild(progress);\n      document.body.appendChild(div);\n\n      const buffers = [];\n      let downloaded = 0;\n\n      const channel = await google.colab.kernel.comms.open(id);\n      // Send a message to notify the kernel that we're ready.\n      channel.send({})\n\n      for await (const message of channel.messages) {\n        // Send a message to notify the kernel that we're ready.\n        channel.send({})\n        if (message.buffers) {\n          for (const buffer of message.buffers) {\n            buffers.push(buffer);\n            downloaded += buffer.byteLength;\n            progress.value = downloaded;\n          }\n        }\n      }\n      const blob = new Blob(buffers, {type: 'application/binary'});\n      const a = document.createElement('a');\n      a.href = window.URL.createObjectURL(blob);\n      a.download = filename;\n      div.appendChild(a);\n      a.click();\n      div.remove();\n    }\n  ",
            "text/plain": [
              "<IPython.core.display.Javascript object>"
            ]
          },
          "metadata": {},
          "output_type": "display_data"
        },
        {
          "data": {
            "application/javascript": "download(\"download_b556e12f-8564-4d47-9957-cb6287231b78\", \"data.json\", 31985)",
            "text/plain": [
              "<IPython.core.display.Javascript object>"
            ]
          },
          "metadata": {},
          "output_type": "display_data"
        }
      ],
      "source": [
        "# Download the file.\n",
        "from google.colab import files\n",
        "files.download('data.json')"
      ]
    }
  ],
  "metadata": {
    "colab": {
      "name": "Inverted_index_demo.ipynb",
      "provenance": []
    },
    "kernelspec": {
      "display_name": "Python 3",
      "name": "python3"
    },
    "language_info": {
      "name": "python"
    }
  },
  "nbformat": 4,
  "nbformat_minor": 0
}
